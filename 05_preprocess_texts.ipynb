{
 "cells": [
  {
   "cell_type": "code",
   "execution_count": 1,
   "metadata": {},
   "outputs": [
    {
     "data": {
      "text/plain": [
       "Index(['index', 'topic', 'questions', 'gen_questions', 'Imperative Form',\n",
       "       'Question', 'Search String', 'Positive', 'Hard Negative', 'raw_texts'],\n",
       "      dtype='object')"
      ]
     },
     "execution_count": 1,
     "metadata": {},
     "output_type": "execute_result"
    }
   ],
   "source": [
    "import pandas as pd \n",
    "df = pd.read_parquet(\"04_results_texts_v5.parquet\")\n",
    "df.columns"
   ]
  },
  {
   "cell_type": "code",
   "execution_count": 23,
   "metadata": {},
   "outputs": [
    {
     "data": {
      "text/html": [
       "<div>\n",
       "<style scoped>\n",
       "    .dataframe tbody tr th:only-of-type {\n",
       "        vertical-align: middle;\n",
       "    }\n",
       "\n",
       "    .dataframe tbody tr th {\n",
       "        vertical-align: top;\n",
       "    }\n",
       "\n",
       "    .dataframe thead th {\n",
       "        text-align: right;\n",
       "    }\n",
       "</style>\n",
       "<table border=\"1\" class=\"dataframe\">\n",
       "  <thead>\n",
       "    <tr style=\"text-align: right;\">\n",
       "      <th></th>\n",
       "      <th>index</th>\n",
       "      <th>topic</th>\n",
       "      <th>questions</th>\n",
       "      <th>gen_questions</th>\n",
       "      <th>Imperative Form</th>\n",
       "      <th>Question</th>\n",
       "      <th>Search String</th>\n",
       "      <th>Positive</th>\n",
       "      <th>Hard Negative</th>\n",
       "      <th>raw_texts</th>\n",
       "    </tr>\n",
       "  </thead>\n",
       "  <tbody>\n",
       "    <tr>\n",
       "      <th>82650</th>\n",
       "      <td>16512</td>\n",
       "      <td>Kryptographie</td>\n",
       "      <td>Zukunft der Kryptographie und Quantenkryptogra...</td>\n",
       "      <td>Zukunft der Kryptographie und Quantenkryptogra...</td>\n",
       "      <td>\"Erkläre die zukünftige Bedeutung von Quantenk...</td>\n",
       "      <td>\"Welche Rolle wird Quantenkryptographie in der...</td>\n",
       "      <td>Zukunft Kryptographie Quantenkryptographie</td>\n",
       "      <td>NaN</td>\n",
       "      <td>NaN</td>\n",
       "      <td>Hard negative german document (not containing ...</td>\n",
       "    </tr>\n",
       "    <tr>\n",
       "      <th>82649</th>\n",
       "      <td>16512</td>\n",
       "      <td>Kryptographie</td>\n",
       "      <td>Angriffe und Sicherheitslücken in Kryptosystemen</td>\n",
       "      <td>Angriffe und Sicherheitslücken in Kryptosystem...</td>\n",
       "      <td>\"Untersuche bekannte Angriffe auf Kryptosysteme.\"</td>\n",
       "      <td>\"Welche Angriffe sind bekannt für Kryptosysteme?\"</td>\n",
       "      <td>Bekannte Angriffe auf Kryptosysteme</td>\n",
       "      <td>NaN</td>\n",
       "      <td>NaN</td>\n",
       "      <td>Hard negative german document (not containing ...</td>\n",
       "    </tr>\n",
       "    <tr>\n",
       "      <th>82648</th>\n",
       "      <td>16512</td>\n",
       "      <td>Kryptographie</td>\n",
       "      <td>Anwendungen von Kryptographie in Sicherheit un...</td>\n",
       "      <td>Anwendungen von Kryptographie in Sicherheit un...</td>\n",
       "      <td>\"Beschreibe, wie Kryptographie zur Verbesserun...</td>\n",
       "      <td>\"Wie wird Kryptographie in der Sicherheit und ...</td>\n",
       "      <td>Anwendungen Kryptographie Sicherheit Privatsphäre</td>\n",
       "      <td>NaN</td>\n",
       "      <td>NaN</td>\n",
       "      <td>Hard negative german document (not containing ...</td>\n",
       "    </tr>\n",
       "    <tr>\n",
       "      <th>82647</th>\n",
       "      <td>16512</td>\n",
       "      <td>Kryptographie</td>\n",
       "      <td>Vergleich von symmetrischen und asymmetrischen...</td>\n",
       "      <td>Vergleich von symmetrischen und asymmetrischen...</td>\n",
       "      <td>\"Vergleiche die Funktionsweise symmetrischer u...</td>\n",
       "      <td>\"Was ist der Unterschied in der Funktionsweise...</td>\n",
       "      <td>Unterschied symmetrische und asymmetrische Ver...</td>\n",
       "      <td>NaN</td>\n",
       "      <td>NaN</td>\n",
       "      <td>Hard negative german document (not containing ...</td>\n",
       "    </tr>\n",
       "    <tr>\n",
       "      <th>82646</th>\n",
       "      <td>16512</td>\n",
       "      <td>Kryptographie</td>\n",
       "      <td>Geschichte und Entwicklung von Kryptographie</td>\n",
       "      <td>Geschichte und Entwicklung von Kryptographie\\n...</td>\n",
       "      <td>\"Erkläre die Geschichte und Entwicklung der Kr...</td>\n",
       "      <td>\"Wie hat sich die Kryptographie im Laufe der G...</td>\n",
       "      <td>Geschichte und Entwicklung Kryptographie</td>\n",
       "      <td>NaN</td>\n",
       "      <td>NaN</td>\n",
       "      <td>Hard negative german document (not containing ...</td>\n",
       "    </tr>\n",
       "    <tr>\n",
       "      <th>...</th>\n",
       "      <td>...</td>\n",
       "      <td>...</td>\n",
       "      <td>...</td>\n",
       "      <td>...</td>\n",
       "      <td>...</td>\n",
       "      <td>...</td>\n",
       "      <td>...</td>\n",
       "      <td>...</td>\n",
       "      <td>...</td>\n",
       "      <td>...</td>\n",
       "    </tr>\n",
       "    <tr>\n",
       "      <th>4</th>\n",
       "      <td>0</td>\n",
       "      <td>AK-47-Sturmgewehr</td>\n",
       "      <td>AK-47 in verschiedenen Konflikten</td>\n",
       "      <td>AK-47 in verschiedenen Konflikten\\nImperative ...</td>\n",
       "      <td>\"Veranschauliche die Verwendung des AK-47 in v...</td>\n",
       "      <td>\"Wie wurde das AK-47 in verschiedenen Konflikt...</td>\n",
       "      <td>AK-47 Einsatz in Konflikten</td>\n",
       "      <td>NaN</td>\n",
       "      <td>NaN</td>\n",
       "      <td>nan</td>\n",
       "    </tr>\n",
       "    <tr>\n",
       "      <th>3</th>\n",
       "      <td>0</td>\n",
       "      <td>AK-47-Sturmgewehr</td>\n",
       "      <td>Technische Daten der AK-47</td>\n",
       "      <td>Technische Daten der AK-47\\nImperative Form:  ...</td>\n",
       "      <td>\"Notiere die technischen Spezifikationen der A...</td>\n",
       "      <td>\"Welche sind die technischen Spezifikationen d...</td>\n",
       "      <td>technische Daten AK-47</td>\n",
       "      <td>NaN</td>\n",
       "      <td>NaN</td>\n",
       "      <td>nan</td>\n",
       "    </tr>\n",
       "    <tr>\n",
       "      <th>2</th>\n",
       "      <td>0</td>\n",
       "      <td>AK-47-Sturmgewehr</td>\n",
       "      <td>Historischer Hintergrund der AK-47</td>\n",
       "      <td>Historischer Hintergrund der AK-47\\nImperative...</td>\n",
       "      <td>\"Erkläre den historischen Hintergrund der AK-47.\"</td>\n",
       "      <td>\"Was ist der historische Hintergrund der AK-47?\"</td>\n",
       "      <td>historischer Hintergrund AK-47</td>\n",
       "      <td>NaN</td>\n",
       "      <td>NaN</td>\n",
       "      <td>nan</td>\n",
       "    </tr>\n",
       "    <tr>\n",
       "      <th>1</th>\n",
       "      <td>0</td>\n",
       "      <td>AK-47-Sturmgewehr</td>\n",
       "      <td>Vergleich von AK-47 mit anderen Sturmgewehren</td>\n",
       "      <td>Vergleich von AK-47 mit anderen Sturmgewehren\\...</td>\n",
       "      <td>\"Vergleiche die Leistung des AK-47 mit anderen...</td>\n",
       "      <td>\"Wie unterscheidet sich die Leistung des AK-47...</td>\n",
       "      <td>AK-47 Leistungsvergleich mit anderen Sturmgewe...</td>\n",
       "      <td>NaN</td>\n",
       "      <td>NaN</td>\n",
       "      <td>nan</td>\n",
       "    </tr>\n",
       "    <tr>\n",
       "      <th>0</th>\n",
       "      <td>0</td>\n",
       "      <td>AK-47-Sturmgewehr</td>\n",
       "      <td>Waffengesetz-Informationen zur AK-47</td>\n",
       "      <td>Waffengesetz-Informationen zur AK-47\\nImperati...</td>\n",
       "      <td>\"Ermittle, ob die AK-47 in Deutschland als leg...</td>\n",
       "      <td>\"Gilt die AK-47 in Deutschland als legale Schu...</td>\n",
       "      <td>AK-47 Legalität in Deutschland</td>\n",
       "      <td>NaN</td>\n",
       "      <td>NaN</td>\n",
       "      <td>nan</td>\n",
       "    </tr>\n",
       "  </tbody>\n",
       "</table>\n",
       "<p>82651 rows × 10 columns</p>\n",
       "</div>"
      ],
      "text/plain": [
       "       index              topic  \\\n",
       "82650  16512      Kryptographie   \n",
       "82649  16512      Kryptographie   \n",
       "82648  16512      Kryptographie   \n",
       "82647  16512      Kryptographie   \n",
       "82646  16512      Kryptographie   \n",
       "...      ...                ...   \n",
       "4          0  AK-47-Sturmgewehr   \n",
       "3          0  AK-47-Sturmgewehr   \n",
       "2          0  AK-47-Sturmgewehr   \n",
       "1          0  AK-47-Sturmgewehr   \n",
       "0          0  AK-47-Sturmgewehr   \n",
       "\n",
       "                                               questions  \\\n",
       "82650  Zukunft der Kryptographie und Quantenkryptogra...   \n",
       "82649   Angriffe und Sicherheitslücken in Kryptosystemen   \n",
       "82648  Anwendungen von Kryptographie in Sicherheit un...   \n",
       "82647  Vergleich von symmetrischen und asymmetrischen...   \n",
       "82646       Geschichte und Entwicklung von Kryptographie   \n",
       "...                                                  ...   \n",
       "4                      AK-47 in verschiedenen Konflikten   \n",
       "3                             Technische Daten der AK-47   \n",
       "2                     Historischer Hintergrund der AK-47   \n",
       "1          Vergleich von AK-47 mit anderen Sturmgewehren   \n",
       "0                   Waffengesetz-Informationen zur AK-47   \n",
       "\n",
       "                                           gen_questions  \\\n",
       "82650  Zukunft der Kryptographie und Quantenkryptogra...   \n",
       "82649  Angriffe und Sicherheitslücken in Kryptosystem...   \n",
       "82648  Anwendungen von Kryptographie in Sicherheit un...   \n",
       "82647  Vergleich von symmetrischen und asymmetrischen...   \n",
       "82646  Geschichte und Entwicklung von Kryptographie\\n...   \n",
       "...                                                  ...   \n",
       "4      AK-47 in verschiedenen Konflikten\\nImperative ...   \n",
       "3      Technische Daten der AK-47\\nImperative Form:  ...   \n",
       "2      Historischer Hintergrund der AK-47\\nImperative...   \n",
       "1      Vergleich von AK-47 mit anderen Sturmgewehren\\...   \n",
       "0      Waffengesetz-Informationen zur AK-47\\nImperati...   \n",
       "\n",
       "                                         Imperative Form  \\\n",
       "82650  \"Erkläre die zukünftige Bedeutung von Quantenk...   \n",
       "82649  \"Untersuche bekannte Angriffe auf Kryptosysteme.\"   \n",
       "82648  \"Beschreibe, wie Kryptographie zur Verbesserun...   \n",
       "82647  \"Vergleiche die Funktionsweise symmetrischer u...   \n",
       "82646  \"Erkläre die Geschichte und Entwicklung der Kr...   \n",
       "...                                                  ...   \n",
       "4      \"Veranschauliche die Verwendung des AK-47 in v...   \n",
       "3      \"Notiere die technischen Spezifikationen der A...   \n",
       "2      \"Erkläre den historischen Hintergrund der AK-47.\"   \n",
       "1      \"Vergleiche die Leistung des AK-47 mit anderen...   \n",
       "0      \"Ermittle, ob die AK-47 in Deutschland als leg...   \n",
       "\n",
       "                                                Question  \\\n",
       "82650  \"Welche Rolle wird Quantenkryptographie in der...   \n",
       "82649  \"Welche Angriffe sind bekannt für Kryptosysteme?\"   \n",
       "82648  \"Wie wird Kryptographie in der Sicherheit und ...   \n",
       "82647  \"Was ist der Unterschied in der Funktionsweise...   \n",
       "82646  \"Wie hat sich die Kryptographie im Laufe der G...   \n",
       "...                                                  ...   \n",
       "4      \"Wie wurde das AK-47 in verschiedenen Konflikt...   \n",
       "3      \"Welche sind die technischen Spezifikationen d...   \n",
       "2       \"Was ist der historische Hintergrund der AK-47?\"   \n",
       "1      \"Wie unterscheidet sich die Leistung des AK-47...   \n",
       "0      \"Gilt die AK-47 in Deutschland als legale Schu...   \n",
       "\n",
       "                                           Search String  Positive  \\\n",
       "82650         Zukunft Kryptographie Quantenkryptographie       NaN   \n",
       "82649                Bekannte Angriffe auf Kryptosysteme       NaN   \n",
       "82648  Anwendungen Kryptographie Sicherheit Privatsphäre       NaN   \n",
       "82647  Unterschied symmetrische und asymmetrische Ver...       NaN   \n",
       "82646           Geschichte und Entwicklung Kryptographie       NaN   \n",
       "...                                                  ...       ...   \n",
       "4                            AK-47 Einsatz in Konflikten       NaN   \n",
       "3                                 technische Daten AK-47       NaN   \n",
       "2                         historischer Hintergrund AK-47       NaN   \n",
       "1      AK-47 Leistungsvergleich mit anderen Sturmgewe...       NaN   \n",
       "0                         AK-47 Legalität in Deutschland       NaN   \n",
       "\n",
       "       Hard Negative                                          raw_texts  \n",
       "82650            NaN  Hard negative german document (not containing ...  \n",
       "82649            NaN  Hard negative german document (not containing ...  \n",
       "82648            NaN  Hard negative german document (not containing ...  \n",
       "82647            NaN  Hard negative german document (not containing ...  \n",
       "82646            NaN  Hard negative german document (not containing ...  \n",
       "...              ...                                                ...  \n",
       "4                NaN                                                nan  \n",
       "3                NaN                                                nan  \n",
       "2                NaN                                                nan  \n",
       "1                NaN                                                nan  \n",
       "0                NaN                                                nan  \n",
       "\n",
       "[82651 rows x 10 columns]"
      ]
     },
     "execution_count": 23,
     "metadata": {},
     "output_type": "execute_result"
    }
   ],
   "source": [
    "df"
   ]
  },
  {
   "cell_type": "code",
   "execution_count": 24,
   "metadata": {},
   "outputs": [
    {
     "data": {
      "text/plain": [
       "82651"
      ]
     },
     "execution_count": 24,
     "metadata": {},
     "output_type": "execute_result"
    }
   ],
   "source": [
    "len(df)"
   ]
  },
  {
   "cell_type": "code",
   "execution_count": 2,
   "metadata": {},
   "outputs": [
    {
     "data": {
      "text/plain": [
       "24896"
      ]
     },
     "execution_count": 2,
     "metadata": {},
     "output_type": "execute_result"
    }
   ],
   "source": [
    "len(df[df[\"raw_texts\"]!=\"nan\"])"
   ]
  },
  {
   "cell_type": "code",
   "execution_count": 3,
   "metadata": {},
   "outputs": [
    {
     "name": "stdout",
     "output_type": "stream",
     "text": [
      "Politisches-System-Vereinigten-Staaten\n",
      "['\"Erläutere die Beziehung zwischen der Exekutive und der Legislative im politischen System der Vereinigten Staaten.\"'\n",
      " '\"Wie ist die Beziehung zwischen der Exekutive und der Legislative im politischen System der Vereinigten Staaten?\"'\n",
      " 'Beziehung Exekutive Legislative politisches System USA']\n",
      "Hard negative german document (not containing the viable information for the queries!):\n",
      "\n",
      "Die Vereinigten Staaten von Amerika sind eine Bundesrepublik, die aus 50 Bundesstaaten und dem Bundesdistrikt Washington, D.C. besteht. Die Macht in den USA ist auf drei Hauptgewalten aufgeteilt: die Exekutive, die Legislative und die Judikative. Die Exekutive wird durch den Präsidenten und seine Regierung ausgeübt, während die Legislative durch den Kongress, bestehend aus dem Repräsentantenhaus und dem Senat, repräsentiert wird. Die Judikative wird durch das Bundesgerichtssystem dargestellt, angeführt vom Obersten Gerichtshof.\n",
      "\n",
      "Die Exekutive und die Legislative haben unterschiedliche Aufgaben und Verantwortlichkeiten, aber sie arbeiten eng zusammen, um die Interessen der Bürger der Vereinigten Staaten zu schützen. Der Präsident ist für die Umsetzung der Gesetze verantwortlich, während der Kongress für die Gesetzgebung zuständig ist. Der Präsident kann auch Veto-Rechte gegen Gesetze ausüben, die er nicht unterstützt, aber der Kongress kann ein Veto mit einer Zweidrittelmehrheit in beiden Kammern überstimmen.\n",
      "\n",
      "Die Beziehung zwischen der Exekutive und der Legislative ist ein komplexes und dynamisches System, das von vielen Faktoren beeinflusst wird, wie z.B. der politischen Landschaft, der wirtschaftlichen Lage und den Beziehungen zwischen den Parteien. Es ist wichtig zu beachten, dass die Beziehung zwischen der Exekutive und der Legislative im politischen System der Vereinigten Staaten nicht statisch ist und sich im Laufe der Zeit ändern kann.\n",
      "\n",
      "Positive german document (containing the viable information for the queries!):\n",
      "\n",
      "Die Beziehung zwischen der Exekutive und der Legislative im politischen System der Vereinigten Staaten ist ein komplexes und dynamisches System, das von vielen Faktoren beeinflusst wird. Die Exekutive wird durch den Präsidenten und seine Regierung ausgeübt, während die Legislative durch den Kongress, bestehend aus dem Repräsentantenhaus und dem Senat, repräsentiert wird.\n",
      "\n",
      "Die Verfassung der Vereinigten Staaten sieht eine systematische Trennung der Macht zwischen der Exekutive und der Legislative vor, um die Machtkonzentration zu verhindern. Der Präsident ist für die Umsetzung der Gesetze verantwortlich, während der Kongress für die Gesetzgebung zuständig ist. Die Beziehung zwischen der Exekutive und der Legislative ist jedoch nicht nur durch die Trennung der Macht definiert, sondern auch durch die Zusammenarbeit und den Austausch von Informationen.\n",
      "\n",
      "Der Präsident kann Veto-Rechte gegen Gesetze ausüben, die er nicht unterstützt, aber der Kongress kann ein Veto mit einer Zweidrittelmehrheit in beiden Kammern überstimmen. Diese Machtbalance ermöglicht es beiden Seiten, ihre Interessen zu vertreten und sicherzustellen, dass die Gesetze im Einklang mit den Bedürfnissen der Bürger der Vereinigten Staaten stehen.\n",
      "\n",
      "Die Beziehung zwischen der Exekutive und der Legislative ist ein wichtiger Bestandteil des politischen Systems der Vereinigten Staaten und spielt eine entscheidende Rolle bei der Gestaltung der Politik und der Entscheidungsfindung. Die Beziehung ist dynamisch und kann sich im Laufe der Zeit ändern, abhängig von der politischen Landschaft, der wirtschaftlichen Lage und den Beziehungen zwischen den Parteien.\n",
      "Politisches-System-Vereinigten-Staaten\n",
      "['\"Finde Dokumente, die das Zweiparteiensystem der USA ausführlich darstellen.\"'\n",
      " '\"Welche Dokumente geben Auskunft über das Zweiparteiensystem der Vereinigten Staaten?\"'\n",
      " 'Dokumente Zweiparteiensystem Vereinigte Staaten']\n",
      "Hard negative german document (not containing the viable information for the queries!):\n",
      "\n",
      "Die Vereinigten Staaten sind bekannt für ihr einzigartiges politisches System. Ein wichtiger Bestandteil dieses Systems ist die Rolle von Interessengruppen. Diese Gruppen, auch als Lobbying-Gruppen bekannt, versuchen, die Aufmerksamkeit der Politiker auf ihre Anliegen zu lenken. Einige dieser Gruppen sind sehr mächtig und können einen großen Einfluss auf die Politik der USA ausüben.\n",
      "\n",
      "Es gibt verschiedene Arten von Interessengruppen in den USA. Einige vertreten wirtschaftliche Interessen, wie zum Beispiel die National Association of Manufacturers oder die U.S. Chamber of Commerce. Andere Gruppen vertreten soziale oder kulturelle Interessen, wie die National Rifle Association oder die American Civil Liberties Union.\n",
      "\n",
      "Obwohl Interessengruppen eine wichtige Rolle im politischen System der USA spielen, ist ihr Einfluss nicht unbegrenzt. Die Politiker müssen sicherstellen, dass sie im Interesse der Allgemeinheit handeln und nicht nur im Interesse einiger weniger Gruppen. Trotzdem können Interessengruppen eine wichtige Rolle bei der Gestaltung der Politik spielen und können dazu beitragen, dass die Stimmen der Bürger gehört werden.\n",
      "\n",
      "Positive german document (containing the viable information for the queries!):\n",
      "\n",
      "Das Zweiparteiensystem der USA ist ein wichtiger Bestandteil des politischen Systems des Landes. Die beiden großen Parteien, die Demokratische Partei und die Republikanische Partei, haben seit vielen Jahren eine dominierende Stellung in der amerikanischen Politik.\n",
      "\n",
      "Die Demokratische Partei wurde 1828 gegründet und ist bekannt für ihre progressiven und liberalen Ansichten. Die Partei unterstützt in der Regel eine aktive Rolle der Regierung in der Wirtschaft und die Förderung sozialer Gerechtigkeit.\n",
      "\n",
      "Die Republikanische Partei wurde 1854 gegründet und ist bekannt für ihre konservativen und wirtschaftsfreundlichen Ansichten. Die Partei unterstützt in der Regel eine begrenzte Rolle der Regierung in der Wirtschaft und die Förderung von individueller Freiheit.\n",
      "\n",
      "Es gibt auch andere Parteien in den USA, aber sie haben in der Regel nur eine geringe politische Bedeutung. Die beiden großen Parteien haben in der Regel die meisten Sitze in beiden Kammern des Kongresses und stellen in der Regel den Präsidenten.\n",
      "\n",
      "Es gibt viele Dokumente, die das Zweiparteiensystem der USA ausführlich darstellen. Einige empfehlenswerte Quellen sind:\n",
      "\n",
      "* \"The American Party System: An Introduction\" von L. Sandy Maisel\n",
      "* \"The Two-Party System: Why It Works\" von Bruce Oppenheimer\n",
      "* \"The State of the Parties\" von John C. Green und Nathan J. Kelly\n",
      "\n",
      "Diese Dokumente bieten eine detaillierte Darstellung des Zweiparteiensystems der USA und seiner Geschichte, Funktionsweise und Auswirkungen auf die amerikanische Politik.\n",
      "Politisches-System-Vereinigten-Staaten\n",
      "['\"Ermittle die Rolle des Kongresses im politischen System der USA.\"'\n",
      " '\"Welche Rolle spielt der Kongress im politischen System der Vereinigten Staaten?\"'\n",
      " 'Rolle Kongress im politischen System Vereinigte Staaten']\n",
      "Hard negative german document (not containing the viable information for the queries!):\n",
      "\n",
      "Die Vereinigten Staaten von Amerika sind eine Bundesrepublik, die aus 50 Bundesstaaten und dem Bundesdistrikt Washington, D.C. besteht. Die Macht in den USA ist auf drei separate Gewalten aufgeteilt: die Exekutive, die Legislative und die Judikative. Die Exekutive wird durch den Präsidenten und seine Regierung ausgeübt, während die Judikative durch das Bundesgerichtssystem repräsentiert wird.\n",
      "\n",
      "Die Legislative ist eine der drei Gewalten in den USA und wird durch den Kongress ausgeübt. Der Kongress besteht aus zwei Kammern: dem Repräsentantenhaus und dem Senat. Das Repräsentantenhaus besteht aus 435 Mitgliedern, die alle zwei Jahre gewählt werden, während der Senat aus 100 Mitgliedern besteht, von denen zwei pro Bundesstaat gewählt werden und für sechs Jahre im Amt bleiben.\n",
      "\n",
      "Obwohl der Kongress eine wichtige Rolle im politischen System der USA spielt, ist es nicht seine Aufgabe, die Rolle des Kongresses zu bestimmen. Die Rolle des Kongresses wird durch die Verfassung der Vereinigten Staaten festgelegt, die 1787 verabschiedet wurde. Die Verfassung legt die Befugnisse und Pflichten des Kongresses fest, einschließlich der Gesetzgebung, der Bestätigung von Präsidenten- und Bundesrichterernennungen sowie der Aufsicht über die Ausgaben des Bundes.\n",
      "\n",
      "Positive german document (containing the viable information for the queries!):\n",
      "\n",
      "Die Rolle des Kongresses im politischen System der USA ist von entscheidender Bedeutung. Der Kongress ist das gesetzgebende Organ der Bundesregierung und besteht aus zwei Kammern: dem Repräsentantenhaus und dem Senat.\n",
      "\n",
      "Das Repräsentantenhaus ist die untere Kammer des Kongresses und besteht aus 435 Mitgliedern, die alle zwei Jahre gewählt werden. Die Mitglieder des Repräsentantenhauses vertreten die Interessen der Bürger ihres Bundesstaates und sind für die Verabschiedung von Gesetzen auf Bundesebene zuständig.\n",
      "\n",
      "Der Senat ist die obere Kammer des Kongresses und besteht aus 100 Mitgliedern, von denen zwei pro Bundesstaat gewählt werden und für sechs Jahre im Amt bleiben. Der Senat ist für die Bestätigung von Präsidenten- und Bundesrichterernennungen zuständig und hat auch die Befugnis, Gesetze zu ändern oder abzulehnen, die vom Repräsentantenhaus verabschiedet wurden.\n",
      "\n",
      "Der Kongress hat auch die Aufsicht über die Ausgaben des Bundes und kann Untersuchungen durchführen, um sicherzustellen, dass die Bundesbehörden und Agenturen effizient und effektiv arbeiten. Insgesamt spielt der Kongress eine wichtige Rolle bei der Gestaltung der Politik und Gesetzgebung in den Vereinigten Staaten.\n"
     ]
    }
   ],
   "source": [
    "for n, row in df[df[\"raw_texts\"]!=\"nan\"].iloc[-3:].iterrows():\n",
    "    print(row[\"topic\"])\n",
    "    print(row[[\"Imperative Form\", \"Question\", \"Search String\"]].values)\n",
    "    print(row[\"raw_texts\"])"
   ]
  },
  {
   "cell_type": "markdown",
   "metadata": {},
   "source": [
    "# Statistics of Dataset\n",
    "## Characters"
   ]
  },
  {
   "cell_type": "code",
   "execution_count": 4,
   "metadata": {},
   "outputs": [
    {
     "name": "stdout",
     "output_type": "stream",
     "text": [
      "Mean number of characters: 1429.4249477827764\n"
     ]
    }
   ],
   "source": [
    "charlengths = df[df[\"raw_texts\"]!=\"nan\"]['raw_texts'].str.len()\n",
    "mean_char_length = charlengths.mean()\n",
    "characters = mean_char_length/2\n",
    "print(f\"Mean number of characters: {characters}\")\n"
   ]
  },
  {
   "cell_type": "code",
   "execution_count": 5,
   "metadata": {},
   "outputs": [
    {
     "data": {
      "image/png": "[encoded data removed]",
      "text/plain": [
       "<Figure size 640x480 with 1 Axes>"
      ]
     },
     "metadata": {},
     "output_type": "display_data"
    }
   ],
   "source": [
    "import matplotlib.pyplot as plt \n",
    "bins = range(0,4000,32)\n",
    "hist = plt.hist(charlengths/2, bins=bins)\n",
    "title = plt.title(\"Character lengths\")\n",
    "xlabel = plt.xlabel(\"char_lengths\")\n",
    "ylabel = plt.ylabel(\"count\")"
   ]
  },
  {
   "cell_type": "markdown",
   "metadata": {},
   "source": [
    "## Words"
   ]
  },
  {
   "cell_type": "code",
   "execution_count": 6,
   "metadata": {},
   "outputs": [
    {
     "name": "stdout",
     "output_type": "stream",
     "text": [
      "Mean number of words: 190.0577803663239\n"
     ]
    }
   ],
   "source": [
    "import numpy as np \n",
    "word_lengths = df[df[\"raw_texts\"]!=\"nan\"]['raw_texts'].str.split().apply(len)\n",
    "mean_word_length = word_lengths.mean()\n",
    "words = mean_word_length/2\n",
    "print(f\"Mean number of words: {words}\")"
   ]
  },
  {
   "cell_type": "code",
   "execution_count": 7,
   "metadata": {},
   "outputs": [
    {
     "data": {
      "image/png": "[encoded data removed]",
      "text/plain": [
       "<Figure size 640x480 with 1 Axes>"
      ]
     },
     "metadata": {},
     "output_type": "display_data"
    }
   ],
   "source": [
    "import matplotlib.pyplot as plt \n",
    "bins = range(0,600,8)\n",
    "hist = plt.hist(word_lengths/2, bins=bins)\n",
    "title = plt.title(\"Word lengths\")\n",
    "xlabel = plt.xlabel(\"word_lengths\")\n",
    "ylabel = plt.ylabel(\"count\")"
   ]
  },
  {
   "cell_type": "markdown",
   "metadata": {},
   "source": [
    "## Tokens"
   ]
  },
  {
   "cell_type": "code",
   "execution_count": 8,
   "metadata": {},
   "outputs": [
    {
     "name": "stderr",
     "output_type": "stream",
     "text": [
      "Token indices sequence length is longer than the specified maximum sequence length for this model (1174 > 1024). Running this sequence through the model will result in indexing errors\n"
     ]
    },
    {
     "name": "stdout",
     "output_type": "stream",
     "text": [
      "Mean number of words: 499.7821939267352\n"
     ]
    }
   ],
   "source": [
    "from transformers import AutoTokenizer\n",
    "tokenizer = AutoTokenizer.from_pretrained('gpt2')\n",
    "\n",
    "import numpy as np \n",
    "token_lengths = df[df[\"raw_texts\"]!=\"nan\"]['raw_texts'].apply(lambda text: len(tokenizer.encode(text, add_special_tokens=True)))-len(tokenizer.encode(\"Hard negative example (not containing the answer to the questions!):\"))-len(tokenizer.encode(\"Positive example (answering the questions directly):\"))\n",
    "mean_token_length = token_lengths.mean()\n",
    "tokens = mean_token_length/2\n",
    "print(f\"Mean number of words: {tokens}\")\n",
    "\n",
    "\n"
   ]
  },
  {
   "cell_type": "code",
   "execution_count": 9,
   "metadata": {},
   "outputs": [
    {
     "data": {
      "image/png": "[encoded data removed]",
      "text/plain": [
       "<Figure size 640x480 with 1 Axes>"
      ]
     },
     "metadata": {},
     "output_type": "display_data"
    }
   ],
   "source": [
    "import matplotlib.pyplot as plt \n",
    "bins = range(0,2000,16)\n",
    "hist = plt.hist(token_lengths/2, bins=bins)\n",
    "title = plt.title(\"Token lengths\")\n",
    "xlabel = plt.xlabel(\"token_lengths\")\n",
    "ylabel = plt.ylabel(\"count\")"
   ]
  },
  {
   "cell_type": "markdown",
   "metadata": {},
   "source": [
    "# Output-Example"
   ]
  },
  {
   "cell_type": "code",
   "execution_count": 10,
   "metadata": {},
   "outputs": [
    {
     "name": "stdout",
     "output_type": "stream",
     "text": [
      "---------[Questions]---------\n",
      "Imperative Form:\n",
      "\"Erstelle eine Liste mit wichtigen Reisetipps und Sicherheitshinweisen für eine Reise nach Thailand.\"\n",
      "Search String:\n",
      "Reisetipps Thailand Sicherheit\n",
      "Question:\n",
      "\"Was sind wichtige Reisetipps und Sicherheitshinweise für eine Reise nach Thailand?\"\n",
      "---------[Raw Text]---------\n",
      "nan\n"
     ]
    }
   ],
   "source": [
    "from pprint import pprint \n",
    "row = 33\n",
    "print(\"---------[Questions]---------\")\n",
    "print(\"Imperative Form:\")\n",
    "print(df[\"Imperative Form\"][row])\n",
    "print(\"Search String:\")\n",
    "print(df[\"Search String\"][row])\n",
    "print(\"Question:\")\n",
    "print(df[\"Question\"][row])\n",
    "print(\"---------[Raw Text]---------\")\n",
    "print(df[\"raw_texts\"][row])"
   ]
  },
  {
   "cell_type": "code",
   "execution_count": 19,
   "metadata": {},
   "outputs": [
    {
     "name": "stdout",
     "output_type": "stream",
     "text": [
      "---------[Questions]---------\n",
      "Imperative Form:\n",
      "\"Erstelle eine Anleitung zum Nähen eines einfachen T-Shirts.\"\n",
      "Search String:\n",
      "Anleitung T-Shirt selber nähen\n",
      "Question:\n",
      "\"Wie kann ich ein einfaches T-Shirt selber nähen?\"\n",
      "---------[Raw Text]---------\n",
      "Hard negative german document (not containing the viable information for the queries!):\n",
      "\n",
      "Mode ist ein wichtiger Bestandteil unseres täglichen Lebens und spiegelt oft unsere Persönlichkeit und unseren Stil wider. Es gibt verschiedene Arten von Mode, von hochwertigen Designermarken bis hin zu erschwinglichen Fast-Fashion-Ketten. Die Modeindustrie ist jedoch nicht ohne Kritik, da sie oft als ressourcenintensiv und umweltschädlich kritisiert wird.\n",
      "\n",
      "Die Herstellung von Kleidung erfordert eine Menge Wasser, Energie und andere Ressourcen. Darüber hinaus werden viele Kleidungsstücke unter fragwürdigen Arbeitsbedingungen hergestellt, was zu niedrigen Löhnen und schlechten Arbeitsbedingungen für Arbeiterinnen und Arbeiter führt. Ein weiteres Problem ist die schnelle Mode, die dazu führt, dass Kleidung in großen Mengen produziert und nach kurzer Zeit weggeworfen wird.\n",
      "\n",
      "Es gibt jedoch auch positive Entwicklungen in der Modeindustrie. Zunehmend mehr Unternehmen setzen auf nachhaltige Produktionsmethoden und verwenden umweltfreundliche Materialien. Auch die Second-Hand- und Vintage-Mode erlebt einen Aufschwung, was dazu beiträgt, den Ressourcenverbrauch zu reduzieren.\n",
      "\n",
      "Insgesamt ist Mode ein vielschichtiges Thema, das sowohl positive als auch negative Aspekte hat. Es ist wichtig, sich bewusst zu sein, wo und wie unsere Kleidung hergestellt wird, und sich für nachhaltigere und fairere Produktionsmethoden einzusetzen.\n",
      "\n",
      "Positive german document (containing the viable information for the queries!):\n",
      "\n",
      "Wenn Sie ein einfaches T-Shirt selber nähen möchten, benötigen Sie folgende Materialien:\n",
      "\n",
      "* Ein Stück Stoff (z.B. Baumwolle oder Jersey) in der gewünschten Größe\n",
      "* Nähnadel und Faden\n",
      "* Schere\n",
      "* Maßband oder Lineal\n",
      "* Stecknadeln\n",
      "\n",
      "Schritt 1: Schneiden Sie den Stoff in der gewünschten Größe zu. Verwenden Sie dazu ein Maßband oder Lineal, um die Länge und Breite des T-Shirts zu messen. Lassen Sie am Halsausschnitt und an den Ärmeln etwas mehr Stoff für die Nahtzugabe.\n",
      "\n",
      "Schritt 2: Falten Sie den Stoff an der Schulterlinie und stecken Sie die Schulternaht mit Stecknadeln fest.\n",
      "\n",
      "Schritt 3: Nähen Sie die Schulternaht mit der Nähmaschine oder von Hand zusammen.\n",
      "\n",
      "Schritt 4: Falten Sie den Stoff an der Seitennaht und stecken Sie die Naht mit Stecknadeln fest.\n",
      "\n",
      "Schritt 5: Nähen Sie die Seitennaht mit der Nähmaschine oder von Hand zusammen.\n",
      "\n",
      "Schritt 6: Falten Sie den Stoff am Halsausschnitt und stecken Sie die Naht mit Stecknadeln fest. Lassen Sie etwas Platz für den Kopf.\n",
      "\n",
      "Schritt 7: Nähen Sie den Halsausschnitt mit der Nähmaschine oder von Hand zusammen.\n",
      "\n",
      "Schritt 8: Falten Sie den Stoff an den Ärmeln und stecken Sie die Naht mit Stecknadeln fest.\n",
      "\n",
      "Schritt 9: Nähen Sie die Ärmel mit der Nähmaschine oder von Hand zusammen.\n",
      "\n",
      "Schritt 10: Fertig ist Ihr selbstgenähtes T-Shirt!\n",
      "\n",
      "Es gibt verschiedene Möglichkeiten, das T-Shirt zu gestalten, z.B. durch das Hinzufügen von Aufnähern, Drucken oder Sticken. Verwenden Sie Ihre Kreativität und gestalten Sie Ihr T-Shirt nach Ihren Wünschen!\n"
     ]
    }
   ],
   "source": [
    "from pprint import pprint\n",
    "import random \n",
    "\n",
    "row = df[df[\"raw_texts\"]!=\"nan\"].sample(1).index[0]\n",
    "print(\"---------[Questions]---------\")\n",
    "print(\"Imperative Form:\")\n",
    "print(df[\"Imperative Form\"][row])\n",
    "print(\"Search String:\")\n",
    "print(df[\"Search String\"][row])\n",
    "print(\"Question:\")\n",
    "print(df[\"Question\"][row])\n",
    "print(\"---------[Raw Text]---------\")\n",
    "print(df[\"raw_texts\"][row])"
   ]
  },
  {
   "cell_type": "code",
   "execution_count": null,
   "metadata": {},
   "outputs": [],
   "source": []
  },
  {
   "cell_type": "code",
   "execution_count": 463,
   "metadata": {},
   "outputs": [
    {
     "name": "stdout",
     "output_type": "stream",
     "text": [
      "---------[Questions]---------\n",
      "Imperative Form:\n",
      "\"Finden Sie Studien, die die Ursachen des Klimawandels untersuchen.\"\n",
      "Search String:\n",
      "Studien Klimawandel-Ursachen\n",
      "Question:\n",
      "\"Wo kann ich Studien finden, die die Ursachen des Klimawandels untersuchen?\"\n",
      "---------[Raw Text]---------\n",
      "nan\n"
     ]
    }
   ],
   "source": [
    "from pprint import pprint\n",
    "import random \n",
    "\n",
    "row = random.randint(0,len(df[df[\"raw_texts\"]!=\"nan\"]))\n",
    "print(\"---------[Questions]---------\")\n",
    "print(\"Imperative Form:\")\n",
    "print(df[\"Imperative Form\"][row])\n",
    "print(\"Search String:\")\n",
    "print(df[\"Search String\"][row])\n",
    "print(\"Question:\")\n",
    "print(df[\"Question\"][row])\n",
    "print(\"---------[Raw Text]---------\")\n",
    "print(df[\"raw_texts\"][row])"
   ]
  },
  {
   "cell_type": "code",
   "execution_count": 325,
   "metadata": {},
   "outputs": [
    {
     "name": "stdout",
     "output_type": "stream",
     "text": [
      "---------[Questions]---------\n",
      "Imperative Form:\n",
      "\"Finden Sie Informationen über die Integration von erneuerbaren Energien in das Stromnetz.\"\n",
      "Search String:\n",
      "Integration erneuerbarer Energien Stromnetz\n",
      "Question:\n",
      "\"Wie wird die Integration erneuerbarer Energien in das Stromnetz durchgeführt?\"\n",
      "---------[Raw Text]---------\n",
      "Hard negative example (not containing the answer to the questions!):\n",
      "\n",
      "Erneuerbare Energien sind eine wichtige Säule der Energiepolitik und tragen zur Reduzierung von Treibhausgasemissionen bei. Doch wie sieht es mit der Nutzung von Solarenergie in Deutschland aus? Laut Bundesverband Solarwirtschaft e.V. wurden im Jahr 2020 rund 4,8 Gigawatt an Solarenergieleistung installiert. Dies entspricht einem Anstieg von 3 % im Vergleich zum Vorjahr. Doch wie wird die Solarenergie genutzt? In Deutschland wird Solarenergie hauptsächlich zur Stromerzeugung eingesetzt. Die erzeugte Energie wird ins Stromnetz eingespeist und kann so von Verbrauchern genutzt werden. Doch wie funktioniert das Stromnetz überhaupt? Das deutsche Stromnetz ist ein komplexes System von Leitungen, Umspannwerken und Transformatoren, das die Erzeugung, Übertragung und Verteilung von Strom ermöglicht. Doch wie wird das Stromnetz stabil gehalten? Das ist eine komplexe Aufgabe, die eine enge Zusammenarbeit zwischen den Netzbetreibern und der Politik erfordert.\n",
      "\n",
      "Positive example (containing the answer to the questions!):\n",
      "\n",
      "Die Integration erneuerbarer Energien in das Stromnetz ist ein wichtiger Schritt hin zu einer nachhaltigeren Energieversorgung. Doch wie wird diese Integration durchgeführt? Die Integration erfolgt durch eine Kombination aus technischen Lösungen und politischen Maßnahmen. Zum einen müssen die erneuerbaren Energien in das Stromnetz eingespeist werden. Dazu werden sogenannte Einspeisemanagementsysteme eingesetzt, die die Einspeisung von Strom aus erneuerbaren Energien regeln. Zum anderen müssen die erneuerbaren Energien im Stromnetz gespeichert werden, um die Versorgungssicherheit zu gewährleisten. Dazu werden verschiedene Speichertechnologien eingesetzt, wie beispielsweise Pumpspeicherkraftwerke oder Batteriespeicher. Zum anderen müssen die erneuerbaren Energien im Stromnetz transportiert werden. Dazu werden sogenannte Gleichstrom-Hochspannungs-Gleichstrom-Übertragungsleitungen (HGÜ) eingesetzt, die den Strom über weite Strecken transportieren können. Zum anderen müssen die erneuerbaren Energien im Stromnetz verteilt werden. Dazu werden sogenannte Smart Grids eingesetzt, die den Strom intelligent verteilen und so die Versorgungssicherheit gewährleisten. Insgesamt ist die Integration erneuerbarer Energien in das Stromnetz ein komplexer Prozess, der eine enge Zusammenarbeit zwischen Politik, Industrie und Wissenschaft erfordert.\n"
     ]
    }
   ],
   "source": [
    "from pprint import pprint\n",
    "import random \n",
    "\n",
    "row = random.randint(0,len(df[df[\"raw_texts\"]!=\"nan\"]))\n",
    "print(\"---------[Questions]---------\")\n",
    "print(\"Imperative Form:\")\n",
    "print(df[\"Imperative Form\"][row])\n",
    "print(\"Search String:\")\n",
    "print(df[\"Search String\"][row])\n",
    "print(\"Question:\")\n",
    "print(df[\"Question\"][row])\n",
    "print(\"---------[Raw Text]---------\")\n",
    "print(df[\"raw_texts\"][row])"
   ]
  },
  {
   "cell_type": "code",
   "execution_count": 326,
   "metadata": {},
   "outputs": [
    {
     "name": "stdout",
     "output_type": "stream",
     "text": [
      "---------[Questions]---------\n",
      "Imperative Form:\n",
      "\"Suchen Sie nach Artikeln, die die Geschichte der Astronomie beschreiben.\"\n",
      "Search String:\n",
      "Artikel Geschichte der Astronomie\n",
      "Question:\n",
      "\"Wo kann ich Artikel finden, die die Geschichte der Astronomie beschreiben?\"\n",
      "---------[Raw Text]---------\n",
      "Hard negative example (not containing the answer to the questions!):\n",
      "\n",
      "Die Geschichte der Botanik ist ebenso faszinierend wie die Geschichte der Astronomie. Schon vor tausenden von Jahren versuchten Menschen, die Pflanzenwelt zu verstehen und zu kategorisieren. Die alten Griechen und Römer machten erste zaghafte Versuche, Pflanzen zu benennen und zu klassifizieren. Im Mittelalter entwickelten sich dann die Klostergärten, in denen Mönche heimische und exotische Pflanzen anbauten und studierten. Im 16. und 17. Jahrhundert erlebte die Botanik schließlich ihre Blütezeit, als Naturforscher wie Carl von Linné systematische Namen und Klassifikationen für Pflanzen einführten. Auch heute noch ist die Botanik ein aktives Forschungsgebiet, in dem Wissenschaftler neue Arten entdecken und die Beziehungen zwischen Pflanzen und ihrer Umwelt untersuchen.\n",
      "\n",
      "Positive example (answering the questions directly):\n",
      "\n",
      "Wenn Sie nach Artikeln suchen, die die Geschichte der Astronomie beschreiben, empfehle ich Ihnen, die folgenden Websites und Bücher zu besuchen. Eine hervorragende Online-Ressource ist die Website der Europäischen Südsternwarte (ESO), auf der Sie eine Chronik der Astronomiegeschichte finden. Die ESO ist eine internationale Organisation, die sich der Förderung der astronomischen Forschung widmet und mehrere Observatorien in Chile betreibt. Die Chronik umfasst die wichtigsten Entdeckungen und Meilensteine in der Astronomiegeschichte, von den frühesten Beobachtungen des Sternenhimmels bis hin zu den neuesten Erkenntnissen über das Universum.\n",
      "\n",
      "Ein weiterer empfehlenswerter Artikel ist \"Die Geschichte der Astronomie\" von Thomas Hockey, erschienen im Verlag Wiley-VCH. Dieses Buch bietet eine umfassende und gut geschriebene Übersicht über die Entwicklung der Astronomie von der Antike bis zur Gegenwart. Es behandelt die wichtigsten astronomischen Theorien, Instrumente und Persönlichkeiten und erklärt die historischen und kulturellen Kontexte, in denen die Astronomie entstanden ist.\n",
      "\n",
      "Zusätzlich zu diesen Ressourcen gibt es auch viele Online-Magazine und Blogs, die sich der Astronomiegeschichte widmen. Einige Beispiele sind \"Astronomy Now\", \"Sky & Telescope\" und \"Universe Today\". Diese Magazine und Blogs bieten aktuelle Nachrichten, Artikel und Fotostrecken zu verschiedenen astronomischen Themen, darunter auch die Geschichte der Astronomie.\n",
      "\n",
      "Insgesamt gibt es also viele Möglichkeiten, Artikel zur Geschichte der Astronomie zu finden. Ob online oder in Buchform, diese Ressourcen bieten Ihnen eine faszinierende und informative Lektüre über die Entwicklung der Astronomie und ihre Bedeutung für unsere Kultur und Wissenschaft.\n"
     ]
    }
   ],
   "source": [
    "from pprint import pprint\n",
    "import random \n",
    "\n",
    "row = random.randint(0,len(df[df[\"raw_texts\"]!=\"nan\"]))\n",
    "print(\"---------[Questions]---------\")\n",
    "print(\"Imperative Form:\")\n",
    "print(df[\"Imperative Form\"][row])\n",
    "print(\"Search String:\")\n",
    "print(df[\"Search String\"][row])\n",
    "print(\"Question:\")\n",
    "print(df[\"Question\"][row])\n",
    "print(\"---------[Raw Text]---------\")\n",
    "print(df[\"raw_texts\"][row])"
   ]
  },
  {
   "cell_type": "code",
   "execution_count": 352,
   "metadata": {},
   "outputs": [
    {
     "name": "stdout",
     "output_type": "stream",
     "text": [
      "---------[Questions 7964]---------\n",
      "Imperative Form:\n",
      "\"Ermittle Benutzerkonten mit spezifischen Rechten.\"\n",
      "Search String:\n",
      "Benutzerkonten mit bestimmten Rechten finden\n",
      "Question:\n",
      "\"Welche Benutzerkonten besitzen bestimmte Rechte?\"\n",
      "---------[Raw Text]---------\n",
      "Hard negative example (not containing the answer to the questions!):\n",
      "\n",
      "Benutzerkonten sind heutzutage ein wichtiger Bestandteil vieler Online-Dienste und -Plattformen. Ob bei sozialen Medien, E-Commerce-Websites oder Unternehmenssoftware – Benutzerkonten ermöglichen es, individuelle Einstellungen vorzunehmen und persönliche Daten zu speichern. Doch was passiert, wenn man vergisst, sich abzumelden? In vielen Fällen bleibt das Konto aktiv und andere Nutzer können potenziell auf die persönlichen Daten zugreifen. Um dies zu verhindern, sollten Nutzer sich immer abmelden, wenn sie einen Online-Dienst verlassen. Zusätzlich können Zwei-Faktor-Authentifizierung und starke Passwörter dazu beitragen, die Sicherheit von Benutzerkonten zu erhöhen.\n",
      "\n",
      "Positive example (answering the questions directly):\n",
      "\n",
      "Um Benutzerkonten mit spezifischen Rechten zu ermitteln, können Sie die folgenden Schritte ausführen:\n",
      "\n",
      "1. Melden Sie sich bei Ihrem Systemadministratorkonto an.\n",
      "2. Navigieren Sie zum Bereich \"Benutzerverwaltung\" oder \"Benutzerkonten\".\n",
      "3. Suchen Sie nach der Option \"Benutzerrechte\" oder \"Benutzerberechtigungen\".\n",
      "4. Wählen Sie die Rechte aus, die Sie suchen, und klicken Sie auf \"Suchen\" oder \"Filter\".\n",
      "5. Die Benutzerkonten, die über die ausgewählten Rechte verfügen, werden angezeigt.\n",
      "\n",
      "Alternativ können Sie auch die Suchfunktion Ihres Systems verwenden, um nach Benutzerkonten mit bestimmten Rechten zu suchen. Geben Sie dazu einfach den Namen der Rechte in das Suchfeld ein und drücken Sie die Eingabetaste. Die Ergebnisse sollten alle Benutzerkonten anzeigen, die über die gesuchten Rechte verfügen.\n",
      "\n",
      "Wenn Sie sich nicht sicher sind, welche Rechte ein bestimmtes Benutzerkonto besitzt, können Sie das Konto auswählen und die Rechte einsehen. In der Regel wird hier eine Übersicht der Rechte angezeigt, die dem Konto zugewiesen sind.\n"
     ]
    }
   ],
   "source": [
    "from pprint import pprint\n",
    "import random \n",
    "\n",
    "row = random.randint(0,len(df[df[\"raw_texts\"]!=\"nan\"]))\n",
    "print(f\"---------[Questions {row}]---------\")\n",
    "print(\"Imperative Form:\")\n",
    "print(df[\"Imperative Form\"][row])\n",
    "print(\"Search String:\")\n",
    "print(df[\"Search String\"][row])\n",
    "print(\"Question:\")\n",
    "print(df[\"Question\"][row])\n",
    "print(\"---------[Raw Text]---------\")\n",
    "print(df[\"raw_texts\"][row])"
   ]
  },
  {
   "cell_type": "code",
   "execution_count": 328,
   "metadata": {},
   "outputs": [
    {
     "name": "stdout",
     "output_type": "stream",
     "text": [
      "---------[Questions 1319]---------\n",
      "Imperative Form:\n",
      "\"Suche nach Experten, die sich auf antike Möbel spezialisiert haben.\"\n",
      "Search String:\n",
      "Experten antike Möbel\n",
      "Question:\n",
      "\"Wer sind Experten auf dem Gebiet antiker Möbel?\"\n",
      "---------[Raw Text]---------\n",
      "('Hard negative example (not containing the answer to the questions!):\\n'\n",
      " '\\n'\n",
      " 'Die Welt der antiken Möbel ist faszinierend und vielseitig. Von römischen Betten über gotische Truhen bis hin zu barocken Sesseln gibt es eine Fülle von Stilen und Epochen, die '\n",
      " 'die Geschichte der Möbelherstellung erzählen. Doch nicht nur die Optik und die handwerkliche Meisterschaft begeistern Sammler und Enthusiasten. Antike Möbelstücke sind oft auch '\n",
      " 'von historischer Bedeutung und können uns viel über vergangene Kulturen und Lebensweisen verraten. Leider ist es nicht immer einfach, die Echtheit und den Wert antiker Möbel zu '\n",
      " 'bestimmen. Ohne entsprechendes Fachwissen kann man schnell auf Fälschungen hereinfallen oder den wahren Wert eines Stückes unterschätzen. Daher ist es ratsam, sich vor dem Kauf '\n",
      " 'von antiken Möbeln gründlich zu informieren und gegebenenfalls einen Experten hinzuzuziehen.\\n'\n",
      " '\\n'\n",
      " 'Positive example (answering the questions directly):\\n'\n",
      " '\\n'\n",
      " 'Wenn Sie auf der Suche nach Experten auf dem Gebiet antiker Möbel sind, gibt es verschiedene Möglichkeiten, fachkundige Beratung und Unterstützung zu finden. Eine Möglichkeit '\n",
      " 'ist der Besuch von Antiquitätenmessen oder -auktionen, auf denen Sie nicht nur seltene und wertvolle Stücke finden, sondern auch mit Händlern und Experten in Kontakt kommen '\n",
      " 'können. Auch Fachgeschäfte für antike Möbel können Ihnen weiterhelfen. Hier können Sie sich von kompetenten Verkäufern beraten lassen und sich ein Bild von der Qualität und '\n",
      " 'Echtheit der angebotenen Stücke machen. Wenn Sie sich für eine bestimmte Epoche oder einen Stil interessieren, können Sie sich auch an spezialisierte Vereine oder Museen '\n",
      " 'wenden, die oft über eigene Expertengruppen verfügen. Ein weiterer Anlaufpunkt können Online-Foren oder Social-Media-Gruppen sein, in denen Sammler und Enthusiasten ihre '\n",
      " 'Erfahrungen und ihr Wissen teilen.\\n'\n",
      " '\\n'\n",
      " 'Um einen Experten für antike Möbel zu finden, sollten Sie auf seine Qualifikationen und Erfahrungen achten. Seriöse Experten verfügen oft über eine Ausbildung in '\n",
      " 'Kunstgeschichte, Restaurierung oder Antiquitätenhandel und können Ihnen nicht nur bei der Einschätzung des Wertes, sondern auch bei der Pflege und Restaurierung Ihrer Schätze '\n",
      " 'helfen. Achten Sie auch auf Empfehlungen und Referenzen von anderen Kunden und lassen Sie sich im Zweifelsfall mehrere Meinungen einholen, um sicherzugehen, dass Sie es mit '\n",
      " 'einem kompetenten und vertrauenswürdigen Experten zu tun haben.')\n"
     ]
    }
   ],
   "source": [
    "from pprint import pprint\n",
    "import random \n",
    "\n",
    "row = random.randint(0,len(df[df[\"raw_texts\"]!=\"nan\"]))\n",
    "print(f\"---------[Questions {row}]---------\")\n",
    "print(\"Imperative Form:\")\n",
    "print(df[\"Imperative Form\"][row])\n",
    "print(\"Search String:\")\n",
    "print(df[\"Search String\"][row])\n",
    "print(\"Question:\")\n",
    "print(df[\"Question\"][row])\n",
    "print(\"---------[Raw Text]---------\")\n",
    "pprint(df[\"raw_texts\"][row], width=180)"
   ]
  },
  {
   "cell_type": "code",
   "execution_count": 362,
   "metadata": {},
   "outputs": [
    {
     "name": "stdout",
     "output_type": "stream",
     "text": [
      "---------[Questions 13535]---------\n",
      "Imperative Form:\n",
      "\"Suche nach Lehrbüchern zum Thema Maschinelles Lernen\"\n",
      "Search String:\n",
      "Lehrbücher Maschinelles Lernen kaufen\n",
      "Question:\n",
      "\"Wo kann ich Lehrbücher und Kursmaterialien zum Thema Maschinelles Lernen finden?\"\n",
      "---------[Raw Text]---------\n",
      "('Hard negative example (not containing the answer to the questions!):\\n'\n",
      " '\\n'\n",
      " 'Maschinelles Lernen ist ein faszinierendes und zunehmend relevantes Feld in der Informatik und Datenwissenschaft. Es beinhaltet die Entwicklung von Algorithmen, die automatisch '\n",
      " 'Muster und Strukturen in Daten erkennen und daraus Schlussfolgerungen ziehen können. Obwohl es eng mit der künstlichen Intelligenz verwandt ist, liegt der Fokus von '\n",
      " 'Maschinellem Lernen auf der Verbesserung von Systemleistung durch Erfahrung, anstatt explizites Wissen zu codieren.\\n'\n",
      " '\\n'\n",
      " 'In der Praxis wird Maschinelles Lernen in vielen Anwendungen eingesetzt, wie zum Beispiel in der Bild- und Spracherkennung, Empfehlungssystemen, und in der medizinischen '\n",
      " 'Diagnostik. Um mit Maschinellem Lernen zu beginnen, ist es jedoch wichtig, die Grundlagen der Mathematik und Statistik zu verstehen, die für die Algorithmenentwicklung '\n",
      " 'notwendig sind.\\n'\n",
      " '\\n'\n",
      " 'Positive example (answering the questions directly):\\n'\n",
      " '\\n'\n",
      " 'Wenn Sie auf der Suche nach Lehrbüchern und Kursmaterialien zum Thema Maschinelles Lernen sind, gibt es zahlreiche Ressourcen, die Ihnen helfen können. Ein empfohlenes Lehrbuch '\n",
      " 'ist \"Einführung in Maschinelles Lernen\" von Alpaydin, das die Grundlagen des Maschinellen Lernens verständlich erklärt und viele praktische Beispiele enthält.\\n'\n",
      " '\\n'\n",
      " 'Eine weitere hervorragende Ressource ist die Online-Plattform Coursera, die eine Vielzahl von Kursen zum Thema Maschinelles Lernen anbietet, darunter auch ein kostenloser Kurs '\n",
      " 'von Andrew Ng, einem führenden Experten auf diesem Gebiet.\\n'\n",
      " '\\n'\n",
      " 'Wenn Sie lieber physische Bücher kaufen möchten, können Sie diese bei Online-Händlern wie Amazon oder bei lokalen Buchhandlungen finden. Achten Sie darauf, die Bewertungen und '\n",
      " 'Rezensionen der Bücher zu lesen, um sicherzustellen, dass sie Ihren Bedürfnissen und Erwartungen entsprechen.\\n'\n",
      " '\\n'\n",
      " 'Zusammenfassend gibt es viele Möglichkeiten, Lehrbücher und Kursmaterialien zum Thema Maschinelles Lernen zu finden. Es ist wichtig, die richtigen Ressourcen zu wählen, die '\n",
      " 'Ihren Lernstil und Ihr Niveau entsprechen, um das Beste aus Ihrem Lernprozess herauszuholen.')\n"
     ]
    }
   ],
   "source": [
    "from pprint import pprint\n",
    "import random \n",
    "\n",
    "row = random.randint(0,len(df[df[\"raw_texts\"]!=\"nan\"]))\n",
    "print(f\"---------[Questions {row}]---------\")\n",
    "print(\"Imperative Form:\")\n",
    "print(df[\"Imperative Form\"][row])\n",
    "print(\"Search String:\")\n",
    "print(df[\"Search String\"][row])\n",
    "print(\"Question:\")\n",
    "print(df[\"Question\"][row])\n",
    "print(\"---------[Raw Text]---------\")\n",
    "pprint(df[\"raw_texts\"][row], width=180)"
   ]
  }
 ],
 "metadata": {
  "kernelspec": {
   "display_name": "qnovi_app",
   "language": "python",
   "name": "python3"
  },
  "language_info": {
   "codemirror_mode": {
    "name": "ipython",
    "version": 3
   },
   "file_extension": ".py",
   "mimetype": "text/x-python",
   "name": "python",
   "nbconvert_exporter": "python",
   "pygments_lexer": "ipython3",
   "version": "3.11.7"
  }
 },
 "nbformat": 4,
 "nbformat_minor": 2
}
