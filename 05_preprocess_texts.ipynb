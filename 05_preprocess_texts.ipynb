{
 "cells": [
  {
   "cell_type": "code",
   "execution_count": 22,
   "metadata": {},
   "outputs": [
    {
     "data": {
      "text/plain": [
       "Index(['index', 'topic', 'questions', 'gen_questions', 'Imperative Form',\n",
       "       'Question', 'Search String', 'Positive', 'Hard Negative', 'raw_texts'],\n",
       "      dtype='object')"
      ]
     },
     "execution_count": 22,
     "metadata": {},
     "output_type": "execute_result"
    }
   ],
   "source": [
    "import pandas as pd \n",
    "df = pd.read_parquet(\"04_results_texts_v5.parquet\")\n",
    "df.columns"
   ]
  },
  {
   "cell_type": "code",
   "execution_count": 23,
   "metadata": {},
   "outputs": [
    {
     "data": {
      "text/html": [
       "<div>\n",
       "<style scoped>\n",
       "    .dataframe tbody tr th:only-of-type {\n",
       "        vertical-align: middle;\n",
       "    }\n",
       "\n",
       "    .dataframe tbody tr th {\n",
       "        vertical-align: top;\n",
       "    }\n",
       "\n",
       "    .dataframe thead th {\n",
       "        text-align: right;\n",
       "    }\n",
       "</style>\n",
       "<table border=\"1\" class=\"dataframe\">\n",
       "  <thead>\n",
       "    <tr style=\"text-align: right;\">\n",
       "      <th></th>\n",
       "      <th>index</th>\n",
       "      <th>topic</th>\n",
       "      <th>questions</th>\n",
       "      <th>gen_questions</th>\n",
       "      <th>Imperative Form</th>\n",
       "      <th>Question</th>\n",
       "      <th>Search String</th>\n",
       "      <th>Positive</th>\n",
       "      <th>Hard Negative</th>\n",
       "      <th>raw_texts</th>\n",
       "    </tr>\n",
       "  </thead>\n",
       "  <tbody>\n",
       "    <tr>\n",
       "      <th>82650</th>\n",
       "      <td>16512</td>\n",
       "      <td>Kryptographie</td>\n",
       "      <td>Zukunft der Kryptographie und Quantenkryptogra...</td>\n",
       "      <td>Zukunft der Kryptographie und Quantenkryptogra...</td>\n",
       "      <td>\"Erkläre die zukünftige Bedeutung von Quantenk...</td>\n",
       "      <td>\"Welche Rolle wird Quantenkryptographie in der...</td>\n",
       "      <td>Zukunft Kryptographie Quantenkryptographie</td>\n",
       "      <td>NaN</td>\n",
       "      <td>NaN</td>\n",
       "      <td>Hard negative german document (not containing ...</td>\n",
       "    </tr>\n",
       "    <tr>\n",
       "      <th>82649</th>\n",
       "      <td>16512</td>\n",
       "      <td>Kryptographie</td>\n",
       "      <td>Angriffe und Sicherheitslücken in Kryptosystemen</td>\n",
       "      <td>Angriffe und Sicherheitslücken in Kryptosystem...</td>\n",
       "      <td>\"Untersuche bekannte Angriffe auf Kryptosysteme.\"</td>\n",
       "      <td>\"Welche Angriffe sind bekannt für Kryptosysteme?\"</td>\n",
       "      <td>Bekannte Angriffe auf Kryptosysteme</td>\n",
       "      <td>NaN</td>\n",
       "      <td>NaN</td>\n",
       "      <td>Hard negative german document (not containing ...</td>\n",
       "    </tr>\n",
       "    <tr>\n",
       "      <th>82648</th>\n",
       "      <td>16512</td>\n",
       "      <td>Kryptographie</td>\n",
       "      <td>Anwendungen von Kryptographie in Sicherheit un...</td>\n",
       "      <td>Anwendungen von Kryptographie in Sicherheit un...</td>\n",
       "      <td>\"Beschreibe, wie Kryptographie zur Verbesserun...</td>\n",
       "      <td>\"Wie wird Kryptographie in der Sicherheit und ...</td>\n",
       "      <td>Anwendungen Kryptographie Sicherheit Privatsphäre</td>\n",
       "      <td>NaN</td>\n",
       "      <td>NaN</td>\n",
       "      <td>Hard negative german document (not containing ...</td>\n",
       "    </tr>\n",
       "    <tr>\n",
       "      <th>82647</th>\n",
       "      <td>16512</td>\n",
       "      <td>Kryptographie</td>\n",
       "      <td>Vergleich von symmetrischen und asymmetrischen...</td>\n",
       "      <td>Vergleich von symmetrischen und asymmetrischen...</td>\n",
       "      <td>\"Vergleiche die Funktionsweise symmetrischer u...</td>\n",
       "      <td>\"Was ist der Unterschied in der Funktionsweise...</td>\n",
       "      <td>Unterschied symmetrische und asymmetrische Ver...</td>\n",
       "      <td>NaN</td>\n",
       "      <td>NaN</td>\n",
       "      <td>Hard negative german document (not containing ...</td>\n",
       "    </tr>\n",
       "    <tr>\n",
       "      <th>82646</th>\n",
       "      <td>16512</td>\n",
       "      <td>Kryptographie</td>\n",
       "      <td>Geschichte und Entwicklung von Kryptographie</td>\n",
       "      <td>Geschichte und Entwicklung von Kryptographie\\n...</td>\n",
       "      <td>\"Erkläre die Geschichte und Entwicklung der Kr...</td>\n",
       "      <td>\"Wie hat sich die Kryptographie im Laufe der G...</td>\n",
       "      <td>Geschichte und Entwicklung Kryptographie</td>\n",
       "      <td>NaN</td>\n",
       "      <td>NaN</td>\n",
       "      <td>Hard negative german document (not containing ...</td>\n",
       "    </tr>\n",
       "    <tr>\n",
       "      <th>...</th>\n",
       "      <td>...</td>\n",
       "      <td>...</td>\n",
       "      <td>...</td>\n",
       "      <td>...</td>\n",
       "      <td>...</td>\n",
       "      <td>...</td>\n",
       "      <td>...</td>\n",
       "      <td>...</td>\n",
       "      <td>...</td>\n",
       "      <td>...</td>\n",
       "    </tr>\n",
       "    <tr>\n",
       "      <th>4</th>\n",
       "      <td>0</td>\n",
       "      <td>AK-47-Sturmgewehr</td>\n",
       "      <td>AK-47 in verschiedenen Konflikten</td>\n",
       "      <td>AK-47 in verschiedenen Konflikten\\nImperative ...</td>\n",
       "      <td>\"Veranschauliche die Verwendung des AK-47 in v...</td>\n",
       "      <td>\"Wie wurde das AK-47 in verschiedenen Konflikt...</td>\n",
       "      <td>AK-47 Einsatz in Konflikten</td>\n",
       "      <td>NaN</td>\n",
       "      <td>NaN</td>\n",
       "      <td>nan</td>\n",
       "    </tr>\n",
       "    <tr>\n",
       "      <th>3</th>\n",
       "      <td>0</td>\n",
       "      <td>AK-47-Sturmgewehr</td>\n",
       "      <td>Technische Daten der AK-47</td>\n",
       "      <td>Technische Daten der AK-47\\nImperative Form:  ...</td>\n",
       "      <td>\"Notiere die technischen Spezifikationen der A...</td>\n",
       "      <td>\"Welche sind die technischen Spezifikationen d...</td>\n",
       "      <td>technische Daten AK-47</td>\n",
       "      <td>NaN</td>\n",
       "      <td>NaN</td>\n",
       "      <td>nan</td>\n",
       "    </tr>\n",
       "    <tr>\n",
       "      <th>2</th>\n",
       "      <td>0</td>\n",
       "      <td>AK-47-Sturmgewehr</td>\n",
       "      <td>Historischer Hintergrund der AK-47</td>\n",
       "      <td>Historischer Hintergrund der AK-47\\nImperative...</td>\n",
       "      <td>\"Erkläre den historischen Hintergrund der AK-47.\"</td>\n",
       "      <td>\"Was ist der historische Hintergrund der AK-47?\"</td>\n",
       "      <td>historischer Hintergrund AK-47</td>\n",
       "      <td>NaN</td>\n",
       "      <td>NaN</td>\n",
       "      <td>nan</td>\n",
       "    </tr>\n",
       "    <tr>\n",
       "      <th>1</th>\n",
       "      <td>0</td>\n",
       "      <td>AK-47-Sturmgewehr</td>\n",
       "      <td>Vergleich von AK-47 mit anderen Sturmgewehren</td>\n",
       "      <td>Vergleich von AK-47 mit anderen Sturmgewehren\\...</td>\n",
       "      <td>\"Vergleiche die Leistung des AK-47 mit anderen...</td>\n",
       "      <td>\"Wie unterscheidet sich die Leistung des AK-47...</td>\n",
       "      <td>AK-47 Leistungsvergleich mit anderen Sturmgewe...</td>\n",
       "      <td>NaN</td>\n",
       "      <td>NaN</td>\n",
       "      <td>nan</td>\n",
       "    </tr>\n",
       "    <tr>\n",
       "      <th>0</th>\n",
       "      <td>0</td>\n",
       "      <td>AK-47-Sturmgewehr</td>\n",
       "      <td>Waffengesetz-Informationen zur AK-47</td>\n",
       "      <td>Waffengesetz-Informationen zur AK-47\\nImperati...</td>\n",
       "      <td>\"Ermittle, ob die AK-47 in Deutschland als leg...</td>\n",
       "      <td>\"Gilt die AK-47 in Deutschland als legale Schu...</td>\n",
       "      <td>AK-47 Legalität in Deutschland</td>\n",
       "      <td>NaN</td>\n",
       "      <td>NaN</td>\n",
       "      <td>nan</td>\n",
       "    </tr>\n",
       "  </tbody>\n",
       "</table>\n",
       "<p>82651 rows × 10 columns</p>\n",
       "</div>"
      ],
      "text/plain": [
       "       index              topic  \\\n",
       "82650  16512      Kryptographie   \n",
       "82649  16512      Kryptographie   \n",
       "82648  16512      Kryptographie   \n",
       "82647  16512      Kryptographie   \n",
       "82646  16512      Kryptographie   \n",
       "...      ...                ...   \n",
       "4          0  AK-47-Sturmgewehr   \n",
       "3          0  AK-47-Sturmgewehr   \n",
       "2          0  AK-47-Sturmgewehr   \n",
       "1          0  AK-47-Sturmgewehr   \n",
       "0          0  AK-47-Sturmgewehr   \n",
       "\n",
       "                                               questions  \\\n",
       "82650  Zukunft der Kryptographie und Quantenkryptogra...   \n",
       "82649   Angriffe und Sicherheitslücken in Kryptosystemen   \n",
       "82648  Anwendungen von Kryptographie in Sicherheit un...   \n",
       "82647  Vergleich von symmetrischen und asymmetrischen...   \n",
       "82646       Geschichte und Entwicklung von Kryptographie   \n",
       "...                                                  ...   \n",
       "4                      AK-47 in verschiedenen Konflikten   \n",
       "3                             Technische Daten der AK-47   \n",
       "2                     Historischer Hintergrund der AK-47   \n",
       "1          Vergleich von AK-47 mit anderen Sturmgewehren   \n",
       "0                   Waffengesetz-Informationen zur AK-47   \n",
       "\n",
       "                                           gen_questions  \\\n",
       "82650  Zukunft der Kryptographie und Quantenkryptogra...   \n",
       "82649  Angriffe und Sicherheitslücken in Kryptosystem...   \n",
       "82648  Anwendungen von Kryptographie in Sicherheit un...   \n",
       "82647  Vergleich von symmetrischen und asymmetrischen...   \n",
       "82646  Geschichte und Entwicklung von Kryptographie\\n...   \n",
       "...                                                  ...   \n",
       "4      AK-47 in verschiedenen Konflikten\\nImperative ...   \n",
       "3      Technische Daten der AK-47\\nImperative Form:  ...   \n",
       "2      Historischer Hintergrund der AK-47\\nImperative...   \n",
       "1      Vergleich von AK-47 mit anderen Sturmgewehren\\...   \n",
       "0      Waffengesetz-Informationen zur AK-47\\nImperati...   \n",
       "\n",
       "                                         Imperative Form  \\\n",
       "82650  \"Erkläre die zukünftige Bedeutung von Quantenk...   \n",
       "82649  \"Untersuche bekannte Angriffe auf Kryptosysteme.\"   \n",
       "82648  \"Beschreibe, wie Kryptographie zur Verbesserun...   \n",
       "82647  \"Vergleiche die Funktionsweise symmetrischer u...   \n",
       "82646  \"Erkläre die Geschichte und Entwicklung der Kr...   \n",
       "...                                                  ...   \n",
       "4      \"Veranschauliche die Verwendung des AK-47 in v...   \n",
       "3      \"Notiere die technischen Spezifikationen der A...   \n",
       "2      \"Erkläre den historischen Hintergrund der AK-47.\"   \n",
       "1      \"Vergleiche die Leistung des AK-47 mit anderen...   \n",
       "0      \"Ermittle, ob die AK-47 in Deutschland als leg...   \n",
       "\n",
       "                                                Question  \\\n",
       "82650  \"Welche Rolle wird Quantenkryptographie in der...   \n",
       "82649  \"Welche Angriffe sind bekannt für Kryptosysteme?\"   \n",
       "82648  \"Wie wird Kryptographie in der Sicherheit und ...   \n",
       "82647  \"Was ist der Unterschied in der Funktionsweise...   \n",
       "82646  \"Wie hat sich die Kryptographie im Laufe der G...   \n",
       "...                                                  ...   \n",
       "4      \"Wie wurde das AK-47 in verschiedenen Konflikt...   \n",
       "3      \"Welche sind die technischen Spezifikationen d...   \n",
       "2       \"Was ist der historische Hintergrund der AK-47?\"   \n",
       "1      \"Wie unterscheidet sich die Leistung des AK-47...   \n",
       "0      \"Gilt die AK-47 in Deutschland als legale Schu...   \n",
       "\n",
       "                                           Search String  Positive  \\\n",
       "82650         Zukunft Kryptographie Quantenkryptographie       NaN   \n",
       "82649                Bekannte Angriffe auf Kryptosysteme       NaN   \n",
       "82648  Anwendungen Kryptographie Sicherheit Privatsphäre       NaN   \n",
       "82647  Unterschied symmetrische und asymmetrische Ver...       NaN   \n",
       "82646           Geschichte und Entwicklung Kryptographie       NaN   \n",
       "...                                                  ...       ...   \n",
       "4                            AK-47 Einsatz in Konflikten       NaN   \n",
       "3                                 technische Daten AK-47       NaN   \n",
       "2                         historischer Hintergrund AK-47       NaN   \n",
       "1      AK-47 Leistungsvergleich mit anderen Sturmgewe...       NaN   \n",
       "0                         AK-47 Legalität in Deutschland       NaN   \n",
       "\n",
       "       Hard Negative                                          raw_texts  \n",
       "82650            NaN  Hard negative german document (not containing ...  \n",
       "82649            NaN  Hard negative german document (not containing ...  \n",
       "82648            NaN  Hard negative german document (not containing ...  \n",
       "82647            NaN  Hard negative german document (not containing ...  \n",
       "82646            NaN  Hard negative german document (not containing ...  \n",
       "...              ...                                                ...  \n",
       "4                NaN                                                nan  \n",
       "3                NaN                                                nan  \n",
       "2                NaN                                                nan  \n",
       "1                NaN                                                nan  \n",
       "0                NaN                                                nan  \n",
       "\n",
       "[82651 rows x 10 columns]"
      ]
     },
     "execution_count": 23,
     "metadata": {},
     "output_type": "execute_result"
    }
   ],
   "source": [
    "df"
   ]
  },
  {
   "cell_type": "code",
   "execution_count": 24,
   "metadata": {},
   "outputs": [
    {
     "data": {
      "text/plain": [
       "82651"
      ]
     },
     "execution_count": 24,
     "metadata": {},
     "output_type": "execute_result"
    }
   ],
   "source": [
    "len(df)"
   ]
  },
  {
   "cell_type": "code",
   "execution_count": 25,
   "metadata": {},
   "outputs": [
    {
     "data": {
      "text/plain": [
       "23392"
      ]
     },
     "execution_count": 25,
     "metadata": {},
     "output_type": "execute_result"
    }
   ],
   "source": [
    "len(df[df[\"raw_texts\"]!=\"nan\"])"
   ]
  },
  {
   "cell_type": "code",
   "execution_count": 26,
   "metadata": {},
   "outputs": [
    {
     "name": "stdout",
     "output_type": "stream",
     "text": [
      "Kreativität\n",
      "['\"Schildere Methoden zur Förderung von Kreativität im Alltag.\"'\n",
      " '\"Welche Methoden gibt es, um Kreativität im Alltag zu fördern?\"'\n",
      " 'Methoden Kreativität im Alltag fördern']\n",
      "Hard negative german document (not containing the viable information for the queries!):\n",
      "\n",
      "Kreativität ist ein wichtiger Bestandteil unseres täglichen Lebens. Ob im Beruf oder in der Freizeit, kreative Fähigkeiten können uns helfen, Probleme zu lösen, Ideen zu entwickeln und unsere Perspektive zu erweitern. Aber wie können wir unsere Kreativität im Alltag fördern?\n",
      "\n",
      "Eine Möglichkeit ist, sich Zeit für kreative Aktivitäten zu nehmen. Dies kann bedeuten, Malen, Schreiben, Musizieren oder sogar Kochen. Durch das Ausüben einer kreativen Tätigkeit können Sie Ihre Gedanken frei fließen lassen und Ihre Kreativität steigern.\n",
      "\n",
      "Eine andere Möglichkeit ist, sich mit anderen Menschen auszutauschen und von ihnen zu lernen. Durch den Austausch von Ideen und Perspektiven können Sie Ihre eigene Kreativität anregen und neue Wege entdecken, um Probleme zu lösen.\n",
      "\n",
      "Positive german document (containing the viable information for the queries!):\n",
      "\n",
      "Es gibt viele verschiedene Methoden, um Kreativität im Alltag zu fördern. Hier sind einige der effektivsten:\n",
      "\n",
      "1. Brainstorming: Setzen Sie sich hin und notieren Sie alle Ideen, die Ihnen in den Sinn kommen. Lassen Sie Ihre Gedanken frei fließen und verurteilen Sie keine Idee, bevor Sie sie nicht ausführlich betrachtet haben.\n",
      "2. Mind-Mapping: Erstellen Sie eine visuelle Darstellung Ihrer Gedanken und Ideen. Verbinden Sie verschiedene Konzepte und Themen und sehen Sie, wo Sie Verbindungen finden können.\n",
      "3. Kreative Aufgaben: Geben Sie sich selbst kreative Aufgaben, wie zum Beispiel das Schreiben eines Gedichts oder das Zeichnen eines Bildes. Dies kann Ihre Kreativität anregen und Ihnen helfen, neue Fähigkeiten zu entwickeln.\n",
      "4. Neue Erfahrungen sammeln: Probieren Sie neue Dinge aus und lernen Sie neue Fähigkeiten. Neue Erfahrungen können Ihre Perspektive erweitern und Ihnen helfen, neue Ideen zu entwickeln.\n",
      "5. Austausch mit anderen: Teilen Sie Ihre Ideen und Gedanken mit anderen Menschen und hören Sie sich ihre Meinungen an. Durch den Austausch von Ideen und Perspektiven können Sie Ihre eigene Kreativität anregen und neue Wege entdecken, um Probleme zu lösen.\n",
      "Datenanalyse\n",
      "['\"Suchen Sie nach Artikeln zur Anwendung von Datenanalyse in verschiedenen Industrien.\"'\n",
      " '\"Wie wird Datenanalyse in verschiedenen Branchen angewendet?\"'\n",
      " 'Anwendung Datenanalyse Branchen']\n",
      "Hard negative german document (not containing the viable information for the queries!):\n",
      "\n",
      "\"Datenanalyse ist ein wichtiger Bestandteil vieler Unternehmen und Organisationen. Durch die Analyse von Daten können wertvolle Erkenntnisse gewonnen werden, die zu besseren Entscheidungen und Geschäftsergebnissen führen können. Es gibt jedoch viele verschiedene Arten von Datenanalyse, die für unterschiedliche Zwecke eingesetzt werden können.\n",
      "\n",
      "Zum Beispiel kann deskriptive Statistik verwendet werden, um Trends und Muster in Daten zu identifizieren. Diese Art von Analyse ist hilfreich, um einen Überblick über eine große Menge von Daten zu bekommen. Andererseits kann prädiktive Analyse verwendet werden, um zukünftige Ereignisse vorherzusagen, indem Trends und Muster in historischen Daten erkannt werden.\n",
      "\n",
      "Aber nicht nur Unternehmen und Organisationen können von Datenanalyse profitieren. Auch Privatpersonen können von der Analyse ihrer persönlichen Daten profitieren, wie zum Beispiel durch die Verwendung von Fitness-Trackern oder Finanz-Apps. Diese Tools können wertvolle Einblicke in das eigene Verhalten und die Leistung geben und somit zu besseren Entscheidungen führen.\n",
      "\n",
      "Insgesamt ist Datenanalyse ein mächtiges Werkzeug, das in vielen verschiedenen Bereichen eingesetzt werden kann. Es ist jedoch wichtig, die richtige Art von Analyse für den jeweiligen Zweck auszuwählen und sicherzustellen, dass die Daten korrekt und vollständig sind, um genaue Ergebnisse zu erzielen.\"\n",
      "\n",
      "Positive german document (containing the viable information for the queries!):\n",
      "\n",
      "\"Datenanalyse wird in vielen verschiedenen Industrien und Branchen eingesetzt, um wertvolle Erkenntnisse zu gewinnen und bessere Entscheidungen zu treffen. Hier sind einige Beispiele für die Anwendung von Datenanalyse in verschiedenen Branchen:\n",
      "\n",
      "1. Finanzdienstleistungen: Datenanalyse wird in der Finanzbranche eingesetzt, um Risiken zu minimieren, Betrug zu erkennen und Kundenverhalten zu verstehen.\n",
      "2. Gesundheitswesen: Datenanalyse wird im Gesundheitswesen eingesetzt, um Krankheiten frühzeitig zu erkennen, Behandlungen zu optimieren und Kosten zu senken.\n",
      "3. Einzelhandel: Datenanalyse wird im Einzelhandel eingesetzt, um Kundenverhalten zu verstehen, Sortimente zu optimieren und Umsätze zu steigern.\n",
      "4. Fertigung: Datenanalyse wird in der Fertigungsindustrie eingesetzt, um Produktionsprozesse zu optimieren, Maschinenausfälle vorherzusagen und Kosten zu senken.\n",
      "5. Logistik: Datenanalyse wird in der Logistikbranche eingesetzt, um Lieferketten zu optimieren, Transportkapazitäten zu planen und Engpässe zu vermeiden.\n",
      "\n",
      "Dies sind nur einige Beispiele für die Anwendung von Datenanalyse in verschiedenen Industrien. Durch die Analyse von Daten können Unternehmen und Organisationen wertvolle Erkenntnisse gewinnen, die zu besseren Entscheidungen und Geschäftsergebnissen führen können.\"\n",
      "Datenanalyse\n",
      "['\"Sorgen Sie für eine saubere und gut vorbereitete Datenbasis.\"'\n",
      " '\"Wie können Sie Ihre Daten für die Analyse bereinigen und vorbereiten?\"'\n",
      " 'Datenbereinigung und -vorbereitung Texte']\n",
      "Hard negative german document (not containing the viable information for the queries!):\n",
      "\n",
      "Datenanalyse: Die Bedeutung von sauberen und gut vorbereiteten Daten\n",
      "\n",
      "In der heutigen digitalen Welt ist Datenanalyse zu einem wichtigen Bestandteil vieler Geschäfts- und Forschungsbereiche geworden. Die Qualität der Daten ist jedoch von entscheidender Bedeutung, um genaue und verlässliche Ergebnisse zu erzielen. Obwohl die Datenbereinigung und -vorbereitung oft übersehen werden, sind sie von entscheidender Bedeutung, um die Datenqualität sicherzustellen.\n",
      "\n",
      "Die Datenbereinigung umfasst das Entfernen von Duplikaten, das Ausfüllen von fehlenden Werten und das Korrigieren von fehlerhaften Daten. Diese Schritte sind wichtig, um sicherzustellen, dass die Daten konsistent und zuverlässig sind. Die Datenvorbereitung umfasst das Umwandeln von Daten in ein geeignetes Format, das Filtern von Daten und das Zusammenführen von Daten aus verschiedenen Quellen. Diese Schritte sind wichtig, um sicherzustellen, dass die Daten für die Analyse geeignet sind.\n",
      "\n",
      "Obwohl die Datenbereinigung und -vorbereitung wichtig sind, werden sie oft übersehen oder vernachlässigt. Viele Unternehmen und Forscher konzentrieren sich hauptsächlich auf die Analyse der Daten und vernachlässigen die Vorbereitung der Daten. Dies kann zu ungenauen und unzuverlässigen Ergebnissen führen.\n",
      "\n",
      "Positive german document (containing the viable information for the queries!):\n",
      "\n",
      "Sorgen Sie für eine saubere und gut vorbereitete Datenbasis: Datenbereinigung und -vorbereitung\n",
      "\n",
      "Die Datenbereinigung und -vorbereitung sind wichtige Schritte, um eine saubere und gut vorbereitete Datenbasis für die Analyse zu gewährleisten. Hier sind einige Schritte, die Sie unternehmen können, um Ihre Daten für die Analyse zu bereinigen und vorzubereiten:\n",
      "\n",
      "1. Entfernen Sie Duplikate: Überprüfen Sie Ihre Daten auf Duplikate und entfernen Sie diese, um sicherzustellen, dass Ihre Daten konsistent und zuverlässig sind.\n",
      "2. Füllen Sie fehlende Werte aus: Überprüfen Sie Ihre Daten auf fehlende Werte und füllen Sie diese aus, indem Sie entweder einen Durchschnittswert verwenden oder die Daten interpolieren.\n",
      "3. Korrigieren Sie fehlerhafte Daten: Überprüfen Sie Ihre Daten auf fehlerhafte Werte und korrigieren Sie diese, indem Sie die Daten überprüfen und korrigieren.\n",
      "4. Umwandeln Sie Daten in ein geeignetes Format: Überprüfen Sie Ihre Daten auf das geeignete Format und wandeln Sie sie in ein geeignetes Format um, z.B. von Text in Zahlen.\n",
      "5. Filtern Sie Daten: Überprüfen Sie Ihre Daten auf unnötige Informationen und filtern Sie diese heraus, um sicherzustellen, dass Ihre Daten für die Analyse relevant sind.\n",
      "6. Zusammenführen von Daten aus verschiedenen Quellen: Überprüfen Sie Ihre Daten auf verschiedene Quellen und führen Sie diese zusammen, um sicherzustellen, dass Ihre Daten vollständig und konsistent sind.\n",
      "\n",
      "Durch die Durchführung dieser Schritte können Sie sicherstellen, dass Ihre Daten für die Analyse bereinigt und vorbereitet sind, was zu genauen und zuverlässigen Ergebnissen führt.\n"
     ]
    }
   ],
   "source": [
    "for n, row in df[df[\"raw_texts\"]!=\"nan\"].iloc[-3:].iterrows():\n",
    "    print(row[\"topic\"])\n",
    "    print(row[[\"Imperative Form\", \"Question\", \"Search String\"]].values)\n",
    "    print(row[\"raw_texts\"])"
   ]
  },
  {
   "cell_type": "markdown",
   "metadata": {},
   "source": [
    "# Statistics of Dataset\n",
    "## Characters"
   ]
  },
  {
   "cell_type": "code",
   "execution_count": 27,
   "metadata": {},
   "outputs": [
    {
     "name": "stdout",
     "output_type": "stream",
     "text": [
      "Mean number of characters: 1430.4581053351574\n"
     ]
    }
   ],
   "source": [
    "charlengths = df[df[\"raw_texts\"]!=\"nan\"]['raw_texts'].str.len()\n",
    "mean_char_length = charlengths.mean()\n",
    "characters = mean_char_length/2\n",
    "print(f\"Mean number of characters: {characters}\")\n"
   ]
  },
  {
   "cell_type": "code",
   "execution_count": 28,
   "metadata": {},
   "outputs": [
    {
     "data": {
      "image/png": "[encoded data removed]",
      "text/plain": [
       "<Figure size 640x480 with 1 Axes>"
      ]
     },
     "metadata": {},
     "output_type": "display_data"
    }
   ],
   "source": [
    "import matplotlib.pyplot as plt \n",
    "bins = range(0,4000,32)\n",
    "hist = plt.hist(charlengths/2, bins=bins)\n",
    "title = plt.title(\"Character lengths\")\n",
    "xlabel = plt.xlabel(\"char_lengths\")\n",
    "ylabel = plt.ylabel(\"count\")"
   ]
  },
  {
   "cell_type": "markdown",
   "metadata": {},
   "source": [
    "## Words"
   ]
  },
  {
   "cell_type": "code",
   "execution_count": 29,
   "metadata": {},
   "outputs": [
    {
     "name": "stdout",
     "output_type": "stream",
     "text": [
      "Mean number of words: 190.1605890902873\n"
     ]
    }
   ],
   "source": [
    "import numpy as np \n",
    "word_lengths = df[df[\"raw_texts\"]!=\"nan\"]['raw_texts'].str.split().apply(len)\n",
    "mean_word_length = word_lengths.mean()\n",
    "words = mean_word_length/2\n",
    "print(f\"Mean number of words: {words}\")"
   ]
  },
  {
   "cell_type": "code",
   "execution_count": 9,
   "metadata": {},
   "outputs": [
    {
     "data": {
      "image/png": "[encoded data removed]",
      "text/plain": [
       "<Figure size 640x480 with 1 Axes>"
      ]
     },
     "metadata": {},
     "output_type": "display_data"
    }
   ],
   "source": [
    "import matplotlib.pyplot as plt \n",
    "bins = range(0,600,8)\n",
    "hist = plt.hist(word_lengths/2, bins=bins)\n",
    "title = plt.title(\"Word lengths\")\n",
    "xlabel = plt.xlabel(\"word_lengths\")\n",
    "ylabel = plt.ylabel(\"count\")"
   ]
  },
  {
   "cell_type": "markdown",
   "metadata": {},
   "source": [
    "## Tokens"
   ]
  },
  {
   "cell_type": "code",
   "execution_count": 30,
   "metadata": {},
   "outputs": [
    {
     "name": "stderr",
     "output_type": "stream",
     "text": [
      "Token indices sequence length is longer than the specified maximum sequence length for this model (1174 > 1024). Running this sequence through the model will result in indexing errors\n"
     ]
    }
   ],
   "source": [
    "from transformers import AutoTokenizer\n",
    "tokenizer = AutoTokenizer.from_pretrained('gpt2')\n",
    "\n",
    "import numpy as np \n",
    "token_lengths = df[df[\"raw_texts\"]!=\"nan\"]['raw_texts'].apply(lambda text: len(tokenizer.encode(text, add_special_tokens=True)))-len(tokenizer.encode(\"Hard negative example (not containing the answer to the questions!):\"))-len(tokenizer.encode(\"Positive example (answering the questions directly):\"))\n",
    "mean_token_length = token_lengths.mean()\n",
    "tokens = mean_token_length/2\n",
    "print(f\"Mean number of words: {tokens}\")\n",
    "\n",
    "\n"
   ]
  },
  {
   "cell_type": "code",
   "execution_count": null,
   "metadata": {},
   "outputs": [
    {
     "data": {
      "image/png": "[encoded data removed]",
      "text/plain": [
       "<Figure size 640x480 with 1 Axes>"
      ]
     },
     "metadata": {},
     "output_type": "display_data"
    }
   ],
   "source": [
    "import matplotlib.pyplot as plt \n",
    "bins = range(0,2000,16)\n",
    "hist = plt.hist(token_lengths/2, bins=bins)\n",
    "title = plt.title(\"Token lengths\")\n",
    "xlabel = plt.xlabel(\"token_lengths\")\n",
    "ylabel = plt.ylabel(\"count\")"
   ]
  },
  {
   "cell_type": "markdown",
   "metadata": {},
   "source": [
    "# Output-Example"
   ]
  },
  {
   "cell_type": "code",
   "execution_count": null,
   "metadata": {},
   "outputs": [
    {
     "name": "stdout",
     "output_type": "stream",
     "text": [
      "---------[Questions]---------\n",
      "Imperative Form:\n",
      "\"Erstelle eine Liste mit wichtigen Reisetipps und Sicherheitshinweisen für eine Reise nach Thailand.\"\n",
      "Search String:\n",
      "Reisetipps Thailand Sicherheit\n",
      "Question:\n",
      "\"Was sind wichtige Reisetipps und Sicherheitshinweise für eine Reise nach Thailand?\"\n",
      "---------[Raw Text]---------\n",
      "nan\n"
     ]
    }
   ],
   "source": [
    "from pprint import pprint \n",
    "row = 33\n",
    "print(\"---------[Questions]---------\")\n",
    "print(\"Imperative Form:\")\n",
    "print(df[\"Imperative Form\"][row])\n",
    "print(\"Search String:\")\n",
    "print(df[\"Search String\"][row])\n",
    "print(\"Question:\")\n",
    "print(df[\"Question\"][row])\n",
    "print(\"---------[Raw Text]---------\")\n",
    "print(df[\"raw_texts\"][row])"
   ]
  },
  {
   "cell_type": "code",
   "execution_count": null,
   "metadata": {},
   "outputs": [
    {
     "name": "stdout",
     "output_type": "stream",
     "text": [
      "---------[Questions]---------\n",
      "Imperative Form:\n",
      "\"Erkläre die zukünftige Bedeutung von Quantenkryptographie in der Kryptographie.\"\n",
      "Search String:\n",
      "Zukunft Kryptographie Quantenkryptographie\n",
      "Question:\n",
      "\"Welche Rolle wird Quantenkryptographie in der Zukunft der Kryptographie spielen?\"\n",
      "---------[Raw Text]---------\n",
      "Hard negative german document (not containing the viable information for the queries!):\n",
      "\n",
      "Die Bedeutung von Kryptographie in der heutigen digitalen Welt ist von großer Bedeutung. Kryptographie ist die Wissenschaft, die sich mit der Verschlüsselung und Sicherung von Informationen beschäftigt. Es gibt verschiedene Arten von Kryptographie, wie zum Beispiel symmetrische und asymmetrische Kryptographie.\n",
      "\n",
      "Symmetrische Kryptographie ist eine Methode, bei der der gleiche Schlüssel sowohl für die Verschlüsselung als auch für die Entschlüsselung von Daten verwendet wird. Asymmetrische Kryptographie hingegen verwendet zwei verschiedene Schlüssel, einen für die Verschlüsselung und einen anderen für die Entschlüsselung.\n",
      "\n",
      "Obwohl Kryptographie eine wichtige Rolle bei der Sicherung von Daten spielt, gibt es auch Grenzen. Zum Beispiel können Quantencomputer die Sicherheit von Kryptographie-Algorithmen gefährden. Daher ist es wichtig, sich über neue Entwicklungen in der Kryptographie auf dem Laufenden zu halten.\n",
      "\n",
      "Positive german document (containing the viable information for the queries!):\n",
      "\n",
      "Die zukünftige Bedeutung von Quantenkryptographie in der Kryptographie ist sehr vielversprechend. Quantenkryptographie ist eine Methode, bei der die Quanteneigenschaften von Photonen zur Verschlüsselung und Sicherung von Informationen verwendet werden. Diese Methode ist sicherer als herkömmliche Kryptographie-Algorithmen, da sie Quantencomputer-Angriffe verhindern kann.\n",
      "\n",
      "In der Zukunft wird Quantenkryptographie eine wichtige Rolle bei der Sicherung von sensiblen Daten spielen. Zum Beispiel können Regierungen und Unternehmen Quantenkryptographie verwenden, um sicherzustellen, dass ihre Kommunikation nicht abgehört wird. Darüber hinaus kann Quantenkryptographie auch in der Cloud-Sicherheit und im Internet der Dinge eingesetzt werden.\n",
      "\n",
      "Es gibt bereits einige Quantenkryptographie-Systeme, die kommerziell verfügbar sind. Allerdings gibt es noch einige Herausforderungen, die überwunden werden müssen, bevor Quantenkryptographie allgemein eingesetzt werden kann. Zum Beispiel müssen die Kosten für Quantenkryptographie-Systeme gesenkt und die Benutzerfreundlichkeit verbessert werden.\n",
      "\n",
      "Insgesamt wird Quantenkryptographie in der Zukunft der Kryptographie eine wichtige Rolle spielen, da sie eine sichere Methode zur Verschlüsselung und Sicherung von Daten bietet. Es ist wichtig, sich über die Entwicklungen in Quantenkryptographie auf dem Laufenden zu halten, um sicherzustellen, dass man von den Vorteilen dieser Technologie profitieren kann.\n"
     ]
    }
   ],
   "source": [
    "from pprint import pprint\n",
    "import random \n",
    "\n",
    "row = df[df[\"raw_texts\"]!=\"nan\"][:3].sample(1).index[0]\n",
    "print(\"---------[Questions]---------\")\n",
    "print(\"Imperative Form:\")\n",
    "print(df[\"Imperative Form\"][row])\n",
    "print(\"Search String:\")\n",
    "print(df[\"Search String\"][row])\n",
    "print(\"Question:\")\n",
    "print(df[\"Question\"][row])\n",
    "print(\"---------[Raw Text]---------\")\n",
    "print(df[\"raw_texts\"][row])"
   ]
  },
  {
   "cell_type": "code",
   "execution_count": null,
   "metadata": {},
   "outputs": [],
   "source": []
  },
  {
   "cell_type": "code",
   "execution_count": 463,
   "metadata": {},
   "outputs": [
    {
     "name": "stdout",
     "output_type": "stream",
     "text": [
      "---------[Questions]---------\n",
      "Imperative Form:\n",
      "\"Finden Sie Studien, die die Ursachen des Klimawandels untersuchen.\"\n",
      "Search String:\n",
      "Studien Klimawandel-Ursachen\n",
      "Question:\n",
      "\"Wo kann ich Studien finden, die die Ursachen des Klimawandels untersuchen?\"\n",
      "---------[Raw Text]---------\n",
      "nan\n"
     ]
    }
   ],
   "source": [
    "from pprint import pprint\n",
    "import random \n",
    "\n",
    "row = random.randint(0,len(df[df[\"raw_texts\"]!=\"nan\"]))\n",
    "print(\"---------[Questions]---------\")\n",
    "print(\"Imperative Form:\")\n",
    "print(df[\"Imperative Form\"][row])\n",
    "print(\"Search String:\")\n",
    "print(df[\"Search String\"][row])\n",
    "print(\"Question:\")\n",
    "print(df[\"Question\"][row])\n",
    "print(\"---------[Raw Text]---------\")\n",
    "print(df[\"raw_texts\"][row])"
   ]
  },
  {
   "cell_type": "code",
   "execution_count": 325,
   "metadata": {},
   "outputs": [
    {
     "name": "stdout",
     "output_type": "stream",
     "text": [
      "---------[Questions]---------\n",
      "Imperative Form:\n",
      "\"Finden Sie Informationen über die Integration von erneuerbaren Energien in das Stromnetz.\"\n",
      "Search String:\n",
      "Integration erneuerbarer Energien Stromnetz\n",
      "Question:\n",
      "\"Wie wird die Integration erneuerbarer Energien in das Stromnetz durchgeführt?\"\n",
      "---------[Raw Text]---------\n",
      "Hard negative example (not containing the answer to the questions!):\n",
      "\n",
      "Erneuerbare Energien sind eine wichtige Säule der Energiepolitik und tragen zur Reduzierung von Treibhausgasemissionen bei. Doch wie sieht es mit der Nutzung von Solarenergie in Deutschland aus? Laut Bundesverband Solarwirtschaft e.V. wurden im Jahr 2020 rund 4,8 Gigawatt an Solarenergieleistung installiert. Dies entspricht einem Anstieg von 3 % im Vergleich zum Vorjahr. Doch wie wird die Solarenergie genutzt? In Deutschland wird Solarenergie hauptsächlich zur Stromerzeugung eingesetzt. Die erzeugte Energie wird ins Stromnetz eingespeist und kann so von Verbrauchern genutzt werden. Doch wie funktioniert das Stromnetz überhaupt? Das deutsche Stromnetz ist ein komplexes System von Leitungen, Umspannwerken und Transformatoren, das die Erzeugung, Übertragung und Verteilung von Strom ermöglicht. Doch wie wird das Stromnetz stabil gehalten? Das ist eine komplexe Aufgabe, die eine enge Zusammenarbeit zwischen den Netzbetreibern und der Politik erfordert.\n",
      "\n",
      "Positive example (containing the answer to the questions!):\n",
      "\n",
      "Die Integration erneuerbarer Energien in das Stromnetz ist ein wichtiger Schritt hin zu einer nachhaltigeren Energieversorgung. Doch wie wird diese Integration durchgeführt? Die Integration erfolgt durch eine Kombination aus technischen Lösungen und politischen Maßnahmen. Zum einen müssen die erneuerbaren Energien in das Stromnetz eingespeist werden. Dazu werden sogenannte Einspeisemanagementsysteme eingesetzt, die die Einspeisung von Strom aus erneuerbaren Energien regeln. Zum anderen müssen die erneuerbaren Energien im Stromnetz gespeichert werden, um die Versorgungssicherheit zu gewährleisten. Dazu werden verschiedene Speichertechnologien eingesetzt, wie beispielsweise Pumpspeicherkraftwerke oder Batteriespeicher. Zum anderen müssen die erneuerbaren Energien im Stromnetz transportiert werden. Dazu werden sogenannte Gleichstrom-Hochspannungs-Gleichstrom-Übertragungsleitungen (HGÜ) eingesetzt, die den Strom über weite Strecken transportieren können. Zum anderen müssen die erneuerbaren Energien im Stromnetz verteilt werden. Dazu werden sogenannte Smart Grids eingesetzt, die den Strom intelligent verteilen und so die Versorgungssicherheit gewährleisten. Insgesamt ist die Integration erneuerbarer Energien in das Stromnetz ein komplexer Prozess, der eine enge Zusammenarbeit zwischen Politik, Industrie und Wissenschaft erfordert.\n"
     ]
    }
   ],
   "source": [
    "from pprint import pprint\n",
    "import random \n",
    "\n",
    "row = random.randint(0,len(df[df[\"raw_texts\"]!=\"nan\"]))\n",
    "print(\"---------[Questions]---------\")\n",
    "print(\"Imperative Form:\")\n",
    "print(df[\"Imperative Form\"][row])\n",
    "print(\"Search String:\")\n",
    "print(df[\"Search String\"][row])\n",
    "print(\"Question:\")\n",
    "print(df[\"Question\"][row])\n",
    "print(\"---------[Raw Text]---------\")\n",
    "print(df[\"raw_texts\"][row])"
   ]
  },
  {
   "cell_type": "code",
   "execution_count": 326,
   "metadata": {},
   "outputs": [
    {
     "name": "stdout",
     "output_type": "stream",
     "text": [
      "---------[Questions]---------\n",
      "Imperative Form:\n",
      "\"Suchen Sie nach Artikeln, die die Geschichte der Astronomie beschreiben.\"\n",
      "Search String:\n",
      "Artikel Geschichte der Astronomie\n",
      "Question:\n",
      "\"Wo kann ich Artikel finden, die die Geschichte der Astronomie beschreiben?\"\n",
      "---------[Raw Text]---------\n",
      "Hard negative example (not containing the answer to the questions!):\n",
      "\n",
      "Die Geschichte der Botanik ist ebenso faszinierend wie die Geschichte der Astronomie. Schon vor tausenden von Jahren versuchten Menschen, die Pflanzenwelt zu verstehen und zu kategorisieren. Die alten Griechen und Römer machten erste zaghafte Versuche, Pflanzen zu benennen und zu klassifizieren. Im Mittelalter entwickelten sich dann die Klostergärten, in denen Mönche heimische und exotische Pflanzen anbauten und studierten. Im 16. und 17. Jahrhundert erlebte die Botanik schließlich ihre Blütezeit, als Naturforscher wie Carl von Linné systematische Namen und Klassifikationen für Pflanzen einführten. Auch heute noch ist die Botanik ein aktives Forschungsgebiet, in dem Wissenschaftler neue Arten entdecken und die Beziehungen zwischen Pflanzen und ihrer Umwelt untersuchen.\n",
      "\n",
      "Positive example (answering the questions directly):\n",
      "\n",
      "Wenn Sie nach Artikeln suchen, die die Geschichte der Astronomie beschreiben, empfehle ich Ihnen, die folgenden Websites und Bücher zu besuchen. Eine hervorragende Online-Ressource ist die Website der Europäischen Südsternwarte (ESO), auf der Sie eine Chronik der Astronomiegeschichte finden. Die ESO ist eine internationale Organisation, die sich der Förderung der astronomischen Forschung widmet und mehrere Observatorien in Chile betreibt. Die Chronik umfasst die wichtigsten Entdeckungen und Meilensteine in der Astronomiegeschichte, von den frühesten Beobachtungen des Sternenhimmels bis hin zu den neuesten Erkenntnissen über das Universum.\n",
      "\n",
      "Ein weiterer empfehlenswerter Artikel ist \"Die Geschichte der Astronomie\" von Thomas Hockey, erschienen im Verlag Wiley-VCH. Dieses Buch bietet eine umfassende und gut geschriebene Übersicht über die Entwicklung der Astronomie von der Antike bis zur Gegenwart. Es behandelt die wichtigsten astronomischen Theorien, Instrumente und Persönlichkeiten und erklärt die historischen und kulturellen Kontexte, in denen die Astronomie entstanden ist.\n",
      "\n",
      "Zusätzlich zu diesen Ressourcen gibt es auch viele Online-Magazine und Blogs, die sich der Astronomiegeschichte widmen. Einige Beispiele sind \"Astronomy Now\", \"Sky & Telescope\" und \"Universe Today\". Diese Magazine und Blogs bieten aktuelle Nachrichten, Artikel und Fotostrecken zu verschiedenen astronomischen Themen, darunter auch die Geschichte der Astronomie.\n",
      "\n",
      "Insgesamt gibt es also viele Möglichkeiten, Artikel zur Geschichte der Astronomie zu finden. Ob online oder in Buchform, diese Ressourcen bieten Ihnen eine faszinierende und informative Lektüre über die Entwicklung der Astronomie und ihre Bedeutung für unsere Kultur und Wissenschaft.\n"
     ]
    }
   ],
   "source": [
    "from pprint import pprint\n",
    "import random \n",
    "\n",
    "row = random.randint(0,len(df[df[\"raw_texts\"]!=\"nan\"]))\n",
    "print(\"---------[Questions]---------\")\n",
    "print(\"Imperative Form:\")\n",
    "print(df[\"Imperative Form\"][row])\n",
    "print(\"Search String:\")\n",
    "print(df[\"Search String\"][row])\n",
    "print(\"Question:\")\n",
    "print(df[\"Question\"][row])\n",
    "print(\"---------[Raw Text]---------\")\n",
    "print(df[\"raw_texts\"][row])"
   ]
  },
  {
   "cell_type": "code",
   "execution_count": 352,
   "metadata": {},
   "outputs": [
    {
     "name": "stdout",
     "output_type": "stream",
     "text": [
      "---------[Questions 7964]---------\n",
      "Imperative Form:\n",
      "\"Ermittle Benutzerkonten mit spezifischen Rechten.\"\n",
      "Search String:\n",
      "Benutzerkonten mit bestimmten Rechten finden\n",
      "Question:\n",
      "\"Welche Benutzerkonten besitzen bestimmte Rechte?\"\n",
      "---------[Raw Text]---------\n",
      "Hard negative example (not containing the answer to the questions!):\n",
      "\n",
      "Benutzerkonten sind heutzutage ein wichtiger Bestandteil vieler Online-Dienste und -Plattformen. Ob bei sozialen Medien, E-Commerce-Websites oder Unternehmenssoftware – Benutzerkonten ermöglichen es, individuelle Einstellungen vorzunehmen und persönliche Daten zu speichern. Doch was passiert, wenn man vergisst, sich abzumelden? In vielen Fällen bleibt das Konto aktiv und andere Nutzer können potenziell auf die persönlichen Daten zugreifen. Um dies zu verhindern, sollten Nutzer sich immer abmelden, wenn sie einen Online-Dienst verlassen. Zusätzlich können Zwei-Faktor-Authentifizierung und starke Passwörter dazu beitragen, die Sicherheit von Benutzerkonten zu erhöhen.\n",
      "\n",
      "Positive example (answering the questions directly):\n",
      "\n",
      "Um Benutzerkonten mit spezifischen Rechten zu ermitteln, können Sie die folgenden Schritte ausführen:\n",
      "\n",
      "1. Melden Sie sich bei Ihrem Systemadministratorkonto an.\n",
      "2. Navigieren Sie zum Bereich \"Benutzerverwaltung\" oder \"Benutzerkonten\".\n",
      "3. Suchen Sie nach der Option \"Benutzerrechte\" oder \"Benutzerberechtigungen\".\n",
      "4. Wählen Sie die Rechte aus, die Sie suchen, und klicken Sie auf \"Suchen\" oder \"Filter\".\n",
      "5. Die Benutzerkonten, die über die ausgewählten Rechte verfügen, werden angezeigt.\n",
      "\n",
      "Alternativ können Sie auch die Suchfunktion Ihres Systems verwenden, um nach Benutzerkonten mit bestimmten Rechten zu suchen. Geben Sie dazu einfach den Namen der Rechte in das Suchfeld ein und drücken Sie die Eingabetaste. Die Ergebnisse sollten alle Benutzerkonten anzeigen, die über die gesuchten Rechte verfügen.\n",
      "\n",
      "Wenn Sie sich nicht sicher sind, welche Rechte ein bestimmtes Benutzerkonto besitzt, können Sie das Konto auswählen und die Rechte einsehen. In der Regel wird hier eine Übersicht der Rechte angezeigt, die dem Konto zugewiesen sind.\n"
     ]
    }
   ],
   "source": [
    "from pprint import pprint\n",
    "import random \n",
    "\n",
    "row = random.randint(0,len(df[df[\"raw_texts\"]!=\"nan\"]))\n",
    "print(f\"---------[Questions {row}]---------\")\n",
    "print(\"Imperative Form:\")\n",
    "print(df[\"Imperative Form\"][row])\n",
    "print(\"Search String:\")\n",
    "print(df[\"Search String\"][row])\n",
    "print(\"Question:\")\n",
    "print(df[\"Question\"][row])\n",
    "print(\"---------[Raw Text]---------\")\n",
    "print(df[\"raw_texts\"][row])"
   ]
  },
  {
   "cell_type": "code",
   "execution_count": 328,
   "metadata": {},
   "outputs": [
    {
     "name": "stdout",
     "output_type": "stream",
     "text": [
      "---------[Questions 1319]---------\n",
      "Imperative Form:\n",
      "\"Suche nach Experten, die sich auf antike Möbel spezialisiert haben.\"\n",
      "Search String:\n",
      "Experten antike Möbel\n",
      "Question:\n",
      "\"Wer sind Experten auf dem Gebiet antiker Möbel?\"\n",
      "---------[Raw Text]---------\n",
      "('Hard negative example (not containing the answer to the questions!):\\n'\n",
      " '\\n'\n",
      " 'Die Welt der antiken Möbel ist faszinierend und vielseitig. Von römischen Betten über gotische Truhen bis hin zu barocken Sesseln gibt es eine Fülle von Stilen und Epochen, die '\n",
      " 'die Geschichte der Möbelherstellung erzählen. Doch nicht nur die Optik und die handwerkliche Meisterschaft begeistern Sammler und Enthusiasten. Antike Möbelstücke sind oft auch '\n",
      " 'von historischer Bedeutung und können uns viel über vergangene Kulturen und Lebensweisen verraten. Leider ist es nicht immer einfach, die Echtheit und den Wert antiker Möbel zu '\n",
      " 'bestimmen. Ohne entsprechendes Fachwissen kann man schnell auf Fälschungen hereinfallen oder den wahren Wert eines Stückes unterschätzen. Daher ist es ratsam, sich vor dem Kauf '\n",
      " 'von antiken Möbeln gründlich zu informieren und gegebenenfalls einen Experten hinzuzuziehen.\\n'\n",
      " '\\n'\n",
      " 'Positive example (answering the questions directly):\\n'\n",
      " '\\n'\n",
      " 'Wenn Sie auf der Suche nach Experten auf dem Gebiet antiker Möbel sind, gibt es verschiedene Möglichkeiten, fachkundige Beratung und Unterstützung zu finden. Eine Möglichkeit '\n",
      " 'ist der Besuch von Antiquitätenmessen oder -auktionen, auf denen Sie nicht nur seltene und wertvolle Stücke finden, sondern auch mit Händlern und Experten in Kontakt kommen '\n",
      " 'können. Auch Fachgeschäfte für antike Möbel können Ihnen weiterhelfen. Hier können Sie sich von kompetenten Verkäufern beraten lassen und sich ein Bild von der Qualität und '\n",
      " 'Echtheit der angebotenen Stücke machen. Wenn Sie sich für eine bestimmte Epoche oder einen Stil interessieren, können Sie sich auch an spezialisierte Vereine oder Museen '\n",
      " 'wenden, die oft über eigene Expertengruppen verfügen. Ein weiterer Anlaufpunkt können Online-Foren oder Social-Media-Gruppen sein, in denen Sammler und Enthusiasten ihre '\n",
      " 'Erfahrungen und ihr Wissen teilen.\\n'\n",
      " '\\n'\n",
      " 'Um einen Experten für antike Möbel zu finden, sollten Sie auf seine Qualifikationen und Erfahrungen achten. Seriöse Experten verfügen oft über eine Ausbildung in '\n",
      " 'Kunstgeschichte, Restaurierung oder Antiquitätenhandel und können Ihnen nicht nur bei der Einschätzung des Wertes, sondern auch bei der Pflege und Restaurierung Ihrer Schätze '\n",
      " 'helfen. Achten Sie auch auf Empfehlungen und Referenzen von anderen Kunden und lassen Sie sich im Zweifelsfall mehrere Meinungen einholen, um sicherzugehen, dass Sie es mit '\n",
      " 'einem kompetenten und vertrauenswürdigen Experten zu tun haben.')\n"
     ]
    }
   ],
   "source": [
    "from pprint import pprint\n",
    "import random \n",
    "\n",
    "row = random.randint(0,len(df[df[\"raw_texts\"]!=\"nan\"]))\n",
    "print(f\"---------[Questions {row}]---------\")\n",
    "print(\"Imperative Form:\")\n",
    "print(df[\"Imperative Form\"][row])\n",
    "print(\"Search String:\")\n",
    "print(df[\"Search String\"][row])\n",
    "print(\"Question:\")\n",
    "print(df[\"Question\"][row])\n",
    "print(\"---------[Raw Text]---------\")\n",
    "pprint(df[\"raw_texts\"][row], width=180)"
   ]
  },
  {
   "cell_type": "code",
   "execution_count": 362,
   "metadata": {},
   "outputs": [
    {
     "name": "stdout",
     "output_type": "stream",
     "text": [
      "---------[Questions 13535]---------\n",
      "Imperative Form:\n",
      "\"Suche nach Lehrbüchern zum Thema Maschinelles Lernen\"\n",
      "Search String:\n",
      "Lehrbücher Maschinelles Lernen kaufen\n",
      "Question:\n",
      "\"Wo kann ich Lehrbücher und Kursmaterialien zum Thema Maschinelles Lernen finden?\"\n",
      "---------[Raw Text]---------\n",
      "('Hard negative example (not containing the answer to the questions!):\\n'\n",
      " '\\n'\n",
      " 'Maschinelles Lernen ist ein faszinierendes und zunehmend relevantes Feld in der Informatik und Datenwissenschaft. Es beinhaltet die Entwicklung von Algorithmen, die automatisch '\n",
      " 'Muster und Strukturen in Daten erkennen und daraus Schlussfolgerungen ziehen können. Obwohl es eng mit der künstlichen Intelligenz verwandt ist, liegt der Fokus von '\n",
      " 'Maschinellem Lernen auf der Verbesserung von Systemleistung durch Erfahrung, anstatt explizites Wissen zu codieren.\\n'\n",
      " '\\n'\n",
      " 'In der Praxis wird Maschinelles Lernen in vielen Anwendungen eingesetzt, wie zum Beispiel in der Bild- und Spracherkennung, Empfehlungssystemen, und in der medizinischen '\n",
      " 'Diagnostik. Um mit Maschinellem Lernen zu beginnen, ist es jedoch wichtig, die Grundlagen der Mathematik und Statistik zu verstehen, die für die Algorithmenentwicklung '\n",
      " 'notwendig sind.\\n'\n",
      " '\\n'\n",
      " 'Positive example (answering the questions directly):\\n'\n",
      " '\\n'\n",
      " 'Wenn Sie auf der Suche nach Lehrbüchern und Kursmaterialien zum Thema Maschinelles Lernen sind, gibt es zahlreiche Ressourcen, die Ihnen helfen können. Ein empfohlenes Lehrbuch '\n",
      " 'ist \"Einführung in Maschinelles Lernen\" von Alpaydin, das die Grundlagen des Maschinellen Lernens verständlich erklärt und viele praktische Beispiele enthält.\\n'\n",
      " '\\n'\n",
      " 'Eine weitere hervorragende Ressource ist die Online-Plattform Coursera, die eine Vielzahl von Kursen zum Thema Maschinelles Lernen anbietet, darunter auch ein kostenloser Kurs '\n",
      " 'von Andrew Ng, einem führenden Experten auf diesem Gebiet.\\n'\n",
      " '\\n'\n",
      " 'Wenn Sie lieber physische Bücher kaufen möchten, können Sie diese bei Online-Händlern wie Amazon oder bei lokalen Buchhandlungen finden. Achten Sie darauf, die Bewertungen und '\n",
      " 'Rezensionen der Bücher zu lesen, um sicherzustellen, dass sie Ihren Bedürfnissen und Erwartungen entsprechen.\\n'\n",
      " '\\n'\n",
      " 'Zusammenfassend gibt es viele Möglichkeiten, Lehrbücher und Kursmaterialien zum Thema Maschinelles Lernen zu finden. Es ist wichtig, die richtigen Ressourcen zu wählen, die '\n",
      " 'Ihren Lernstil und Ihr Niveau entsprechen, um das Beste aus Ihrem Lernprozess herauszuholen.')\n"
     ]
    }
   ],
   "source": [
    "from pprint import pprint\n",
    "import random \n",
    "\n",
    "row = random.randint(0,len(df[df[\"raw_texts\"]!=\"nan\"]))\n",
    "print(f\"---------[Questions {row}]---------\")\n",
    "print(\"Imperative Form:\")\n",
    "print(df[\"Imperative Form\"][row])\n",
    "print(\"Search String:\")\n",
    "print(df[\"Search String\"][row])\n",
    "print(\"Question:\")\n",
    "print(df[\"Question\"][row])\n",
    "print(\"---------[Raw Text]---------\")\n",
    "pprint(df[\"raw_texts\"][row], width=180)"
   ]
  }
 ],
 "metadata": {
  "kernelspec": {
   "display_name": "qnovi_app",
   "language": "python",
   "name": "python3"
  },
  "language_info": {
   "codemirror_mode": {
    "name": "ipython",
    "version": 3
   },
   "file_extension": ".py",
   "mimetype": "text/x-python",
   "name": "python",
   "nbconvert_exporter": "python",
   "pygments_lexer": "ipython3",
   "version": "3.11.7"
  }
 },
 "nbformat": 4,
 "nbformat_minor": 2
}
