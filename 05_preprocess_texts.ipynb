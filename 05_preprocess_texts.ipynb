{
 "cells": [
  {
   "cell_type": "code",
   "execution_count": 107,
   "metadata": {},
   "outputs": [
    {
     "data": {
      "text/html": [
       "<div>\n",
       "<style scoped>\n",
       "    .dataframe tbody tr th:only-of-type {\n",
       "        vertical-align: middle;\n",
       "    }\n",
       "\n",
       "    .dataframe tbody tr th {\n",
       "        vertical-align: top;\n",
       "    }\n",
       "\n",
       "    .dataframe thead th {\n",
       "        text-align: right;\n",
       "    }\n",
       "</style>\n",
       "<table border=\"1\" class=\"dataframe\">\n",
       "  <thead>\n",
       "    <tr style=\"text-align: right;\">\n",
       "      <th></th>\n",
       "      <th>index</th>\n",
       "      <th>topic</th>\n",
       "      <th>questions</th>\n",
       "      <th>gen_questions</th>\n",
       "      <th>Imperative Form</th>\n",
       "      <th>Question</th>\n",
       "      <th>Search String</th>\n",
       "      <th>Positive</th>\n",
       "      <th>Hard Negative</th>\n",
       "      <th>raw_texts</th>\n",
       "    </tr>\n",
       "  </thead>\n",
       "  <tbody>\n",
       "    <tr>\n",
       "      <th>0</th>\n",
       "      <td>0</td>\n",
       "      <td>AK-47-Sturmgewehr</td>\n",
       "      <td>Waffengesetz-Informationen zur AK-47</td>\n",
       "      <td>Waffengesetz-Informationen zur AK-47\\nImperati...</td>\n",
       "      <td>\"Ermittle, ob die AK-47 in Deutschland als leg...</td>\n",
       "      <td>\"Gilt die AK-47 in Deutschland als legale Schu...</td>\n",
       "      <td>AK-47 Legalität in Deutschland</td>\n",
       "      <td>NaN</td>\n",
       "      <td>NaN</td>\n",
       "      <td>Hard negative example (not containing the answ...</td>\n",
       "    </tr>\n",
       "    <tr>\n",
       "      <th>1</th>\n",
       "      <td>0</td>\n",
       "      <td>AK-47-Sturmgewehr</td>\n",
       "      <td>Vergleich von AK-47 mit anderen Sturmgewehren</td>\n",
       "      <td>Vergleich von AK-47 mit anderen Sturmgewehren\\...</td>\n",
       "      <td>\"Vergleiche die Leistung des AK-47 mit anderen...</td>\n",
       "      <td>\"Wie unterscheidet sich die Leistung des AK-47...</td>\n",
       "      <td>AK-47 Leistungsvergleich mit anderen Sturmgewe...</td>\n",
       "      <td>NaN</td>\n",
       "      <td>NaN</td>\n",
       "      <td>Hard negative example (not containing the answ...</td>\n",
       "    </tr>\n",
       "    <tr>\n",
       "      <th>2</th>\n",
       "      <td>0</td>\n",
       "      <td>AK-47-Sturmgewehr</td>\n",
       "      <td>Historischer Hintergrund der AK-47</td>\n",
       "      <td>Historischer Hintergrund der AK-47\\nImperative...</td>\n",
       "      <td>\"Erkläre den historischen Hintergrund der AK-47.\"</td>\n",
       "      <td>\"Was ist der historische Hintergrund der AK-47?\"</td>\n",
       "      <td>historischer Hintergrund AK-47</td>\n",
       "      <td>NaN</td>\n",
       "      <td>NaN</td>\n",
       "      <td>Hard negative example (not containing the answ...</td>\n",
       "    </tr>\n",
       "    <tr>\n",
       "      <th>3</th>\n",
       "      <td>0</td>\n",
       "      <td>AK-47-Sturmgewehr</td>\n",
       "      <td>Technische Daten der AK-47</td>\n",
       "      <td>Technische Daten der AK-47\\nImperative Form:  ...</td>\n",
       "      <td>\"Notiere die technischen Spezifikationen der A...</td>\n",
       "      <td>\"Welche sind die technischen Spezifikationen d...</td>\n",
       "      <td>technische Daten AK-47</td>\n",
       "      <td>NaN</td>\n",
       "      <td>NaN</td>\n",
       "      <td>Hard negative example (not containing the answ...</td>\n",
       "    </tr>\n",
       "    <tr>\n",
       "      <th>4</th>\n",
       "      <td>0</td>\n",
       "      <td>AK-47-Sturmgewehr</td>\n",
       "      <td>AK-47 in verschiedenen Konflikten</td>\n",
       "      <td>AK-47 in verschiedenen Konflikten\\nImperative ...</td>\n",
       "      <td>\"Veranschauliche die Verwendung des AK-47 in v...</td>\n",
       "      <td>\"Wie wurde das AK-47 in verschiedenen Konflikt...</td>\n",
       "      <td>AK-47 Einsatz in Konflikten</td>\n",
       "      <td>NaN</td>\n",
       "      <td>NaN</td>\n",
       "      <td>Hard negative example (not containing the answ...</td>\n",
       "    </tr>\n",
       "    <tr>\n",
       "      <th>...</th>\n",
       "      <td>...</td>\n",
       "      <td>...</td>\n",
       "      <td>...</td>\n",
       "      <td>...</td>\n",
       "      <td>...</td>\n",
       "      <td>...</td>\n",
       "      <td>...</td>\n",
       "      <td>...</td>\n",
       "      <td>...</td>\n",
       "      <td>...</td>\n",
       "    </tr>\n",
       "    <tr>\n",
       "      <th>82646</th>\n",
       "      <td>16512</td>\n",
       "      <td>Kryptographie</td>\n",
       "      <td>Geschichte und Entwicklung von Kryptographie</td>\n",
       "      <td>Geschichte und Entwicklung von Kryptographie\\n...</td>\n",
       "      <td>\"Erkläre die Geschichte und Entwicklung der Kr...</td>\n",
       "      <td>\"Wie hat sich die Kryptographie im Laufe der G...</td>\n",
       "      <td>Geschichte und Entwicklung Kryptographie</td>\n",
       "      <td>NaN</td>\n",
       "      <td>NaN</td>\n",
       "      <td>nan</td>\n",
       "    </tr>\n",
       "    <tr>\n",
       "      <th>82647</th>\n",
       "      <td>16512</td>\n",
       "      <td>Kryptographie</td>\n",
       "      <td>Vergleich von symmetrischen und asymmetrischen...</td>\n",
       "      <td>Vergleich von symmetrischen und asymmetrischen...</td>\n",
       "      <td>\"Vergleiche die Funktionsweise symmetrischer u...</td>\n",
       "      <td>\"Was ist der Unterschied in der Funktionsweise...</td>\n",
       "      <td>Unterschied symmetrische und asymmetrische Ver...</td>\n",
       "      <td>NaN</td>\n",
       "      <td>NaN</td>\n",
       "      <td>nan</td>\n",
       "    </tr>\n",
       "    <tr>\n",
       "      <th>82648</th>\n",
       "      <td>16512</td>\n",
       "      <td>Kryptographie</td>\n",
       "      <td>Anwendungen von Kryptographie in Sicherheit un...</td>\n",
       "      <td>Anwendungen von Kryptographie in Sicherheit un...</td>\n",
       "      <td>\"Beschreibe, wie Kryptographie zur Verbesserun...</td>\n",
       "      <td>\"Wie wird Kryptographie in der Sicherheit und ...</td>\n",
       "      <td>Anwendungen Kryptographie Sicherheit Privatsphäre</td>\n",
       "      <td>NaN</td>\n",
       "      <td>NaN</td>\n",
       "      <td>nan</td>\n",
       "    </tr>\n",
       "    <tr>\n",
       "      <th>82649</th>\n",
       "      <td>16512</td>\n",
       "      <td>Kryptographie</td>\n",
       "      <td>Angriffe und Sicherheitslücken in Kryptosystemen</td>\n",
       "      <td>Angriffe und Sicherheitslücken in Kryptosystem...</td>\n",
       "      <td>\"Untersuche bekannte Angriffe auf Kryptosysteme.\"</td>\n",
       "      <td>\"Welche Angriffe sind bekannt für Kryptosysteme?\"</td>\n",
       "      <td>Bekannte Angriffe auf Kryptosysteme</td>\n",
       "      <td>NaN</td>\n",
       "      <td>NaN</td>\n",
       "      <td>nan</td>\n",
       "    </tr>\n",
       "    <tr>\n",
       "      <th>82650</th>\n",
       "      <td>16512</td>\n",
       "      <td>Kryptographie</td>\n",
       "      <td>Zukunft der Kryptographie und Quantenkryptogra...</td>\n",
       "      <td>Zukunft der Kryptographie und Quantenkryptogra...</td>\n",
       "      <td>\"Erkläre die zukünftige Bedeutung von Quantenk...</td>\n",
       "      <td>\"Welche Rolle wird Quantenkryptographie in der...</td>\n",
       "      <td>Zukunft Kryptographie Quantenkryptographie</td>\n",
       "      <td>NaN</td>\n",
       "      <td>NaN</td>\n",
       "      <td>nan</td>\n",
       "    </tr>\n",
       "  </tbody>\n",
       "</table>\n",
       "<p>82651 rows × 10 columns</p>\n",
       "</div>"
      ],
      "text/plain": [
       "       index              topic  \\\n",
       "0          0  AK-47-Sturmgewehr   \n",
       "1          0  AK-47-Sturmgewehr   \n",
       "2          0  AK-47-Sturmgewehr   \n",
       "3          0  AK-47-Sturmgewehr   \n",
       "4          0  AK-47-Sturmgewehr   \n",
       "...      ...                ...   \n",
       "82646  16512      Kryptographie   \n",
       "82647  16512      Kryptographie   \n",
       "82648  16512      Kryptographie   \n",
       "82649  16512      Kryptographie   \n",
       "82650  16512      Kryptographie   \n",
       "\n",
       "                                               questions  \\\n",
       "0                   Waffengesetz-Informationen zur AK-47   \n",
       "1          Vergleich von AK-47 mit anderen Sturmgewehren   \n",
       "2                     Historischer Hintergrund der AK-47   \n",
       "3                             Technische Daten der AK-47   \n",
       "4                      AK-47 in verschiedenen Konflikten   \n",
       "...                                                  ...   \n",
       "82646       Geschichte und Entwicklung von Kryptographie   \n",
       "82647  Vergleich von symmetrischen und asymmetrischen...   \n",
       "82648  Anwendungen von Kryptographie in Sicherheit un...   \n",
       "82649   Angriffe und Sicherheitslücken in Kryptosystemen   \n",
       "82650  Zukunft der Kryptographie und Quantenkryptogra...   \n",
       "\n",
       "                                           gen_questions  \\\n",
       "0      Waffengesetz-Informationen zur AK-47\\nImperati...   \n",
       "1      Vergleich von AK-47 mit anderen Sturmgewehren\\...   \n",
       "2      Historischer Hintergrund der AK-47\\nImperative...   \n",
       "3      Technische Daten der AK-47\\nImperative Form:  ...   \n",
       "4      AK-47 in verschiedenen Konflikten\\nImperative ...   \n",
       "...                                                  ...   \n",
       "82646  Geschichte und Entwicklung von Kryptographie\\n...   \n",
       "82647  Vergleich von symmetrischen und asymmetrischen...   \n",
       "82648  Anwendungen von Kryptographie in Sicherheit un...   \n",
       "82649  Angriffe und Sicherheitslücken in Kryptosystem...   \n",
       "82650  Zukunft der Kryptographie und Quantenkryptogra...   \n",
       "\n",
       "                                         Imperative Form  \\\n",
       "0      \"Ermittle, ob die AK-47 in Deutschland als leg...   \n",
       "1      \"Vergleiche die Leistung des AK-47 mit anderen...   \n",
       "2      \"Erkläre den historischen Hintergrund der AK-47.\"   \n",
       "3      \"Notiere die technischen Spezifikationen der A...   \n",
       "4      \"Veranschauliche die Verwendung des AK-47 in v...   \n",
       "...                                                  ...   \n",
       "82646  \"Erkläre die Geschichte und Entwicklung der Kr...   \n",
       "82647  \"Vergleiche die Funktionsweise symmetrischer u...   \n",
       "82648  \"Beschreibe, wie Kryptographie zur Verbesserun...   \n",
       "82649  \"Untersuche bekannte Angriffe auf Kryptosysteme.\"   \n",
       "82650  \"Erkläre die zukünftige Bedeutung von Quantenk...   \n",
       "\n",
       "                                                Question  \\\n",
       "0      \"Gilt die AK-47 in Deutschland als legale Schu...   \n",
       "1      \"Wie unterscheidet sich die Leistung des AK-47...   \n",
       "2       \"Was ist der historische Hintergrund der AK-47?\"   \n",
       "3      \"Welche sind die technischen Spezifikationen d...   \n",
       "4      \"Wie wurde das AK-47 in verschiedenen Konflikt...   \n",
       "...                                                  ...   \n",
       "82646  \"Wie hat sich die Kryptographie im Laufe der G...   \n",
       "82647  \"Was ist der Unterschied in der Funktionsweise...   \n",
       "82648  \"Wie wird Kryptographie in der Sicherheit und ...   \n",
       "82649  \"Welche Angriffe sind bekannt für Kryptosysteme?\"   \n",
       "82650  \"Welche Rolle wird Quantenkryptographie in der...   \n",
       "\n",
       "                                           Search String  Positive  \\\n",
       "0                         AK-47 Legalität in Deutschland       NaN   \n",
       "1      AK-47 Leistungsvergleich mit anderen Sturmgewe...       NaN   \n",
       "2                         historischer Hintergrund AK-47       NaN   \n",
       "3                                 technische Daten AK-47       NaN   \n",
       "4                            AK-47 Einsatz in Konflikten       NaN   \n",
       "...                                                  ...       ...   \n",
       "82646           Geschichte und Entwicklung Kryptographie       NaN   \n",
       "82647  Unterschied symmetrische und asymmetrische Ver...       NaN   \n",
       "82648  Anwendungen Kryptographie Sicherheit Privatsphäre       NaN   \n",
       "82649                Bekannte Angriffe auf Kryptosysteme       NaN   \n",
       "82650         Zukunft Kryptographie Quantenkryptographie       NaN   \n",
       "\n",
       "       Hard Negative                                          raw_texts  \n",
       "0                NaN  Hard negative example (not containing the answ...  \n",
       "1                NaN  Hard negative example (not containing the answ...  \n",
       "2                NaN  Hard negative example (not containing the answ...  \n",
       "3                NaN  Hard negative example (not containing the answ...  \n",
       "4                NaN  Hard negative example (not containing the answ...  \n",
       "...              ...                                                ...  \n",
       "82646            NaN                                                nan  \n",
       "82647            NaN                                                nan  \n",
       "82648            NaN                                                nan  \n",
       "82649            NaN                                                nan  \n",
       "82650            NaN                                                nan  \n",
       "\n",
       "[82651 rows x 10 columns]"
      ]
     },
     "execution_count": 107,
     "metadata": {},
     "output_type": "execute_result"
    }
   ],
   "source": [
    "import pandas as pd \n",
    "df = pd.read_parquet(\"results_texts.parquet\")"
   ]
  },
  {
   "cell_type": "markdown",
   "metadata": {},
   "source": [
    "# Statistics of Dataset\n",
    "## Characters"
   ]
  },
  {
   "cell_type": "code",
   "execution_count": 108,
   "metadata": {},
   "outputs": [
    {
     "name": "stdout",
     "output_type": "stream",
     "text": [
      "Mean number of characters: 1831.907006048387\n"
     ]
    }
   ],
   "source": [
    "charlengths = df[df[\"raw_texts\"]!=\"nan\"]['raw_texts'].str.len()\n",
    "mean_char_length = charlengths.mean()\n",
    "characters = mean_char_length/2\n",
    "print(f\"Mean number of characters: {characters}\")\n"
   ]
  },
  {
   "cell_type": "code",
   "execution_count": 112,
   "metadata": {},
   "outputs": [
    {
     "data": {
      "image/png": "[encoded data removed]",
      "text/plain": [
       "<Figure size 640x480 with 1 Axes>"
      ]
     },
     "metadata": {},
     "output_type": "display_data"
    }
   ],
   "source": [
    "import matplotlib.pyplot as plt \n",
    "bins = range(0,4000,32)\n",
    "hist = plt.hist(charlengths/2, bins=bins)\n",
    "title = plt.title(\"Character lengths\")\n",
    "xlabel = plt.xlabel(\"char_lengths\")\n",
    "ylabel = plt.ylabel(\"count\")"
   ]
  },
  {
   "cell_type": "markdown",
   "metadata": {},
   "source": [
    "## Words"
   ]
  },
  {
   "cell_type": "code",
   "execution_count": 113,
   "metadata": {},
   "outputs": [
    {
     "name": "stdout",
     "output_type": "stream",
     "text": [
      "Mean number of words: 249.52847782258064\n"
     ]
    }
   ],
   "source": [
    "import numpy as np \n",
    "word_lengths = df[df[\"raw_texts\"]!=\"nan\"]['raw_texts'].str.split().apply(len)\n",
    "mean_word_length = word_lengths.mean()\n",
    "words = mean_word_length/2\n",
    "print(f\"Mean number of words: {words}\")"
   ]
  },
  {
   "cell_type": "code",
   "execution_count": 114,
   "metadata": {},
   "outputs": [
    {
     "data": {
      "image/png": "[encoded data removed]",
      "text/plain": [
       "<Figure size 640x480 with 1 Axes>"
      ]
     },
     "metadata": {},
     "output_type": "display_data"
    }
   ],
   "source": [
    "import matplotlib.pyplot as plt \n",
    "bins = range(0,600,8)\n",
    "hist = plt.hist(word_lengths/2, bins=bins)\n",
    "title = plt.title(\"Word lengths\")\n",
    "xlabel = plt.xlabel(\"word_lengths\")\n",
    "ylabel = plt.ylabel(\"count\")"
   ]
  },
  {
   "cell_type": "markdown",
   "metadata": {},
   "source": [
    "## Tokens"
   ]
  },
  {
   "cell_type": "code",
   "execution_count": 115,
   "metadata": {},
   "outputs": [
    {
     "name": "stderr",
     "output_type": "stream",
     "text": [
      "Token indices sequence length is longer than the specified maximum sequence length for this model (1145 > 1024). Running this sequence through the model will result in indexing errors\n"
     ]
    },
    {
     "name": "stdout",
     "output_type": "stream",
     "text": [
      "Mean number of words: 678.2532762096774\n"
     ]
    }
   ],
   "source": [
    "from transformers import AutoTokenizer\n",
    "tokenizer = AutoTokenizer.from_pretrained('gpt2')\n",
    "\n",
    "import numpy as np \n",
    "token_lengths = df[df[\"raw_texts\"]!=\"nan\"]['raw_texts'].apply(lambda text: len(tokenizer.encode(text, add_special_tokens=True)))\n",
    "mean_token_length = token_lengths.mean()\n",
    "tokens = mean_token_length/2\n",
    "print(f\"Mean number of words: {tokens}\")\n"
   ]
  },
  {
   "cell_type": "code",
   "execution_count": 116,
   "metadata": {},
   "outputs": [
    {
     "data": {
      "image/png": "[encoded data removed]",
      "text/plain": [
       "<Figure size 640x480 with 1 Axes>"
      ]
     },
     "metadata": {},
     "output_type": "display_data"
    }
   ],
   "source": [
    "import matplotlib.pyplot as plt \n",
    "bins = range(0,2000,16)\n",
    "hist = plt.hist(token_lengths/2, bins=bins)\n",
    "title = plt.title(\"Token lengths\")\n",
    "xlabel = plt.xlabel(\"token_lengths\")\n",
    "ylabel = plt.ylabel(\"count\")"
   ]
  },
  {
   "cell_type": "markdown",
   "metadata": {},
   "source": [
    "# Output-Example"
   ]
  },
  {
   "cell_type": "code",
   "execution_count": 129,
   "metadata": {},
   "outputs": [
    {
     "name": "stdout",
     "output_type": "stream",
     "text": [
      "---------[Questions]---------\n",
      "Imperative Form:\n",
      "\"Erstelle eine Liste mit wichtigen Reisetipps und Sicherheitshinweisen für eine Reise nach Thailand.\"\n",
      "Search String:\n",
      "Reisetipps Thailand Sicherheit\n",
      "Question:\n",
      "\"Was sind wichtige Reisetipps und Sicherheitshinweise für eine Reise nach Thailand?\"\n",
      "---------[Raw Text]---------\n",
      "Hard negative example (not containing the answer!):\n",
      "\n",
      "Reisen ist eine aufregende und bereichernde Erfahrung, die Ihnen neue Perspektiven und unvergessliche Erinnerungen bescheren kann. Doch bevor Sie Ihre Koffer packen und in den Flieger steigen, sollten Sie sich bewusst sein, dass Reisen auch mit Risiken verbunden sein kann. Gerade bei Reisen in exotische Länder wie Thailand ist es wichtig, sich auf eventuelle Gefahren vorzubereiten und sich über lokale Gepflogenheiten und Sicherheitsmaßnahmen zu informieren.\n",
      "\n",
      "Es gibt jedoch keinen Grund, sich unnötig zu sorgen oder gar die Reise abzusagen. Mit ein paar einfachen Tipps und Tricks können Sie Ihre Sicherheit auf Reisen gewährleisten und das Beste aus Ihrer Reise nach Thailand herausholen.\n",
      "\n",
      "Zunächst einmal ist es wichtig, sich über die Einreisebestimmungen und Visabestimmungen für Thailand zu informieren. Stellen Sie sicher, dass Sie über ein gültiges Reisedokument verfügen und rechtzeitig ein Visum beantragen, falls dies erforderlich ist. Informieren Sie sich auch über die aktuelle politische Lage in Thailand und ob es derzeit Reisewarnungen gibt.\n",
      "\n",
      "Ein weiterer wichtiger Aspekt ist die Gesundheitsvorsorge. Stellen Sie sicher, dass Sie über eine ausreichende Reisekrankenversicherung verfügen und informieren Sie sich über mögliche Impfungen, die für Thailand empfohlen werden. Vergessen Sie nicht, auch an eine Reiseapotheke zu denken, die wichtige Medikamente und Hilfsmittel wie Sonnencreme und Insektenschutzmittel enthält.\n",
      "\n",
      "Wenn Sie in Thailand angekommen sind, ist es wichtig, sich an die lokalen Gepflogenheiten und Sitten zu halten. Respektieren Sie die Kultur und Traditionen des Landes und verhalten Sie sich höflich und bescheiden. Seien Sie sich bewusst, dass Thailand ein buddhistisches Land ist und dass Religion eine wichtige Rolle im täglichen Leben der Menschen spielt.\n",
      "\n",
      "Zudem ist es ratsam, sich von Menschen fernzuhalten, die Ihnen unseriöse Angebote machen oder versuchen, Sie in betrügerische Geschäfte zu verwickeln. Seien Sie vorsichtig bei der Nutzung von Geldautomaten und achten Sie darauf, Ihre Wertsachen sicher zu verwahren.\n",
      "\n",
      "Positive example (answering the question directly):\n",
      "\n",
      "Reisen nach Thailand kann eine aufregende und unvergessliche Erfahrung sein, aber es ist wichtig, sich auf die Reise vorzubereiten und sich über wichtige Reisetipps und Sicherheitshinweise zu informieren. Hier ist eine Liste mit einigen wichtigen Tipps und Hinweisen, die Ihnen helfen, Ihre Reise nach Thailand sicher und angenehm zu gestalten.\n",
      "\n",
      "1. Informieren Sie sich über die Einreisebestimmungen und Visabestimmungen für Thailand. Stellen Sie sicher, dass Sie über ein gültiges Reisedokument verfügen und rechtzeitig ein Visum beantragen, falls dies erforderlich ist. Informieren Sie sich auch über die aktuelle politische Lage in Thailand und ob es derzeit Reisewarnungen gibt.\n",
      "2. Sorgen Sie für eine ausreichende Reisekrankenversicherung und informieren Sie sich über mögliche Impfungen, die für Thailand empfohlen werden. Vergessen Sie nicht, auch an eine Reiseapotheke zu denken, die wichtige Medikamente und Hilfsmittel wie Sonnencreme und Insektenschutzmittel enthält.\n",
      "3. Respektieren Sie die Kultur und Traditionen Thailands und verhalten Sie sich höflich und bescheiden. Seien Sie sich bewusst, dass Thailand ein buddhistisches Land ist und dass Religion eine wichtige Rolle im täglichen Leben der Menschen spielt.\n",
      "4. Seien Sie vorsichtig bei der Nutzung von Geldautomaten und achten Sie darauf, Ihre Wertsachen sicher zu verwahren. Vermeiden Sie es, große Mengen Bargeld mit sich zu führen und lassen Sie Ihre Wertsachen nicht unbeaufsichtigt.\n",
      "5. Seien Sie vorsichtig bei der Nahrungs- und Getränkeaufnahme und achten Sie darauf, nur gekochtes Essen und abgefülltes Wasser zu sich zu nehmen. Vermeiden Sie es, rohes Fleisch, Fisch oder Meeresfrüchte zu essen, und waschen Sie sich häufig die Hände.\n",
      "6. Seien Sie vorsichtig bei der Teilnahme an Wassersportaktivitäten und achten Sie darauf, nur bei lizenzierten Anbietern zu buchen. Vergewissern Sie sich, dass die Ausrüstung in gutem Zustand ist und dass Sie über eine Schwimmweste verfügen.\n",
      "7. Seien Sie sich bewusst, dass Thailand ein tropisches Land ist und dass es zu heftigen Regenfällen und Überschwemmungen kommen kann. Informieren Sie sich über die Wetterbedingungen und planen Sie Ihre Aktivitäten entsprechend.\n",
      "8. Seien Sie vorsichtig bei der Nutzung von Taxis und anderen Verkehrsmitteln in Thailand. Vergewissern Sie sich, dass das Taxameter eingeschaltet ist und dass der Fahrer über eine gültige Lizenz verfügt.\n",
      "9. Seien Sie sich bewusst, dass Thailand ein beliebtes Reiseziel für Touristen ist und dass es leider auch zu Taschendiebstählen und anderen kriminellen Aktivitäten kommen kann. Seien Sie vorsichtig in Menschenmengen und vermeiden Sie es, nachts alleine unterwegs zu sein.\n",
      "10. Vergessen Sie nicht, sich zu entspannen und das Beste aus Ihrer Reise nach Thailand herauszuholen. Probieren Sie lokale Gerichte, besuchen Sie Tempel und andere Sehenswürdigkeiten und nehmen Sie sich Zeit, die Schönheit und Kultur Thailands zu genießen.\n"
     ]
    }
   ],
   "source": [
    "from pprint import pprint \n",
    "row = 33\n",
    "print(\"---------[Questions]---------\")\n",
    "print(\"Imperative Form:\")\n",
    "print(df[\"Imperative Form\"][row])\n",
    "print(\"Search String:\")\n",
    "print(df[\"Search String\"][row])\n",
    "print(\"Question:\")\n",
    "print(df[\"Question\"][row])\n",
    "print(\"---------[Raw Text]---------\")\n",
    "print(df[\"raw_texts\"][row])"
   ]
  },
  {
   "cell_type": "code",
   "execution_count": 127,
   "metadata": {},
   "outputs": [
    {
     "name": "stdout",
     "output_type": "stream",
     "text": [
      "---------[Questions]---------\n",
      "Imperative Form:\n",
      "\"Ermittle die Bahnverbindungen und Fahrpläne für Reisen in Europa.\"\n",
      "Search String:\n",
      "Bahnverbindungen und Fahrpläne in Europa suchen\n",
      "Question:\n",
      "\"Wie kann ich Bahnverbindungen und Fahrpläne für Reisen in Europa finden?\"\n",
      "---------[Raw Text]---------\n",
      "Hard negative example (not containing the answer!):\n",
      "\n",
      "Die Bahnreisen in Europa sind ein wichtiger Bestandteil des europäischen Verkehrssystems. Es gibt viele verschiedene Bahnverbindungen, die durch verschiedene Länder führen. Die Fahrpläne können jedoch kompliziert sein und es kann schwierig sein, die richtige Verbindung zu finden. Es ist wichtig, sich im Voraus über die verschiedenen Optionen zu informieren, um die beste Reiseentscheidung zu treffen.\n",
      "\n",
      "Es gibt viele Faktoren, die bei der Planung einer Bahnreise in Europa zu berücksichtigen sind. Zum Beispiel können Grenzübergänge und Zollkontrollen Zeit in Anspruch nehmen und die Reisezeit verlängern. Darüber hinaus können Streiks und andere unvorhergesehene Ereignisse die Reisepläne stören. Es ist wichtig, sich über diese potenziellen Probleme im Voraus zu informieren und alternative Reisepläne in Betracht zu ziehen.\n",
      "\n",
      "Es ist auch wichtig, sich über die Kosten von Bahnreisen in Europa zu informieren. Die Preise können je nach Land und Strecke variieren. Es ist ratsam, im Voraus zu buchen, um die besten Preise zu erhalten. Darüber hinaus können Rabattkarten und andere Angebote die Kosten reduzieren.\n",
      "\n",
      "Insgesamt ist es wichtig, sorgfältig zu planen und sich im Voraus über Bahnreisen in Europa zu informieren. Es gibt viele Ressourcen zur Verfügung, um Informationen zu sammeln, einschließlich Reisewebsites, Bahnunternehmen und Reisebüros. Mit der richtigen Planung und Vorbereitung kann eine Bahnreise in Europa ein unvergessliches Erlebnis sein.\n",
      "\n",
      "Positive example (answering the question directly):\n",
      "\n",
      "Um Bahnverbindungen und Fahrpläne für Reisen in Europa zu ermitteln, gibt es verschiedene Möglichkeiten. Eine Möglichkeit ist, die Website der Deutschen Bahn zu besuchen. Hier können Sie nach Zügen in ganz Europa suchen und Fahrpläne einsehen. Darüber hinaus bietet die Deutsche Bahn auch internationale Fahrkarten an.\n",
      "\n",
      "Eine weitere Möglichkeit ist, die Website der Europäischen Eisenbahnagentur (ERA) zu besuchen. Hier finden Sie Informationen zu allen Bahnverbindungen in Europa, einschließlich Zugverbindungen, Fahrpläne und Preise. Die ERA bietet auch eine Suchfunktion, mit der Sie nach Zügen in bestimmten Ländern oder Regionen suchen können.\n",
      "\n",
      "Darüber hinaus gibt es auch verschiedene Reisewebsites, die Bahnverbindungen und Fahrpläne für Reisen in Europa anbieten. Einige beliebte Optionen sind Bahn.de, Trainline und Omio. Diese Websites bieten oft auch internationale Fahrkarten an und ermöglichen es Ihnen, nach Zügen in ganz Europa zu suchen.\n",
      "\n",
      "Wenn Sie lieber direkt bei den Bahnunternehmen buchen möchten, können Sie auch deren Websites besuchen. Die größten Bahnunternehmen in Europa sind die Deutsche Bahn, die Französische Bahn (SNCF) und die Italienische Bahn (Trenitalia). Diese Unternehmen bieten oft auch internationale Fahrkarten an und haben detaillierte Informationen zu Zugverbindungen und Fahrplänen.\n",
      "\n",
      "Zusammenfassend gibt es verschiedene Möglichkeiten, Bahnverbindungen und Fahrpläne für Reisen in Europa zu ermitteln. Ob Sie die Website der Deutschen Bahn, die Europäische Eisenbahnagentur, Reisewebsites oder direkt die Bahnunternehmen besuchen, es ist wichtig, im Voraus zu planen und sich über die verschiedenen Optionen zu informieren. Mit der richtigen Planung und Vorbereitung können Sie eine unvergessliche Bahnreise in Europa erleben.\n"
     ]
    }
   ],
   "source": [
    "from pprint import pprint\n",
    "import random \n",
    "\n",
    "row = random.randint(0,len(df[df[\"raw_texts\"]!=\"nan\"]))\n",
    "print(\"---------[Questions]---------\")\n",
    "print(\"Imperative Form:\")\n",
    "print(df[\"Imperative Form\"][row])\n",
    "print(\"Search String:\")\n",
    "print(df[\"Search String\"][row])\n",
    "print(\"Question:\")\n",
    "print(df[\"Question\"][row])\n",
    "print(\"---------[Raw Text]---------\")\n",
    "print(df[\"raw_texts\"][row])"
   ]
  },
  {
   "cell_type": "code",
   "execution_count": 128,
   "metadata": {},
   "outputs": [
    {
     "name": "stdout",
     "output_type": "stream",
     "text": [
      "---------[Questions]---------\n",
      "Imperative Form:\n",
      "\"Schreibe über deine Erfahrungen als Bergsteiger.\"\n",
      "Search String:\n",
      "Bergsteiger Erfahrungsberichte\n",
      "Question:\n",
      "\"Was sind die Erfahrungen von Bergsteigern während ihrer Touren?\"\n",
      "---------[Raw Text]---------\n",
      "Hard negative example (not containing the answer!):\n",
      "\n",
      "Bergsteigen - eine faszinierende Leidenschaft\n",
      "\n",
      "Bergsteigen ist eine faszinierende Leidenschaft, die viele Menschen in ihren Bann zieht. Die Vorstellung, die Schönheit und die Herausforderungen der Berge zu erleben, ist für viele unglaublich anziehend. Doch bevor man sich auf den Weg macht, gibt es einige Dinge zu beachten.\n",
      "\n",
      "Erstens, die richtige Ausrüstung ist unerlässlich. Ohne die richtigen Schuhe, Kleidung und Ausrüstung ist es fast unmöglich, eine Bergbesteigung erfolgreich zu bewältigen. Es ist wichtig, sich vor der Tour gründlich zu informieren und sich mit den notwendigen Utensilien auszustatten.\n",
      "\n",
      "Zweitens, die körperliche Fitness ist ein weiterer wichtiger Faktor. Bergsteigen erfordert eine gute Kondition und Ausdauer. Es ist ratsam, sich vor der Tour auf die Belastungen vorzubereiten und regelmäßig zu trainieren.\n",
      "\n",
      "Drittens, das Wetter spielt eine entscheidende Rolle. Die Wetterbedingungen in den Bergen können sich schnell ändern und es ist wichtig, sich darauf einzustellen. Es ist ratsam, sich vor der Tour über die Wettervorhersage zu informieren und sich entsprechend zu kleiden und auszurüsten.\n",
      "\n",
      "Last but not least, die Sicherheit ist ein absolutes Muss. Es ist wichtig, sich vor der Tour über die Gefahren und Risiken zu informieren und sich entsprechend zu verhalten. Es ist ratsam, sich vor der Tour mit einem erfahrenen Bergführer zu verabreden und sich an seine Anweisungen zu halten.\n",
      "\n",
      "Bergsteigen ist eine faszinierende Leidenschaft, die viele Menschen in ihren Bann zieht. Doch bevor man sich auf den Weg macht, ist es wichtig, sich gründlich vorzubereiten und sich mit den notwendigen Utensilien auszustatten. Mit der richtigen Ausrüstung, der körperlichen Fitness, dem Wetter und der Sicherheit im Blick, steht einer unvergesslichen Bergbesteigung nichts mehr im Wege.\n",
      "\n",
      "Positive example (answering the question):\n",
      "\n",
      "Bergsteiger Erfahrungsberichte - Die Schönheit und Herausforderungen der Berge\n",
      "\n",
      "Bergsteigen ist eine Leidenschaft, die viele Menschen in ihren Bann zieht. Die Schönheit und die Herausforderungen der Berge sind für viele unglaublich anziehend. In diesem Artikel möchten wir über die Erfahrungen von Bergsteigern während ihrer Touren berichten.\n",
      "\n",
      "Die Vorbereitung ist der erste Schritt auf dem Weg zur Bergbesteigung. Es ist wichtig, sich gründlich über die Tour zu informieren und sich mit der richtigen Ausrüstung auszustatten. Dazu gehören die richtigen Schuhe, Kleidung und Ausrüstung wie Seile, Karabiner und Helme. Auch die körperliche Fitness ist ein wichtiger Faktor. Bergsteigen erfordert eine gute Kondition und Ausdauer. Es ist ratsam, sich vor der Tour auf die Belastungen vorzubereiten und regelmäßig zu trainieren.\n",
      "\n",
      "Sobald man sich auf den Weg macht, eröffnet sich eine Welt voller Schönheit und Herausforderungen. Die Berge bieten atemberaubende Ausblicke und ein Gefühl der Freiheit. Doch sie können auch gefährlich sein. Es ist wichtig, sich vor der Tour über die Gefahren und Risiken zu informieren und sich entsprechend zu verhalten. Es ist ratsam, sich vor der Tour mit einem erfahrenen Bergführer zu verabreden und sich an seine Anweisungen zu halten.\n",
      "\n",
      "Während der Tour erleben Bergsteiger oft unvergessliche Momente. Die Stille und Ruhe in den Bergen, das Gefühl, die Natur hautnah zu erleben und die Herausforderung, die Berge zu bezwingen, sind für viele ein unvergessliches Erlebnis. Doch auch die körperliche Anstrengung und die Überwindung von Ängsten und Grenzen sind Teil der Erfahrung.\n",
      "\n",
      "Zusammenfassend lässt sich sagen, dass Bergsteigen eine faszinierende Leidenschaft ist, die viele Menschen in ihren Bann zieht. Die Schönheit und Herausforderungen der Berge sind für viele unglaublich anziehend. Die Vorbereitung, die körperliche Fitness, das Wetter und die Sicherheit sind wichtige Faktoren, die es zu beachten gilt. Doch am Ende stehen unvergessliche Momente und Erlebnisse, die man sein Leben lang nicht vergisst.\n"
     ]
    }
   ],
   "source": [
    "from pprint import pprint\n",
    "import random \n",
    "\n",
    "row = random.randint(0,len(df[df[\"raw_texts\"]!=\"nan\"]))\n",
    "print(\"---------[Questions]---------\")\n",
    "print(\"Imperative Form:\")\n",
    "print(df[\"Imperative Form\"][row])\n",
    "print(\"Search String:\")\n",
    "print(df[\"Search String\"][row])\n",
    "print(\"Question:\")\n",
    "print(df[\"Question\"][row])\n",
    "print(\"---------[Raw Text]---------\")\n",
    "print(df[\"raw_texts\"][row])"
   ]
  },
  {
   "cell_type": "code",
   "execution_count": 130,
   "metadata": {},
   "outputs": [
    {
     "name": "stdout",
     "output_type": "stream",
     "text": [
      "---------[Questions]---------\n",
      "Imperative Form:\n",
      "\"Suchen Sie nach Tutorials für Avid NewsCutter.\"\n",
      "Search String:\n",
      "Lernmaterialien Avid NewsCutter Tutorials\n",
      "Question:\n",
      "\"Wo kann ich Lernmaterialien für Avid NewsCutter finden?\"\n",
      "---------[Raw Text]---------\n",
      "Hard negative example (not containing the answer!):\n",
      "\n",
      "Die Welt der Videobearbeitung ist riesig und komplex. Es gibt eine Vielzahl von Softwarelösungen, die für unterschiedliche Anwendungsbereiche und Bedürfnisse entwickelt wurden. Avid NewsCutter ist eine solche Lösung, die für professionelle Nachrichtenredaktionen und Sendungen konzipiert ist. Doch wie bei vielen anderen Softwareprodukten ist der Einstieg nicht immer einfach. Viele Benutzer suchen nach Möglichkeiten, sich schnell und effektiv in das Programm einzuarbeiten und seine Funktionen zu beherrschen.\n",
      "\n",
      "Es gibt jedoch keine einfachen Antworten auf die Fragen nach Tutorials und Lernmaterialien für Avid NewsCutter. Die offizielle Website von Avid bietet zwar eine Reihe von Ressourcen an, darunter Dokumentationen, Handbücher und Webinare, doch diese sind oft nur für fortgeschrittene Benutzer geeignet. Für Einsteiger kann es schwierig sein, die relevanten Informationen herauszufiltern und die Grundlagen des Programms zu erlernen.\n",
      "\n",
      "Es gibt jedoch einige Alternativen, die Benutzern zur Verfügung stehen. Zum Beispiel können Benutzer Online-Foren und Communities besuchen, in denen andere Benutzer von Avid NewsCutter ihre Erfahrungen und Tipps teilen. Diese Ressourcen können eine gute Möglichkeit sein, um Fragen zu stellen und Antworten von anderen Benutzern zu erhalten, die möglicherweise ähnliche Herausforderungen bewältigen mussten.\n",
      "\n",
      "Ein weiterer Ansatz ist das Ausprobieren von kostenlosen Testversionen oder Demos von Avid NewsCutter, um ein Gefühl für das Programm zu bekommen und seine Funktionen zu erkunden. Auf diese Weise können Benutzer herausfinden, ob das Programm ihren Bedürfnissen entspricht und ob es sich lohnt, in die Software zu investieren.\n",
      "\n",
      "Insgesamt gibt es keine einfachen Antworten auf die Fragen nach Tutorials und Lernmaterialien für Avid NewsCutter. Es erfordert etwas Recherche und Experimentieren, um die relevanten Ressourcen zu finden und die Grundlagen des Programms zu erlernen. Doch mit ein wenig Geduld und Ausdauer können Benutzer die Funktionen von Avid NewsCutter beherrschen und professionelle Videos erstellen.\n",
      "\n",
      "Positive example (answering the question directly):\n",
      "\n",
      "Wenn Sie nach Tutorials und Lernmaterialien für Avid NewsCutter suchen, sind Sie hier genau richtig. Avid NewsCutter ist eine leistungsstarke Videobearbeitungssoftware, die für professionelle Nachrichtenredaktionen und Sendungen entwickelt wurde. Um das Programm effektiv zu nutzen, ist es wichtig, sich mit seinen Funktionen und Werkzeugen vertraut zu machen.\n",
      "\n",
      "Die offizielle Website von Avid bietet eine Reihe von Ressourcen an, die Benutzern dabei helfen, sich in Avid NewsCutter einzuarbeiten. Dazu gehören Handbücher, Dokumentationen und Webinare, die von Avid-Experten geleitet werden. Diese Ressourcen sind eine gute Möglichkeit, um die Grundlagen des Programms zu erlernen und sich mit seinen Funktionen vertraut zu machen.\n",
      "\n",
      "Darüber hinaus gibt es auch eine Reihe von Drittanbietern, die Tutorials und Lernmaterialien für Avid NewsCutter anbieten. Diese Ressourcen können eine gute Möglichkeit sein, um spezifische Funktionen oder Techniken zu erlernen, die in den offiziellen Ressourcen nicht abgedeckt sind. Einige dieser Ressourcen sind kostenlos verfügbar, während andere kostenpflichtig sind.\n",
      "\n",
      "Es ist wichtig zu beachten, dass nicht alle Tutorials und Lernmaterialien gleich sind. Einige sind möglicherweise veraltet oder verwenden veraltete Versionen von Avid NewsCutter. Daher ist es wichtig, sicherzustellen, dass die Ressourcen, die Sie verwenden, aktuell und für Ihre Version von Avid NewsCutter geeignet sind.\n",
      "\n",
      "Insgesamt gibt es eine Vielzahl von Ressourcen, die Benutzern dabei helfen, sich in Avid NewsCutter einzuarbeiten und seine Funktionen zu beherrschen. Obwohl es etwas Recherche und Ausprobieren erfordern mag, können Benutzer mit den richtigen Ressourcen schnell und effektiv lernen, wie sie professionelle Videos mit Avid NewsCutter erstellen können.\n"
     ]
    }
   ],
   "source": [
    "from pprint import pprint\n",
    "import random \n",
    "\n",
    "row = random.randint(0,len(df[df[\"raw_texts\"]!=\"nan\"]))\n",
    "print(\"---------[Questions]---------\")\n",
    "print(\"Imperative Form:\")\n",
    "print(df[\"Imperative Form\"][row])\n",
    "print(\"Search String:\")\n",
    "print(df[\"Search String\"][row])\n",
    "print(\"Question:\")\n",
    "print(df[\"Question\"][row])\n",
    "print(\"---------[Raw Text]---------\")\n",
    "print(df[\"raw_texts\"][row])"
   ]
  }
 ],
 "metadata": {
  "kernelspec": {
   "display_name": "qnovi_app",
   "language": "python",
   "name": "python3"
  },
  "language_info": {
   "codemirror_mode": {
    "name": "ipython",
    "version": 3
   },
   "file_extension": ".py",
   "mimetype": "text/x-python",
   "name": "python",
   "nbconvert_exporter": "python",
   "pygments_lexer": "ipython3",
   "version": "3.11.7"
  }
 },
 "nbformat": 4,
 "nbformat_minor": 2
}
