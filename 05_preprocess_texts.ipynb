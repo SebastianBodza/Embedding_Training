{
 "cells": [
  {
   "cell_type": "code",
   "execution_count": 382,
   "metadata": {},
   "outputs": [
    {
     "data": {
      "text/plain": [
       "Index(['index', 'topic', 'questions', 'gen_questions', 'Imperative Form',\n",
       "       'Question', 'Search String', 'Positive', 'Hard Negative', 'raw_texts'],\n",
       "      dtype='object')"
      ]
     },
     "execution_count": 382,
     "metadata": {},
     "output_type": "execute_result"
    }
   ],
   "source": [
    "import pandas as pd \n",
    "df = pd.read_parquet(\"04_results_texts_diffPrompt2.parquet\")\n",
    "df.columns"
   ]
  },
  {
   "cell_type": "code",
   "execution_count": 376,
   "metadata": {},
   "outputs": [
    {
     "data": {
      "text/plain": [
       "82651"
      ]
     },
     "execution_count": 376,
     "metadata": {},
     "output_type": "execute_result"
    }
   ],
   "source": [
    "len(df)"
   ]
  },
  {
   "cell_type": "code",
   "execution_count": 383,
   "metadata": {},
   "outputs": [
    {
     "data": {
      "text/plain": [
       "21120"
      ]
     },
     "execution_count": 383,
     "metadata": {},
     "output_type": "execute_result"
    }
   ],
   "source": [
    "len(df[df[\"raw_texts\"]!=\"nan\"])"
   ]
  },
  {
   "cell_type": "code",
   "execution_count": 384,
   "metadata": {},
   "outputs": [
    {
     "name": "stdout",
     "output_type": "stream",
     "text": [
      "['\"Finde Nachrichtenartikel zur Sozialpolitik in Deutschland.\"'\n",
      " '\"Wo kann ich Nachrichtenartikel zur Sozialpolitik in Deutschland finden?\"'\n",
      " 'Nachrichtenartikel Sozialpolitik Deutschland']\n",
      "Hard negative example (not containing the answer to the questions!):\n",
      "\n",
      "Die Sozialpolitik in Frankreich ist ein äußerst interessantes Thema, das viele Menschen beschäftigt. Im Vergleich zu Deutschland hat Frankreich ein anderes Sozialsystem, das sich durch eine stärkere Staatlichkeit und eine universelle Krankenversicherung auszeichnet. Die französische Sozialpolitik ist auch für ihre Arbeitsmarktreformen bekannt, die zu einer höheren Flexibilität und einem besseren Schutz der Arbeitnehmer führen sollen. Die Unterschiede zwischen den Sozialsystemen Deutschlands und Frankreichs sind daher sehr spannend zu vergleichen und zu analysieren.\n",
      "\n",
      "Positive example (answering the questions directly):\n",
      "\n",
      "Um Nachrichtenartikel zur Sozialpolitik in Deutschland zu finden, können Sie verschiedene Online-Nachrichtenportale und Magazine besuchen. Einige empfehlenswerte Quellen sind:\n",
      "\n",
      "* Der Spiegel: Das Nachrichtenmagazin bietet regelmäßig Artikel zu aktuellen Themen der Sozialpolitik in Deutschland.\n",
      "* Die Zeit: Die Wochenzeitung hat eine eigene Rubrik für Sozialpolitik, in der Sie fundierte Artikel zu verschiedenen Aspekten des Themas finden.\n",
      "* Das Bundesministerium für Arbeit und Soziales: Die offizielle Website des Ministeriums bietet aktuelle Nachrichten und Informationen zu sozialpolitischen Themen.\n",
      "* Die Bundeszentrale für politische Bildung: Die Bundeszentrale hat eine eigene Rubrik für Sozialpolitik, in der Sie Hintergrundinformationen und Analysen zu verschiedenen Themen finden.\n",
      "\n",
      "Diese Quellen bieten Ihnen eine gute Auswahl an Nachrichtenartikeln zur Sozialpolitik in Deutschland, die Sie für Ihre Recherche oder Ihr Interesse nutzen können.\n",
      "['\"Untersuche die Sozialpolitik der deutschen Bundesregierung.\"'\n",
      " '\"Was sind die Eckpunkte der Sozialpolitik der deutschen Bundesregierung?\"'\n",
      " 'Sozialpolitik der deutschen Bundesregierung']\n",
      "Hard negative example (not containing the answer to the questions!):\n",
      "\n",
      "Die Sozialpolitik der dänischen Regierung ist international bekannt für ihre fortschrittlichen Ansätze. Im Gegensatz zur deutschen Bundesregierung, die sich auf die Stärkung der sozialen Marktwirtschaft konzentriert, legt die dänische Regierung besonderen Wert auf die Förderung des sozialen Zusammenhalts. Dänemark verfügt über ein umfassendes System der sozialen Sicherheit, das Arbeitslosen, Behinderten und älteren Menschen umfassende Unterstützung bietet. Die dänische Regierung hat auch ein progressives Steuersystem, das sicherstellt, dass die reichsten Bürger einen größeren Beitrag zur Finanzierung des Sozialstaats leisten. Im Gegensatz dazu ist die deutsche Sozialpolitik eher auf die Förderung der Wirtschaft ausgerichtet und konzentriert sich auf die Stärkung der Wettbewerbsfähigkeit der Unternehmen.\n",
      "\n",
      "Positive example (containing the answer to the questions!):\n",
      "\n",
      "Die Sozialpolitik der deutschen Bundesregierung ist ein wichtiger Bestandteil des politischen Systems Deutschlands. Die Bundesregierung hat eine aktive Sozialpolitik verfolgt, die sich auf die Förderung der sozialen Gerechtigkeit und die Stärkung der sozialen Marktwirtschaft konzentriert. Die Eckpunkte der Sozialpolitik der deutschen Bundesregierung umfassen:\n",
      "\n",
      "1. Arbeitsmarktpolitik: Die Bundesregierung hat eine aktive Arbeitsmarktpolitik verfolgt, die darauf abzielt, die Arbeitslosigkeit zu reduzieren und die Beschäftigung zu fördern. Dazu gehören Maßnahmen wie die Förderung der beruflichen Weiterbildung und die Unterstützung von Arbeitslosen bei der Suche nach Arbeit.\n",
      "2. Soziale Sicherheit: Die Bundesregierung hat ein umfassendes System der sozialen Sicherheit eingeführt, das Arbeitslosen, Behinderten und älteren Menschen umfassende Unterstützung bietet. Dazu gehören Leistungen wie Arbeitslosengeld, Rente und Krankenversicherung.\n",
      "3. Familienpolitik: Die Bundesregierung hat eine aktive Familienpolitik verfolgt, die darauf abzielt, die Vereinbarkeit von Beruf und Familie zu fördern. Dazu gehören Maßnahmen wie die Einführung von Elternzeit und die Förderung von Kinderbetreuungseinrichtungen.\n",
      "4. Gesundheitspolitik: Die Bundesregierung hat eine aktive Gesundheitspolitik verfolgt, die darauf abzielt, die Qualität der Gesundheitsversorgung zu verbessern und die Kosten der Gesundheitsversorgung zu kontrollieren. Dazu gehören Maßnahmen wie die Einführung von Krankenversicherungskarten und die Förderung von Prävention und Früherkennung.\n",
      "\n",
      "Insgesamt ist die Sozialpolitik der deutschen Bundesregierung darauf ausgerichtet, die soziale Gerechtigkeit zu fördern und die soziale Marktwirtschaft zu stärken. Die Bundesregierung hat eine aktive Sozialpolitik verfolgt, die darauf abzielt, die Arbeitslosigkeit zu reduzieren, die soziale Sicherheit zu verbessern und die Vereinbarkeit von Beruf und Familie zu fördern.\n",
      "['\"Finde Berichte zu Sozialreformen in Deutschland.\"'\n",
      " '\"Wo kann ich Berichte zu Sozialreformen in Deutschland finden?\"'\n",
      " 'Berichte Sozialreformen Deutschland']\n",
      "Hard negative example (not containing the answer to the questions!):\n",
      "\n",
      "Die Sozialpolitik in Frankreich hat in den letzten Jahren große Veränderungen erfahren. Die Regierung hat eine Reihe von Reformen umgesetzt, um das Rentensystem zu überarbeiten und die Arbeitslosenversicherung zu stärken. Diese Reformen haben zu heftigen Protesten und Debatten im Land geführt. Die Gewerkschaften argumentieren, dass die Reformen die Rechte der Arbeiter einschränken und die soziale Ungleichheit verstärken. Die Regierung hingegen betont, dass die Reformen notwendig seien, um die wirtschaftliche Stabilität und das Wachstum zu fördern. Diese Debatte über Sozialreformen in Frankreich zeigt, wie wichtig und umstritten sozialpolitische Fragen sein können.\n",
      "\n",
      "Positive example (answering the questions directly):\n",
      "\n",
      "Berichte zu Sozialreformen in Deutschland finden Sie auf der Website des Bundesministeriums für Arbeit und Soziales (BMAS). Das Ministerium veröffentlicht regelmäßig Berichte und Studien zu aktuellen sozialpolitischen Themen, wie Rente, Arbeitsmarkt, Gesundheit und Sozialversicherung. Auf der Website können Sie die Berichte nach Themen und Datum durchsuchen. Zudem finden Sie auf der Seite des Statistischen Bundesamtes (Destatis) aktuelle Daten und Statistiken zu sozialpolitischen Fragen. Destatis veröffentlicht regelmäßig Berichte und Analysen zu Themen wie Armut, Bildung, Beschäftigung und soziale Sicherung. Beide Quellen bieten eine Fülle von Informationen und Einblicken in die deutsche Sozialpolitik und ihre Reformen.\n"
     ]
    }
   ],
   "source": [
    "for n, row in df[df[\"raw_texts\"]!=\"nan\"][-3:].iterrows():\n",
    "    print(row[[\"Imperative Form\", \"Question\", \"Search String\"]].values)\n",
    "    print(row[\"raw_texts\"])"
   ]
  },
  {
   "cell_type": "markdown",
   "metadata": {},
   "source": [
    "# Statistics of Dataset\n",
    "## Characters"
   ]
  },
  {
   "cell_type": "code",
   "execution_count": 356,
   "metadata": {},
   "outputs": [
    {
     "name": "stdout",
     "output_type": "stream",
     "text": [
      "Mean number of characters: 1019.4851862980769\n"
     ]
    }
   ],
   "source": [
    "charlengths = df[df[\"raw_texts\"]!=\"nan\"]['raw_texts'].str.len()\n",
    "mean_char_length = charlengths.mean()\n",
    "characters = mean_char_length/2\n",
    "print(f\"Mean number of characters: {characters}\")\n"
   ]
  },
  {
   "cell_type": "code",
   "execution_count": 357,
   "metadata": {},
   "outputs": [
    {
     "data": {
      "image/png": "[encoded data removed]",
      "text/plain": [
       "<Figure size 640x480 with 1 Axes>"
      ]
     },
     "metadata": {},
     "output_type": "display_data"
    }
   ],
   "source": [
    "import matplotlib.pyplot as plt \n",
    "bins = range(0,4000,32)\n",
    "hist = plt.hist(charlengths/2, bins=bins)\n",
    "title = plt.title(\"Character lengths\")\n",
    "xlabel = plt.xlabel(\"char_lengths\")\n",
    "ylabel = plt.ylabel(\"count\")"
   ]
  },
  {
   "cell_type": "markdown",
   "metadata": {},
   "source": [
    "## Words"
   ]
  },
  {
   "cell_type": "code",
   "execution_count": 358,
   "metadata": {},
   "outputs": [
    {
     "name": "stdout",
     "output_type": "stream",
     "text": [
      "Mean number of words: 137.14645432692308\n"
     ]
    }
   ],
   "source": [
    "import numpy as np \n",
    "word_lengths = df[df[\"raw_texts\"]!=\"nan\"]['raw_texts'].str.split().apply(len)\n",
    "mean_word_length = word_lengths.mean()\n",
    "words = mean_word_length/2\n",
    "print(f\"Mean number of words: {words}\")"
   ]
  },
  {
   "cell_type": "code",
   "execution_count": 338,
   "metadata": {},
   "outputs": [
    {
     "data": {
      "image/png": "[encoded data removed]",
      "text/plain": [
       "<Figure size 640x480 with 1 Axes>"
      ]
     },
     "metadata": {},
     "output_type": "display_data"
    }
   ],
   "source": [
    "import matplotlib.pyplot as plt \n",
    "bins = range(0,600,8)\n",
    "hist = plt.hist(word_lengths/2, bins=bins)\n",
    "title = plt.title(\"Word lengths\")\n",
    "xlabel = plt.xlabel(\"word_lengths\")\n",
    "ylabel = plt.ylabel(\"count\")"
   ]
  },
  {
   "cell_type": "markdown",
   "metadata": {},
   "source": [
    "## Tokens"
   ]
  },
  {
   "cell_type": "code",
   "execution_count": 359,
   "metadata": {},
   "outputs": [
    {
     "name": "stderr",
     "output_type": "stream",
     "text": [
      "Token indices sequence length is longer than the specified maximum sequence length for this model (1190 > 1024). Running this sequence through the model will result in indexing errors\n"
     ]
    },
    {
     "name": "stdout",
     "output_type": "stream",
     "text": [
      "Mean number of words: 355.77641225961537\n"
     ]
    }
   ],
   "source": [
    "from transformers import AutoTokenizer\n",
    "tokenizer = AutoTokenizer.from_pretrained('gpt2')\n",
    "\n",
    "import numpy as np \n",
    "token_lengths = df[df[\"raw_texts\"]!=\"nan\"]['raw_texts'].apply(lambda text: len(tokenizer.encode(text, add_special_tokens=True)))-len(tokenizer.encode(\"Hard negative example (not containing the answer to the questions!):\"))-len(tokenizer.encode(\"Positive example (answering the questions directly):\"))\n",
    "mean_token_length = token_lengths.mean()\n",
    "tokens = mean_token_length/2\n",
    "print(f\"Mean number of words: {tokens}\")\n",
    "\n",
    "\n"
   ]
  },
  {
   "cell_type": "code",
   "execution_count": 360,
   "metadata": {},
   "outputs": [
    {
     "data": {
      "image/png": "[encoded data removed]",
      "text/plain": [
       "<Figure size 640x480 with 1 Axes>"
      ]
     },
     "metadata": {},
     "output_type": "display_data"
    }
   ],
   "source": [
    "import matplotlib.pyplot as plt \n",
    "bins = range(0,2000,16)\n",
    "hist = plt.hist(token_lengths/2, bins=bins)\n",
    "title = plt.title(\"Token lengths\")\n",
    "xlabel = plt.xlabel(\"token_lengths\")\n",
    "ylabel = plt.ylabel(\"count\")"
   ]
  },
  {
   "cell_type": "markdown",
   "metadata": {},
   "source": [
    "# Output-Example"
   ]
  },
  {
   "cell_type": "code",
   "execution_count": 361,
   "metadata": {},
   "outputs": [
    {
     "name": "stdout",
     "output_type": "stream",
     "text": [
      "---------[Questions]---------\n",
      "Imperative Form:\n",
      "\"Erstelle eine Liste mit wichtigen Reisetipps und Sicherheitshinweisen für eine Reise nach Thailand.\"\n",
      "Search String:\n",
      "Reisetipps Thailand Sicherheit\n",
      "Question:\n",
      "\"Was sind wichtige Reisetipps und Sicherheitshinweise für eine Reise nach Thailand?\"\n",
      "---------[Raw Text]---------\n",
      "Hard negative example (not containing the answer to the questions!):\n",
      "\n",
      "Reisen nach Asien sind für viele Menschen ein Traum, und Thailand ist ein beliebtes Ziel. Doch bevor Sie Ihre Koffer packen, sollten Sie sich über die lokalen Gepflogenheiten informieren, um kulturelle Missverständnisse zu vermeiden. In Thailand ist es beispielsweise unangebracht, die königliche Familie in irgendeiner Form zu beleidigen oder zu verspotten. Auch das Berühren des Kopfes eines Thailänders ist ein Tabu, da der Kopf in der thailändischen Kultur als das heiligste Körperteil gilt.\n",
      "\n",
      "Es ist außerdem wichtig, sich über die lokale Währung, den Baht, zu informieren und sich mit dem Umtauschkurs vertraut zu machen. Achten Sie darauf, nur offizielle Wechselstuben oder Banken für den Umtausch zu nutzen, um betrügerische Wechselkurse zu vermeiden.\n",
      "\n",
      "Positive example (answering the questions directly):\n",
      "\n",
      "Wenn Sie eine Reise nach Thailand planen, sollten Sie sich unbedingt mit wichtigen Reisetipps und Sicherheitshinweisen vertraut machen. Hier ist eine Liste mit einigen wichtigen Punkten:\n",
      "\n",
      "1. Impfungen: Stellen Sie sicher, dass Ihre Standardimpfungen auf dem neuesten Stand sind und sprechen Sie mit Ihrem Arzt über mögliche zusätzliche Impfungen, wie Hepatitis A und Typhus.\n",
      "2. Reisedokumente: Überprüfen Sie das Ablaufdatum Ihres Reisepasses und stellen Sie sicher, dass er noch mindestens sechs Monate gültig ist.\n",
      "3. Sicherheit: Lassen Sie Ihre Wertsachen im Hotelsafe und tragen Sie nur das Nötigste bei sich. Seien Sie vorsichtig in überfüllten Touristengebieten und verwenden Sie nur lizenzierte Taxis.\n",
      "4. Essen und Trinken: Trinken Sie nur abgekochtes Wasser und vermeiden Sie Eiswürfel, es sei denn, sie stammen aus sicherer Quelle. Achten Sie auf gut gekochtes Essen und vermeiden Sie rohes Fleisch oder Fisch.\n",
      "5. Kultur: Respektieren Sie die lokalen Bräuche und Traditionen und kleiden Sie sich angemessen, insbesondere in Tempeln und religiösen Stätten.\n",
      "6. Natur: Thailand ist bekannt für seine atemberaubende Natur, aber es gibt auch einige Gefahren, wie Moskitos und Sonnenbrand. Schützen Sie sich entsprechend und informieren Sie sich über mögliche Risiken.\n",
      "\n",
      "Indem Sie diese Reisetipps und Sicherheitshinweise befolgen, können Sie Ihre Reise nach Thailand sicher und angenehm gestalten.\n"
     ]
    }
   ],
   "source": [
    "from pprint import pprint \n",
    "row = 33\n",
    "print(\"---------[Questions]---------\")\n",
    "print(\"Imperative Form:\")\n",
    "print(df[\"Imperative Form\"][row])\n",
    "print(\"Search String:\")\n",
    "print(df[\"Search String\"][row])\n",
    "print(\"Question:\")\n",
    "print(df[\"Question\"][row])\n",
    "print(\"---------[Raw Text]---------\")\n",
    "print(df[\"raw_texts\"][row])"
   ]
  },
  {
   "cell_type": "code",
   "execution_count": 322,
   "metadata": {},
   "outputs": [
    {
     "name": "stdout",
     "output_type": "stream",
     "text": [
      "---------[Questions]---------\n",
      "Imperative Form:\n",
      "\"Erstelle eine Übersicht über die Integrationsmaßnahmen für ausländische Fachkräfte.\"\n",
      "Search String:\n",
      "Integrationsmaßnahmen ausländische Fachkräfte\n",
      "Question:\n",
      "\"Welche Integrationsmaßnahmen gibt es für ausländische Fachkräfte?\"\n",
      "---------[Raw Text]---------\n",
      "Hard negative example (not containing the answer to the questions!):\n",
      "\n",
      "Die Agentur für Arbeit ist eine wichtige Institution in Deutschland, die sich um die Belange der Arbeitssuchenden und Arbeitgeber kümmert. Sie bietet verschiedene Dienstleistungen an, um Arbeitslose bei der Jobsuche zu unterstützen und Unternehmen bei der Personalrekrutierung zu helfen. Einen besonderen Fokus legt die Agentur für Arbeit auf die Integration von Menschen mit Migrationshintergrund in den Arbeitsmarkt. Hierzu werden verschiedene Projekte und Initiativen ins Leben gerufen, die die sprachlichen und fachlichen Kompetenzen der Zuwanderer fördern und sie auf den deutschen Arbeitsmarkt vorbereiten.\n",
      "\n",
      "Positive example (answering the questions directly):\n",
      "\n",
      "Die Agentur für Arbeit bietet zahlreiche Integrationsmaßnahmen für ausländische Fachkräfte an, um ihnen den Einstieg in den deutschen Arbeitsmarkt zu erleichtern. Dazu gehören Sprachkurse, Berufsvorbereitungsmaßnahmen und Qualifizierungsprogramme.\n",
      "\n",
      "Sprachkurse: Die Agentur für Arbeit bietet Sprachkurse in verschiedenen Sprachniveaus an, um die sprachlichen Fähigkeiten der ausländischen Fachkräfte zu verbessern. Die Kurse umfassen sowohl allgemeinsprachliche als auch fachsprachliche Inhalte.\n",
      "\n",
      "Berufsvorbereitungsmaßnahmen: Die Agentur für Arbeit bietet auch Berufsvorbereitungsmaßnahmen an, um ausländische Fachkräfte auf den deutschen Arbeitsmarkt vorzubereiten. Hierzu gehören beispielsweise Bewerbungstraining, Interviewtraining und Praktika.\n",
      "\n",
      "Qualifizierungsprogramme: Die Agentur für Arbeit bietet zudem Qualifizierungsprogramme an, um die fachlichen Kompetenzen der ausländischen Fachkräfte zu stärken. Hierzu gehören beispielsweise Fortbildungen, Umschulungen und Weiterbildungen.\n",
      "\n",
      "Darüber hinaus bietet die Agentur für Arbeit auch Unterstützung bei der Anerkennung ausländischer Berufsabschlüsse an und vermittelt ausländische Fachkräfte an Unternehmen, die offene Stellen haben.\n"
     ]
    }
   ],
   "source": [
    "from pprint import pprint\n",
    "import random \n",
    "\n",
    "row = random.randint(0,len(df[df[\"raw_texts\"]!=\"nan\"]))\n",
    "print(\"---------[Questions]---------\")\n",
    "print(\"Imperative Form:\")\n",
    "print(df[\"Imperative Form\"][row])\n",
    "print(\"Search String:\")\n",
    "print(df[\"Search String\"][row])\n",
    "print(\"Question:\")\n",
    "print(df[\"Question\"][row])\n",
    "print(\"---------[Raw Text]---------\")\n",
    "print(df[\"raw_texts\"][row])"
   ]
  },
  {
   "cell_type": "code",
   "execution_count": 323,
   "metadata": {},
   "outputs": [
    {
     "name": "stdout",
     "output_type": "stream",
     "text": [
      "---------[Questions]---------\n",
      "Imperative Form:\n",
      "\"Suchen Sie nach Ressourcen, um die Benutzerfreundlichkeit von Websites in Adobe Dreamweaver zu verbessern.\"\n",
      "Search String:\n",
      "Ressourcen Benutzerfreundlichkeit verbessern Adobe Dreamweaver\n",
      "Question:\n",
      "\"Wo kann ich Ressourcen finden, um die Benutzerfreundlichkeit von Websites in Adobe Dreamweaver zu verbessern?\"\n",
      "---------[Raw Text]---------\n",
      "Hard negative example (not containing the answer to the questions!):\n",
      "\n",
      "Die Verbesserung der Benutzerfreundlichkeit von Websites ist ein wichtiger Aspekt der modernen Webentwicklung. Viele Webdesigner und Entwickler setzen auf Adobe Dreamweaver als ihr bevorzugtes Werkzeug für die Erstellung und Bearbeitung von Websites. Es ist jedoch wichtig zu beachten, dass Adobe Dreamweaver nicht nur ein Tool zur Erstellung von Websites ist, sondern auch eine Vielzahl von Funktionen und Möglichkeiten bietet, um die Benutzerfreundlichkeit von Websites zu verbessern.\n",
      "\n",
      "Es gibt jedoch keinen einfachen Weg, um die Benutzerfreundlichkeit von Websites in Adobe Dreamweaver zu verbessern. Stattdessen erfordert es eine Kombination aus Wissen, Erfahrung und Kreativität. Zum Beispiel können Webdesigner die Benutzerfreundlichkeit von Websites verbessern, indem sie die Navigation einfach und intuitiv gestalten, die Ladezeiten minimieren und die Benutzerfreundlichkeit für mobile Geräte optimieren. Es ist jedoch wichtig zu beachten, dass die Verbesserung der Benutzerfreundlichkeit von Websites ein kontinuierlicher Prozess ist, der eine ständige Überwachung und Optimierung erfordert.\n",
      "\n",
      "Positive example (containing the answer to the questions!):\n",
      "\n",
      "Es gibt eine Vielzahl von Ressourcen, die Ihnen dabei helfen können, die Benutzerfreundlichkeit von Websites in Adobe Dreamweaver zu verbessern. Eine der besten Ressourcen ist die offizielle Adobe Dreamweaver-Website, die eine Vielzahl von Tutorials, Artikeln und Ressourcen zur Verbesserung der Benutzerfreundlichkeit von Websites bietet.\n",
      "\n",
      "Eine weitere großartige Ressource ist das Adobe Dreamweaver-Forum, in dem Sie sich mit anderen Webdesignern und Entwicklern austauschen und Unterstützung erhalten können. Hier können Sie Fragen stellen, Antworten finden und sich über die neuesten Trends und Techniken in der Webentwicklung informieren.\n",
      "\n",
      "Darüber hinaus gibt es eine Vielzahl von Online-Kursen und Schulungen, die sich auf die Verbesserung der Benutzerfreundlichkeit von Websites in Adobe Dreamweaver konzentrieren. Diese Kurse werden von einer Vielzahl von Anbietern angeboten, darunter Udemy, Lynda und Pluralsight. Diese Kurse bieten eine strukturierte Lernumgebung und ermöglichen es Ihnen, Ihre Fähigkeiten schrittweise zu verbessern.\n",
      "\n",
      "Zusammenfassend lässt sich sagen, dass es eine Vielzahl von Ressourcen gibt, die Ihnen dabei helfen können, die Benutzerfreundlichkeit von Websites in Adobe Dreamweaver zu verbessern. Von offiziellen Tutorials bis hin zu Online-Kursen und Foren gibt es eine Fülle von Informationen und Unterstützung, die Ihnen helfen können, Ihre Fähigkeiten zu verbessern und Ihre Websites benutzerfreundlicher zu gestalten.\n"
     ]
    }
   ],
   "source": [
    "from pprint import pprint\n",
    "import random \n",
    "\n",
    "row = random.randint(0,len(df[df[\"raw_texts\"]!=\"nan\"]))\n",
    "print(\"---------[Questions]---------\")\n",
    "print(\"Imperative Form:\")\n",
    "print(df[\"Imperative Form\"][row])\n",
    "print(\"Search String:\")\n",
    "print(df[\"Search String\"][row])\n",
    "print(\"Question:\")\n",
    "print(df[\"Question\"][row])\n",
    "print(\"---------[Raw Text]---------\")\n",
    "print(df[\"raw_texts\"][row])"
   ]
  },
  {
   "cell_type": "code",
   "execution_count": 325,
   "metadata": {},
   "outputs": [
    {
     "name": "stdout",
     "output_type": "stream",
     "text": [
      "---------[Questions]---------\n",
      "Imperative Form:\n",
      "\"Finden Sie Informationen über die Integration von erneuerbaren Energien in das Stromnetz.\"\n",
      "Search String:\n",
      "Integration erneuerbarer Energien Stromnetz\n",
      "Question:\n",
      "\"Wie wird die Integration erneuerbarer Energien in das Stromnetz durchgeführt?\"\n",
      "---------[Raw Text]---------\n",
      "Hard negative example (not containing the answer to the questions!):\n",
      "\n",
      "Erneuerbare Energien sind eine wichtige Säule der Energiepolitik und tragen zur Reduzierung von Treibhausgasemissionen bei. Doch wie sieht es mit der Nutzung von Solarenergie in Deutschland aus? Laut Bundesverband Solarwirtschaft e.V. wurden im Jahr 2020 rund 4,8 Gigawatt an Solarenergieleistung installiert. Dies entspricht einem Anstieg von 3 % im Vergleich zum Vorjahr. Doch wie wird die Solarenergie genutzt? In Deutschland wird Solarenergie hauptsächlich zur Stromerzeugung eingesetzt. Die erzeugte Energie wird ins Stromnetz eingespeist und kann so von Verbrauchern genutzt werden. Doch wie funktioniert das Stromnetz überhaupt? Das deutsche Stromnetz ist ein komplexes System von Leitungen, Umspannwerken und Transformatoren, das die Erzeugung, Übertragung und Verteilung von Strom ermöglicht. Doch wie wird das Stromnetz stabil gehalten? Das ist eine komplexe Aufgabe, die eine enge Zusammenarbeit zwischen den Netzbetreibern und der Politik erfordert.\n",
      "\n",
      "Positive example (containing the answer to the questions!):\n",
      "\n",
      "Die Integration erneuerbarer Energien in das Stromnetz ist ein wichtiger Schritt hin zu einer nachhaltigeren Energieversorgung. Doch wie wird diese Integration durchgeführt? Die Integration erfolgt durch eine Kombination aus technischen Lösungen und politischen Maßnahmen. Zum einen müssen die erneuerbaren Energien in das Stromnetz eingespeist werden. Dazu werden sogenannte Einspeisemanagementsysteme eingesetzt, die die Einspeisung von Strom aus erneuerbaren Energien regeln. Zum anderen müssen die erneuerbaren Energien im Stromnetz gespeichert werden, um die Versorgungssicherheit zu gewährleisten. Dazu werden verschiedene Speichertechnologien eingesetzt, wie beispielsweise Pumpspeicherkraftwerke oder Batteriespeicher. Zum anderen müssen die erneuerbaren Energien im Stromnetz transportiert werden. Dazu werden sogenannte Gleichstrom-Hochspannungs-Gleichstrom-Übertragungsleitungen (HGÜ) eingesetzt, die den Strom über weite Strecken transportieren können. Zum anderen müssen die erneuerbaren Energien im Stromnetz verteilt werden. Dazu werden sogenannte Smart Grids eingesetzt, die den Strom intelligent verteilen und so die Versorgungssicherheit gewährleisten. Insgesamt ist die Integration erneuerbarer Energien in das Stromnetz ein komplexer Prozess, der eine enge Zusammenarbeit zwischen Politik, Industrie und Wissenschaft erfordert.\n"
     ]
    }
   ],
   "source": [
    "from pprint import pprint\n",
    "import random \n",
    "\n",
    "row = random.randint(0,len(df[df[\"raw_texts\"]!=\"nan\"]))\n",
    "print(\"---------[Questions]---------\")\n",
    "print(\"Imperative Form:\")\n",
    "print(df[\"Imperative Form\"][row])\n",
    "print(\"Search String:\")\n",
    "print(df[\"Search String\"][row])\n",
    "print(\"Question:\")\n",
    "print(df[\"Question\"][row])\n",
    "print(\"---------[Raw Text]---------\")\n",
    "print(df[\"raw_texts\"][row])"
   ]
  },
  {
   "cell_type": "code",
   "execution_count": 326,
   "metadata": {},
   "outputs": [
    {
     "name": "stdout",
     "output_type": "stream",
     "text": [
      "---------[Questions]---------\n",
      "Imperative Form:\n",
      "\"Suchen Sie nach Artikeln, die die Geschichte der Astronomie beschreiben.\"\n",
      "Search String:\n",
      "Artikel Geschichte der Astronomie\n",
      "Question:\n",
      "\"Wo kann ich Artikel finden, die die Geschichte der Astronomie beschreiben?\"\n",
      "---------[Raw Text]---------\n",
      "Hard negative example (not containing the answer to the questions!):\n",
      "\n",
      "Die Geschichte der Botanik ist ebenso faszinierend wie die Geschichte der Astronomie. Schon vor tausenden von Jahren versuchten Menschen, die Pflanzenwelt zu verstehen und zu kategorisieren. Die alten Griechen und Römer machten erste zaghafte Versuche, Pflanzen zu benennen und zu klassifizieren. Im Mittelalter entwickelten sich dann die Klostergärten, in denen Mönche heimische und exotische Pflanzen anbauten und studierten. Im 16. und 17. Jahrhundert erlebte die Botanik schließlich ihre Blütezeit, als Naturforscher wie Carl von Linné systematische Namen und Klassifikationen für Pflanzen einführten. Auch heute noch ist die Botanik ein aktives Forschungsgebiet, in dem Wissenschaftler neue Arten entdecken und die Beziehungen zwischen Pflanzen und ihrer Umwelt untersuchen.\n",
      "\n",
      "Positive example (answering the questions directly):\n",
      "\n",
      "Wenn Sie nach Artikeln suchen, die die Geschichte der Astronomie beschreiben, empfehle ich Ihnen, die folgenden Websites und Bücher zu besuchen. Eine hervorragende Online-Ressource ist die Website der Europäischen Südsternwarte (ESO), auf der Sie eine Chronik der Astronomiegeschichte finden. Die ESO ist eine internationale Organisation, die sich der Förderung der astronomischen Forschung widmet und mehrere Observatorien in Chile betreibt. Die Chronik umfasst die wichtigsten Entdeckungen und Meilensteine in der Astronomiegeschichte, von den frühesten Beobachtungen des Sternenhimmels bis hin zu den neuesten Erkenntnissen über das Universum.\n",
      "\n",
      "Ein weiterer empfehlenswerter Artikel ist \"Die Geschichte der Astronomie\" von Thomas Hockey, erschienen im Verlag Wiley-VCH. Dieses Buch bietet eine umfassende und gut geschriebene Übersicht über die Entwicklung der Astronomie von der Antike bis zur Gegenwart. Es behandelt die wichtigsten astronomischen Theorien, Instrumente und Persönlichkeiten und erklärt die historischen und kulturellen Kontexte, in denen die Astronomie entstanden ist.\n",
      "\n",
      "Zusätzlich zu diesen Ressourcen gibt es auch viele Online-Magazine und Blogs, die sich der Astronomiegeschichte widmen. Einige Beispiele sind \"Astronomy Now\", \"Sky & Telescope\" und \"Universe Today\". Diese Magazine und Blogs bieten aktuelle Nachrichten, Artikel und Fotostrecken zu verschiedenen astronomischen Themen, darunter auch die Geschichte der Astronomie.\n",
      "\n",
      "Insgesamt gibt es also viele Möglichkeiten, Artikel zur Geschichte der Astronomie zu finden. Ob online oder in Buchform, diese Ressourcen bieten Ihnen eine faszinierende und informative Lektüre über die Entwicklung der Astronomie und ihre Bedeutung für unsere Kultur und Wissenschaft.\n"
     ]
    }
   ],
   "source": [
    "from pprint import pprint\n",
    "import random \n",
    "\n",
    "row = random.randint(0,len(df[df[\"raw_texts\"]!=\"nan\"]))\n",
    "print(\"---------[Questions]---------\")\n",
    "print(\"Imperative Form:\")\n",
    "print(df[\"Imperative Form\"][row])\n",
    "print(\"Search String:\")\n",
    "print(df[\"Search String\"][row])\n",
    "print(\"Question:\")\n",
    "print(df[\"Question\"][row])\n",
    "print(\"---------[Raw Text]---------\")\n",
    "print(df[\"raw_texts\"][row])"
   ]
  },
  {
   "cell_type": "code",
   "execution_count": 352,
   "metadata": {},
   "outputs": [
    {
     "name": "stdout",
     "output_type": "stream",
     "text": [
      "---------[Questions 7964]---------\n",
      "Imperative Form:\n",
      "\"Ermittle Benutzerkonten mit spezifischen Rechten.\"\n",
      "Search String:\n",
      "Benutzerkonten mit bestimmten Rechten finden\n",
      "Question:\n",
      "\"Welche Benutzerkonten besitzen bestimmte Rechte?\"\n",
      "---------[Raw Text]---------\n",
      "Hard negative example (not containing the answer to the questions!):\n",
      "\n",
      "Benutzerkonten sind heutzutage ein wichtiger Bestandteil vieler Online-Dienste und -Plattformen. Ob bei sozialen Medien, E-Commerce-Websites oder Unternehmenssoftware – Benutzerkonten ermöglichen es, individuelle Einstellungen vorzunehmen und persönliche Daten zu speichern. Doch was passiert, wenn man vergisst, sich abzumelden? In vielen Fällen bleibt das Konto aktiv und andere Nutzer können potenziell auf die persönlichen Daten zugreifen. Um dies zu verhindern, sollten Nutzer sich immer abmelden, wenn sie einen Online-Dienst verlassen. Zusätzlich können Zwei-Faktor-Authentifizierung und starke Passwörter dazu beitragen, die Sicherheit von Benutzerkonten zu erhöhen.\n",
      "\n",
      "Positive example (answering the questions directly):\n",
      "\n",
      "Um Benutzerkonten mit spezifischen Rechten zu ermitteln, können Sie die folgenden Schritte ausführen:\n",
      "\n",
      "1. Melden Sie sich bei Ihrem Systemadministratorkonto an.\n",
      "2. Navigieren Sie zum Bereich \"Benutzerverwaltung\" oder \"Benutzerkonten\".\n",
      "3. Suchen Sie nach der Option \"Benutzerrechte\" oder \"Benutzerberechtigungen\".\n",
      "4. Wählen Sie die Rechte aus, die Sie suchen, und klicken Sie auf \"Suchen\" oder \"Filter\".\n",
      "5. Die Benutzerkonten, die über die ausgewählten Rechte verfügen, werden angezeigt.\n",
      "\n",
      "Alternativ können Sie auch die Suchfunktion Ihres Systems verwenden, um nach Benutzerkonten mit bestimmten Rechten zu suchen. Geben Sie dazu einfach den Namen der Rechte in das Suchfeld ein und drücken Sie die Eingabetaste. Die Ergebnisse sollten alle Benutzerkonten anzeigen, die über die gesuchten Rechte verfügen.\n",
      "\n",
      "Wenn Sie sich nicht sicher sind, welche Rechte ein bestimmtes Benutzerkonto besitzt, können Sie das Konto auswählen und die Rechte einsehen. In der Regel wird hier eine Übersicht der Rechte angezeigt, die dem Konto zugewiesen sind.\n"
     ]
    }
   ],
   "source": [
    "from pprint import pprint\n",
    "import random \n",
    "\n",
    "row = random.randint(0,len(df[df[\"raw_texts\"]!=\"nan\"]))\n",
    "print(f\"---------[Questions {row}]---------\")\n",
    "print(\"Imperative Form:\")\n",
    "print(df[\"Imperative Form\"][row])\n",
    "print(\"Search String:\")\n",
    "print(df[\"Search String\"][row])\n",
    "print(\"Question:\")\n",
    "print(df[\"Question\"][row])\n",
    "print(\"---------[Raw Text]---------\")\n",
    "print(df[\"raw_texts\"][row])"
   ]
  },
  {
   "cell_type": "code",
   "execution_count": 328,
   "metadata": {},
   "outputs": [
    {
     "name": "stdout",
     "output_type": "stream",
     "text": [
      "---------[Questions 1319]---------\n",
      "Imperative Form:\n",
      "\"Suche nach Experten, die sich auf antike Möbel spezialisiert haben.\"\n",
      "Search String:\n",
      "Experten antike Möbel\n",
      "Question:\n",
      "\"Wer sind Experten auf dem Gebiet antiker Möbel?\"\n",
      "---------[Raw Text]---------\n",
      "('Hard negative example (not containing the answer to the questions!):\\n'\n",
      " '\\n'\n",
      " 'Die Welt der antiken Möbel ist faszinierend und vielseitig. Von römischen Betten über gotische Truhen bis hin zu barocken Sesseln gibt es eine Fülle von Stilen und Epochen, die '\n",
      " 'die Geschichte der Möbelherstellung erzählen. Doch nicht nur die Optik und die handwerkliche Meisterschaft begeistern Sammler und Enthusiasten. Antike Möbelstücke sind oft auch '\n",
      " 'von historischer Bedeutung und können uns viel über vergangene Kulturen und Lebensweisen verraten. Leider ist es nicht immer einfach, die Echtheit und den Wert antiker Möbel zu '\n",
      " 'bestimmen. Ohne entsprechendes Fachwissen kann man schnell auf Fälschungen hereinfallen oder den wahren Wert eines Stückes unterschätzen. Daher ist es ratsam, sich vor dem Kauf '\n",
      " 'von antiken Möbeln gründlich zu informieren und gegebenenfalls einen Experten hinzuzuziehen.\\n'\n",
      " '\\n'\n",
      " 'Positive example (answering the questions directly):\\n'\n",
      " '\\n'\n",
      " 'Wenn Sie auf der Suche nach Experten auf dem Gebiet antiker Möbel sind, gibt es verschiedene Möglichkeiten, fachkundige Beratung und Unterstützung zu finden. Eine Möglichkeit '\n",
      " 'ist der Besuch von Antiquitätenmessen oder -auktionen, auf denen Sie nicht nur seltene und wertvolle Stücke finden, sondern auch mit Händlern und Experten in Kontakt kommen '\n",
      " 'können. Auch Fachgeschäfte für antike Möbel können Ihnen weiterhelfen. Hier können Sie sich von kompetenten Verkäufern beraten lassen und sich ein Bild von der Qualität und '\n",
      " 'Echtheit der angebotenen Stücke machen. Wenn Sie sich für eine bestimmte Epoche oder einen Stil interessieren, können Sie sich auch an spezialisierte Vereine oder Museen '\n",
      " 'wenden, die oft über eigene Expertengruppen verfügen. Ein weiterer Anlaufpunkt können Online-Foren oder Social-Media-Gruppen sein, in denen Sammler und Enthusiasten ihre '\n",
      " 'Erfahrungen und ihr Wissen teilen.\\n'\n",
      " '\\n'\n",
      " 'Um einen Experten für antike Möbel zu finden, sollten Sie auf seine Qualifikationen und Erfahrungen achten. Seriöse Experten verfügen oft über eine Ausbildung in '\n",
      " 'Kunstgeschichte, Restaurierung oder Antiquitätenhandel und können Ihnen nicht nur bei der Einschätzung des Wertes, sondern auch bei der Pflege und Restaurierung Ihrer Schätze '\n",
      " 'helfen. Achten Sie auch auf Empfehlungen und Referenzen von anderen Kunden und lassen Sie sich im Zweifelsfall mehrere Meinungen einholen, um sicherzugehen, dass Sie es mit '\n",
      " 'einem kompetenten und vertrauenswürdigen Experten zu tun haben.')\n"
     ]
    }
   ],
   "source": [
    "from pprint import pprint\n",
    "import random \n",
    "\n",
    "row = random.randint(0,len(df[df[\"raw_texts\"]!=\"nan\"]))\n",
    "print(f\"---------[Questions {row}]---------\")\n",
    "print(\"Imperative Form:\")\n",
    "print(df[\"Imperative Form\"][row])\n",
    "print(\"Search String:\")\n",
    "print(df[\"Search String\"][row])\n",
    "print(\"Question:\")\n",
    "print(df[\"Question\"][row])\n",
    "print(\"---------[Raw Text]---------\")\n",
    "pprint(df[\"raw_texts\"][row], width=180)"
   ]
  },
  {
   "cell_type": "code",
   "execution_count": 362,
   "metadata": {},
   "outputs": [
    {
     "name": "stdout",
     "output_type": "stream",
     "text": [
      "---------[Questions 13535]---------\n",
      "Imperative Form:\n",
      "\"Suche nach Lehrbüchern zum Thema Maschinelles Lernen\"\n",
      "Search String:\n",
      "Lehrbücher Maschinelles Lernen kaufen\n",
      "Question:\n",
      "\"Wo kann ich Lehrbücher und Kursmaterialien zum Thema Maschinelles Lernen finden?\"\n",
      "---------[Raw Text]---------\n",
      "('Hard negative example (not containing the answer to the questions!):\\n'\n",
      " '\\n'\n",
      " 'Maschinelles Lernen ist ein faszinierendes und zunehmend relevantes Feld in der Informatik und Datenwissenschaft. Es beinhaltet die Entwicklung von Algorithmen, die automatisch '\n",
      " 'Muster und Strukturen in Daten erkennen und daraus Schlussfolgerungen ziehen können. Obwohl es eng mit der künstlichen Intelligenz verwandt ist, liegt der Fokus von '\n",
      " 'Maschinellem Lernen auf der Verbesserung von Systemleistung durch Erfahrung, anstatt explizites Wissen zu codieren.\\n'\n",
      " '\\n'\n",
      " 'In der Praxis wird Maschinelles Lernen in vielen Anwendungen eingesetzt, wie zum Beispiel in der Bild- und Spracherkennung, Empfehlungssystemen, und in der medizinischen '\n",
      " 'Diagnostik. Um mit Maschinellem Lernen zu beginnen, ist es jedoch wichtig, die Grundlagen der Mathematik und Statistik zu verstehen, die für die Algorithmenentwicklung '\n",
      " 'notwendig sind.\\n'\n",
      " '\\n'\n",
      " 'Positive example (answering the questions directly):\\n'\n",
      " '\\n'\n",
      " 'Wenn Sie auf der Suche nach Lehrbüchern und Kursmaterialien zum Thema Maschinelles Lernen sind, gibt es zahlreiche Ressourcen, die Ihnen helfen können. Ein empfohlenes Lehrbuch '\n",
      " 'ist \"Einführung in Maschinelles Lernen\" von Alpaydin, das die Grundlagen des Maschinellen Lernens verständlich erklärt und viele praktische Beispiele enthält.\\n'\n",
      " '\\n'\n",
      " 'Eine weitere hervorragende Ressource ist die Online-Plattform Coursera, die eine Vielzahl von Kursen zum Thema Maschinelles Lernen anbietet, darunter auch ein kostenloser Kurs '\n",
      " 'von Andrew Ng, einem führenden Experten auf diesem Gebiet.\\n'\n",
      " '\\n'\n",
      " 'Wenn Sie lieber physische Bücher kaufen möchten, können Sie diese bei Online-Händlern wie Amazon oder bei lokalen Buchhandlungen finden. Achten Sie darauf, die Bewertungen und '\n",
      " 'Rezensionen der Bücher zu lesen, um sicherzustellen, dass sie Ihren Bedürfnissen und Erwartungen entsprechen.\\n'\n",
      " '\\n'\n",
      " 'Zusammenfassend gibt es viele Möglichkeiten, Lehrbücher und Kursmaterialien zum Thema Maschinelles Lernen zu finden. Es ist wichtig, die richtigen Ressourcen zu wählen, die '\n",
      " 'Ihren Lernstil und Ihr Niveau entsprechen, um das Beste aus Ihrem Lernprozess herauszuholen.')\n"
     ]
    }
   ],
   "source": [
    "from pprint import pprint\n",
    "import random \n",
    "\n",
    "row = random.randint(0,len(df[df[\"raw_texts\"]!=\"nan\"]))\n",
    "print(f\"---------[Questions {row}]---------\")\n",
    "print(\"Imperative Form:\")\n",
    "print(df[\"Imperative Form\"][row])\n",
    "print(\"Search String:\")\n",
    "print(df[\"Search String\"][row])\n",
    "print(\"Question:\")\n",
    "print(df[\"Question\"][row])\n",
    "print(\"---------[Raw Text]---------\")\n",
    "pprint(df[\"raw_texts\"][row], width=180)"
   ]
  }
 ],
 "metadata": {
  "kernelspec": {
   "display_name": "qnovi_app",
   "language": "python",
   "name": "python3"
  },
  "language_info": {
   "codemirror_mode": {
    "name": "ipython",
    "version": 3
   },
   "file_extension": ".py",
   "mimetype": "text/x-python",
   "name": "python",
   "nbconvert_exporter": "python",
   "pygments_lexer": "ipython3",
   "version": "3.11.7"
  }
 },
 "nbformat": 4,
 "nbformat_minor": 2
}
