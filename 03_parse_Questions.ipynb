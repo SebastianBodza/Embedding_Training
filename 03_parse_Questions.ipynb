{
 "cells": [
  {
   "cell_type": "code",
   "execution_count": 52,
   "metadata": {},
   "outputs": [
    {
     "data": {
      "text/plain": [
       "'Reiseziele und Sehenswürdigkeiten\\nImperative Form:  \"Erstelle eine Liste mit den beliebtesten Reisezielen und Sehenswürdigkeiten weltweit.\"\\nQuestion:  \"Welche sind die beliebtesten Reiseziele und Sehenswürdigkeiten weltweit?\"\\nSearch String:  \"beliebteste Reiseziele und Sehenswürdigkeiten\"\\n\\nImperative Form:  \"Suche nach den Top 10 Reisezielen und Sehenswürdigkeiten in Asien.\"\\nQuestion:  \"Was sind die Top 10 Reiseziele und Sehenswürdigkeiten in Asien?\"\\nSearch String:  \"Top 10 Reiseziele und Sehenswürdigkeiten Asien\"\\n\\nImperative Form:  \"Finde die Top-Sehenswürdigkeiten in Paris.\"\\nQuestion:  \"Welche sind die Top-Sehenswürdigkeiten in Paris?\"\\nSearch String:  \"Top-Sehenswürdigkeiten Paris\"\\n\\nImperative Form:  \"Erstelle eine Liste mit den besten Reisezielen für Naturliebhaber.\"\\nQuestion:  \"Welche sind die besten Reiseziele für Naturliebhaber?\"\\nSearch String:  \"beste Reiseziele für Naturliebhaber\"\\n\\nImperative Form:  \"Suche nach den Top-Sehenswürdigkeiten in Rom.\"\\nQuestion:  \"Welche sind die Top-Sehenswürdigkeiten in Rom?\"\\nSearch String:  \"Top-Sehenswürdigkeiten Rom\"\\n\\nImperative Form:  \"Finde die Top-Sehenswürdigkeiten in New York City.\"\\nQuestion:  \"Welche sind die Top-Sehenswürdigkeiten in New York City?\"\\nSearch String:  \"Top-Sehenswürdigkeiten New York City\"\\n\\nImperative Form:  \"Erstelle eine Liste mit den besten Reisezielen für Strandliebhaber.\"\\nQuestion:  \"Welche sind die besten Reiseziele für Strandliebhaber?\"\\nSearch String:  \"beste Reiseziele für Strandliebhaber\"\\n\\nImperative Form:  \"Suche nach den Top-Sehenswürdigkeiten in Tokio.\"\\nQuestion:  \"Welche sind die Top-Sehenswürdigkeiten in Tokio?\"\\nSearch String:  \"Top-Sehenswürdigkeiten Tokio\"\\n\\nImperative Form:  \"Finde die Top-Sehenswürdigkeiten in Barcelona.\"\\nQuestion:  \"Welche sind die Top-Sehenswürdigkeiten in Barcelona?\"\\nSearch String:  \"Top-Sehenswürdigkeiten Barcelona\"\\n\\nImperative Form:  \"Erstelle eine Liste mit den besten Reisezielen für Kulturinteressierte.\"\\nQuestion:  \"Welche sind die besten Reiseziele für Kulturinteressierte?\"\\nSearch String:  \"beste Reiseziele für Kulturinteressierte\"'"
      ]
     },
     "execution_count": 52,
     "metadata": {},
     "output_type": "execute_result"
    }
   ],
   "source": [
    "import pandas as pd \n",
    "\n",
    "df = pd.read_parquet(\"results_questions.parquet\")\n",
    "df[\"gen_questions\"][30]"
   ]
  },
  {
   "cell_type": "code",
   "execution_count": 69,
   "metadata": {},
   "outputs": [
    {
     "name": "stdout",
     "output_type": "stream",
     "text": [
      "Forschungsergebnisse zur Reduzierung von Müll und Abfall\n",
      "Imperative Form:  \"Finde aktuelle Forschungsergebnisse zur Müllreduzierung und Abfallvermeidung.\"\n",
      "Question:  \"Welche Forschungsergebnisse gibt es zur Reduzierung von Müll und Abfall?\"\n",
      "Search String:  \"Forschungsergebnisse Müllreduzierung Abfallvermeidung\"\n",
      "-----------------------------\n",
      "Sammle Dokumente zu Ursachen und Folgen des Klimawandels\n",
      "Imperative Form:  \"Suchen Sie nach Dokumenten, die die Ursachen des Klimawandels beschreiben.\"\n",
      "Question:  \"Welche Dokumente beschreiben die Ursachen des Klimawandels?\"\n",
      "Search String:  \"Ursachen Klimawandel Dokumente\"\n",
      "\n",
      "Imperative Form:  \"Sammeln Sie Informationen zu den Folgen des Klimawandels.\"\n",
      "Question:  \"Was sind die Folgen des Klimawandels?\"\n",
      "Search String:  \"Folgen Klimawandel\"\n",
      "\n",
      "Imperative Form:  \"Finden Sie Dokumente, die die Auswirkungen des Klimawandels auf die Umwelt beschreiben.\"\n",
      "Question:  \"Welche Dokumente beschreiben die Auswirkungen des Klimawandels auf die Umwelt?\"\n",
      "Search String:  \"Auswirkungen Klimawandel Umwelt Dokumente\"\n",
      "\n",
      "Imperative Form:  \"Suchen Sie nach Dokumenten, die die Ursachen und Folgen des Klimawandels zusammenfassen.\"\n",
      "Question:  \"Gibt es Dokumente, die die Ursachen und Folgen des Klimawandels zusammenfassen?\"\n",
      "Search String:  \"Ursachen und Folgen Klimawandel Dokumente\"\n",
      "-----------------------------\n",
      "Kulturelle und historische Informationen über Afrika\n",
      "Imperative Form:  \"Erkunde die kulturellen und historischen Hintergründe Afrikas.\"\n",
      "Question:  \"Was sind die kulturellen und historischen Hintergründe Afrikas?\"\n",
      "Search String:  \"kulturelle und historische Informationen Afrika\"\n",
      "-----------------------------\n"
     ]
    }
   ],
   "source": [
    "samples = df.dropna(subset=\"gen_questions\").iloc[:7*32].sample(3)\n",
    "for sample in samples[\"gen_questions\"]:\n",
    "    print(sample)\n",
    "    print(\"-----------------------------\")"
   ]
  }
 ],
 "metadata": {
  "kernelspec": {
   "display_name": "qnovi_app",
   "language": "python",
   "name": "python3"
  },
  "language_info": {
   "codemirror_mode": {
    "name": "ipython",
    "version": 3
   },
   "file_extension": ".py",
   "mimetype": "text/x-python",
   "name": "python",
   "nbconvert_exporter": "python",
   "pygments_lexer": "ipython3",
   "version": "3.11.7"
  }
 },
 "nbformat": 4,
 "nbformat_minor": 2
}
