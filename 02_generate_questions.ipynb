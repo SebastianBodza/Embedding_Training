{
 "cells": [
  {
   "cell_type": "markdown",
   "metadata": {},
   "source": [
    "# Fragen erzeugen als search string, Question und imperativ question"
   ]
  },
  {
   "cell_type": "code",
   "execution_count": 41,
   "metadata": {},
   "outputs": [],
   "source": [
    "prompt = \"\"\"You are a Data Scientist wanting to generate a Dataset for Training an Embedding model for retreival tasks. Therefore in the first step generate an instruction, question or search string with the topic:\n",
    "{TOPICCC}\n",
    "Generate the questions/searchstring/instruction in the following form:\n",
    "Imperative Form: \"Bestimme das Jahr, in dem das Apple File System (APFS) von Apple vorgestellt wurde.\"\n",
    "Question: \"In welchem Jahr wurde das Apple File System (APFS) von Apple vorgestellt?\"\n",
    "Search String: \"Jahr Apple File System (APFS) vorgestellt\"\n",
    "\n",
    "Generate the question/instruction/searchstring in german and do not use \"Sie\"\n",
    "\"\"\"\n",
    "\n",
    "response_template =\"Imperative Form:\""
   ]
  },
  {
   "cell_type": "code",
   "execution_count": 50,
   "metadata": {},
   "outputs": [],
   "source": [
    "import pandas as pd \n",
    "import numpy as np \n",
    "\n",
    "df = pd.read_parquet(\"results_parsed.parquet\")\n",
    "df = df.explode(column=\"questions\")\n",
    "df.reset_index(inplace=True)\n",
    "df[\"gen_questions\"] = np.nan"
   ]
  },
  {
   "cell_type": "code",
   "execution_count": 20,
   "metadata": {},
   "outputs": [
    {
     "name": "stdout",
     "output_type": "stream",
     "text": [
      "WARNING 01-25 10:05:24 config.py:457] Casting torch.bfloat16 to torch.float16.\n",
      "WARNING 01-25 10:05:24 config.py:175] gptq quantization is not fully optimized yet. The speed can be slower than non-quantized models.\n"
     ]
    },
    {
     "name": "stderr",
     "output_type": "stream",
     "text": [
      "2024-01-25 10:05:26,854\tINFO worker.py:1724 -- Started a local Ray instance.\n"
     ]
    },
    {
     "name": "stdout",
     "output_type": "stream",
     "text": [
      "INFO 01-25 10:05:27 llm_engine.py:70] Initializing an LLM engine with config: model='TheBloke/Mixtral-8x7B-Instruct-v0.1-GPTQ', tokenizer='TheBloke/Mixtral-8x7B-Instruct-v0.1-GPTQ', tokenizer_mode=auto, revision=gptq-4bit-32g-actorder_True, tokenizer_revision=None, trust_remote_code=False, dtype=torch.float16, max_seq_len=2000, download_dir=None, load_format=auto, tensor_parallel_size=2, quantization=gptq, enforce_eager=False, seed=0)\n",
      "INFO 01-25 10:05:36 llm_engine.py:275] # GPU blocks: 3497, # CPU blocks: 4096\n",
      "INFO 01-25 10:05:36 model_runner.py:501] Capturing the model for CUDA graphs. This may lead to unexpected consequences if the model is not static. To run the model in eager mode, set 'enforce_eager=True' or use '--enforce-eager' in the CLI.\n",
      "INFO 01-25 10:05:36 model_runner.py:505] CUDA graphs can take additional 1~3 GiB memory per GPU. If you are running out of memory, consider decreasing `gpu_memory_utilization` or enforcing eager mode.\n",
      "\u001b[36m(RayWorkerVllm pid=484370)\u001b[0m INFO 01-25 10:05:36 model_runner.py:501] Capturing the model for CUDA graphs. This may lead to unexpected consequences if the model is not static. To run the model in eager mode, set 'enforce_eager=True' or use '--enforce-eager' in the CLI.\n",
      "\u001b[36m(RayWorkerVllm pid=484370)\u001b[0m INFO 01-25 10:05:36 model_runner.py:505] CUDA graphs can take additional 1~3 GiB memory per GPU. If you are running out of memory, consider decreasing `gpu_memory_utilization` or enforcing eager mode.\n"
     ]
    },
    {
     "name": "stderr",
     "output_type": "stream",
     "text": [
      "\u001b[36m(RayWorkerVllm pid=484370)\u001b[0m [W CUDAGraph.cpp:145] Warning: Waiting for pending NCCL work to finish before starting graph capture. (function operator())\n",
      "[W CUDAGraph.cpp:145] Warning: Waiting for pending NCCL work to finish before starting graph capture. (function operator())\n"
     ]
    },
    {
     "name": "stdout",
     "output_type": "stream",
     "text": [
      "INFO 01-25 10:06:11 model_runner.py:547] Graph capturing finished in 35 secs.\n"
     ]
    },
    {
     "name": "stdout",
     "output_type": "stream",
     "text": [
      "\u001b[36m(RayWorkerVllm pid=484370)\u001b[0m INFO 01-25 10:06:11 model_runner.py:547] Graph capturing finished in 35 secs.\n"
     ]
    }
   ],
   "source": [
    "import torch \n",
    "import vllm \n",
    "import pandas as pd \n",
    "from vllm import SamplingParams\n",
    "from transformers import AutoTokenizer\n",
    "\n",
    "model_name = \"TheBloke/Mixtral-8x7B-Instruct-v0.1-GPTQ\"\n",
    "sampling_params = SamplingParams(temperature=0.1, max_tokens=4000)\n",
    "tokenizer = AutoTokenizer.from_pretrained(model_name, use_fast=True)\n",
    "llm = vllm.LLM(model=model_name, quantization=\"gptq\", dtype=torch.float16, tensor_parallel_size=2, max_model_len=2000, revision=\"gptq-4bit-32g-actorder_True\", gpu_memory_utilization=0.75)"
   ]
  },
  {
   "cell_type": "code",
   "execution_count": 53,
   "metadata": {},
   "outputs": [
    {
     "name": "stderr",
     "output_type": "stream",
     "text": [
      "Processed prompts: 100%|██████████| 32/32 [00:27<00:00,  1.18it/s]\n",
      "/tmp/ipykernel_482342/3119270112.py:17: FutureWarning: Setting an item of incompatible dtype is deprecated and will raise in a future error of pandas. Value '['Imperative Form: \"Ermittle das Waffengesetz für die AK-47 in Deutschland.\"\\nQuestion: \"Welches ist das Waffengesetz für die AK-47 in Deutschland?\"\\nSearch String: \"Waffengesetz AK-47 Deutschland\"', 'Imperative Form: \"Vergleiche die Eigenschaften des AK-47 mit anderen Sturmgewehren!\"\\n\\nQuestion: \"Wie unterscheidet sich das AK-47 von anderen Sturmgewehren?\"\\n\\nSearch String: \"Vergleich AK-47 mit anderen Sturmgewehren\"', 'Imperative Form: \"Ermittle den historischen Hintergrund der AK-47!\"\\n\\nQuestion: \"Welchen historischen Hintergrund hat die AK-47?\"\\n\\nSearch String: \"Historischer Hintergrund AK-47\"', 'Imperative Form: \"Ermittle die technischen Daten der AK-47!\"\\n\\nQuestion: \"Welche sind die technischen Daten der AK-47?\"\\n\\nSearch String: \"technische Daten AK-47\"', 'Imperative Form: \"Ermittle die Konflikte, in denen die AK-47 eingesetzt wurde.\"\\nQuestion: \"In welchen Konflikten wurde die AK-47 eingesetzt?\"\\nSearch String: \"Konflikte wo AK-47 eingesetzt\"\\n\\nImperative Form: \"Untersuche die Verbreitung der AK-47 in verschiedenen Konflikten.\"\\nQuestion: \"Wie verbreitet ist die AK-47 in verschiedenen Konflikten?\"\\nSearch String: \"Verbreitung AK-47 in Konflikten\"\\n\\nImperative Form: \"Analysiere die Bedeutung der AK-47 in Bürgerkriegen.\"\\nQuestion: \"Welche Bedeutung hat die AK-47 in Bürgerkriegen?\"\\nSearch String: \"Bedeutung AK-47 in Bürgerkriegen\"\\n\\nImperative Form: \"Beschreibe die Rolle der AK-47 in modernen Konflikten.\"\\nQuestion: \"Welche Rolle spielt die AK-47 in modernen Konflikten?\"\\nSearch String: \"Rolle AK-47 in modernen Konflikten\"\\n\\nImperative Form: \"Vergleiche die AK-47 mit anderen Sturmgewehren in Konflikten.\"\\nQuestion: \"Wie unterscheidet sich die AK-47 von anderen Sturmgewehren in Konflikten?\"\\nSearch String: \"Vergleich AK-47 mit anderen Sturmgewehren in Konflikten\"', 'Imperative Form: \"Erstelle eine Liste mit den derzeitigen Produkten von ALDI Nord.\"\\nQuestion: \"Welche Produkte werden derzeit von ALDI Nord angeboten?\"\\nSearch String: \"ALDI Nord aktuelles Produktangebot\"\\n\\nImperative Form: \"Sammle Informationen über die verschiedenen Obst- und Gemüsesorten, die von ALDI Nord angeboten werden.\"\\nQuestion: \"Welche Obst- und Gemüsesorten werden von ALDI Nord angeboten?\"\\nSearch String: \"ALDI Nord Obst und Gemüsesorten\"\\n\\nImperative Form: \"Analysiere die Preisentwicklung von ALDI Nord für eine bestimmte Produktkategorie.\"\\nQuestion: \"Wie haben sich die Preise von ALDI Nord für eine bestimmte Produktkategorie im Laufe der Zeit entwickelt?\"\\nSearch String: \"ALDI Nord Preisentwicklung Produktkategorie\"\\n\\nImperative Form: \"Vergleiche die Preise von ALDI Nord und LIDL für eine bestimmte Produktkategorie.\"\\nQuestion: \"Wie vergleichen sich die Preise von ALDI Nord und LIDL für eine bestimmte Produktkategorie?\"\\nSearch String: \"ALDI Nord vs LIDL Preisvergleich Produktkategorie\"\\n\\nImperative Form: \"Ermittle die beliebtesten Produkte von ALDI Nord in einer bestimmten Region.\"\\nQuestion: \"Welche sind die beliebtesten Produkte von ALDI Nord in einer bestimmten Region?\"\\nSearch String: \"ALDI Nord beliebteste Produkte Region\"', 'Imperative Form: \"Ermittle die ALDI Nord Filialen in einer bestimmten Region.\"\\nQuestion: \"Welche sind die ALDI Nord Filialen in einer bestimmten Region?\"\\nSearch String: \"ALDI Nord Filialen in einer bestimmten Region\"', 'Imperative Form: \"Ermittle die Öffnungszeiten der ALDI-Nord Filialen.\"\\nQuestion: \"Welche sind die Öffnungszeiten von ALDI-Nord Filialen?\"\\nSearch String: \"Öffnungszeiten ALDI-Nord Filialen\"', 'Imperative Form: \"Suchen Sie nach ALDI Nord Prospekten und Angeboten aus dem Jahr 2022.\"\\nQuestion: \"In welchem Jahr wurden die ALDI Nord Prospekte und Angebote eingeführt?\"\\nSearch String: \"ALDI Nord Prospekte und Angebote Jahr 2022\"', 'Imperative Form: \"Ermittle das Gründungsjahr von ALDI-Nord.\"\\nQuestion: \"In welchem Jahr wurde ALDI-Nord gegründet?\"\\nSearch String: \"Gründungsjahr ALDI-Nord\"', 'Imperative Form: \"Erstelle eine Liste mit den aktuellen Produkten von ALDI-Süd.\"\\nQuestion: \"Welche sind die aktuellen Produkte, die von ALDI-Süd angeboten werden?\"\\nSearch String: \"aktuelle Produkte ALDI-Süd\"', 'Imperative Form: \"Ermittle die ALDI-Süd Filialen in einer bestimmten Region.\"\\nQuestion: \"Welche sind die ALDI-Süd Filialen in einer bestimmten Region?\"\\nSearch String: \"ALDI-Süd Filialen in einer Region finden\"\\n\\nNote: In the provided examples, I have used the word \"bestimmte\" which means \"specific\" or \"certain\" to indicate that the user should specify the region of interest.', 'Imperative Form: \"Ermittle die Öffnungszeiten von ALDI-Süd Filialen.\"\\nQuestion: \"Wann haben ALDI-Süd Filialen geöffnet?\"\\nSearch String: \"Öffnungszeiten ALDI-Süd Filialen\"', 'Imperative Form: \"Suchen Sie nach ALDI-Süd Prospekten und Angeboten aus dem Jahr 2022.\"\\nQuestion: \"In welchem Jahr wurden die ALDI-Süd Prospekte und Angebote eingeführt?\"\\nSearch String: \"ALDI-Süd Prospekte und Angebote Jahr 2022\"', 'Imperative Form: \"Ermittle das Gründungsjahr von ALDI-Süd.\"\\nQuestion: \"In welchem Jahr wurde ALDI-Süd gegründet?\"\\nSearch String: \"Gründungsjahr ALDI-Süd\"', 'Imperative Form: \"Gib die Kaffeesorten und ihre Herkunftsländer an!\"\\nQuestion: \"Welche sind die Kaffeesorten und ihre Herkunftsländer?\"\\nSearch String: \"Kaffeesorten und Herkunftsländer\"', 'Imperative Form: \"Erkläre verschiedene Methoden zur Kaffeezubereitung.\"\\nQuestion: \"Welche verschiedenen Methoden gibt es zur Zubereitung von Kaffee?\"\\nSearch String: \"Methoden Kaffeezubereitung\"', 'Imperative Form: \"Ermittle die gesundheitlichen Wirkungen von Kaffee!\"\\nQuestion: \"Welche gesundheitlichen Wirkungen hat Kaffee?\"\\nSearch String: \"gesundheitliche Wirkungen Kaffee\"\\n\\n(Note: The above prompts are in German and are asking for information about the health effects of coffee.)', 'Imperative Form: \"Ermittle das Jahr der nachhaltigen Kaffee-Anbauweise \\'Regenerative Agriculture\\'!\"\\n\\nQuestion: \"In welchem Jahr wurde die nachhaltige Kaffee-Anbauweise \\'Regenerative Agriculture\\' entwickelt?\"\\n\\nSearch String: \"Jahr nachhaltiger Anbau Kaffee Regenerative Agriculture\"', 'Imperative Form: \"Ermittle das Jahr, in dem der Kaffee-Preis seinen Höchststand erreichte.\"\\nQuestion: \"In welchem Jahr erreichte der Kaffee-Preis seinen Höchststand?\"\\nSearch String: \"Jahr Kaffee-Preis Höchststand\"', 'Imperative Form: \"Gib die verschiedenen Fahrradtypen und ihre Einsatzzwecke an.\"\\nQuestion: \"Welche sind die verschiedenen Fahrradtypen und ihre Einsatzzwecke?\"\\nSearch String: \"Fahrradtypen und Einsatzzwecke\"', 'Imperative Form: \"Beschreibe die Funktionsweise von Fahrradbremsen.\"\\nQuestion: \"Wie funktionieren Fahrradbremsen?\"\\nSearch String: \"Funktionsweise Fahrradbremsen\"', 'Imperative Form: \"Erkläre, wie man ein Fahrrad richtig pflegt und wartet.\"\\nQuestion: \"Wie pflegt und wartet man ein Fahrrad richtig?\"\\nSearch String: \"Fahrradpflege und Wartung Anleitung\"', 'Imperative Form: \"Finde die besten Fahrradtouren in den Alpen heraus.\"\\nQuestion: \"Welches sind die besten Fahrradtouren in den Alpen?\"\\nSearch String: \"beste Fahrradtouren Alpen\"', 'Imperative Form: \"Gibt die Fahrradgesetze und Verkehrsregeln in Deutschland wieder.\"\\nQuestion: \"Welches sind die Fahrradgesetze und Verkehrsregeln in Deutschland?\"\\nSearch String: \"Fahrradgesetze und Verkehrsregeln Deutschland\"', 'Imperative Form: \"Gib die beliebtesten Buchgenres und zugehörigen Autoren aus!\"\\nQuestion: \"Welche sind die beliebtesten Buchgenres und die zugehörigen Autoren?\"\\nSearch String: \"Beliebteste Buchgenres und Autoren\"', 'Imperative Form: \"Erstelle ein Modell zur Kategorisierung von Buchrezensionen und Empfehlungen.\"\\nQuestion: \"Welche Bücher können anhand von Rezensionen und Empfehlungen kategorisiert werden?\"\\nSearch String: \"Buchkategorisierung durch Rezensionen und Empfehlungen\"', 'Imperative Form: \"Ermittle das Jahr, in dem die Buchverfilmung \\'Der Herr der Ringe\\' erschienen ist.\"\\nQuestion: \"In welchem Jahr ist die Buchverfilmung \\'Der Herr der Ringe\\' erschienen?\"\\nSearch String: \"Jahr Buchverfilmung Herr der Ringe\"\\n\\nImperative Form: \"Erstelle eine Liste von Filmen, die auf Büchern von Stephen King basieren.\"\\nQuestion: \"Welche Filme basieren auf Büchern von Stephen King?\"\\nSearch String: \"Filme basierend auf Büchern von Stephen King\"\\n\\nImperative Form: \"Vergleiche die Handlung der Buchvorlage und der Verfilmung von \\'Der große Gatsby\\'.\"\\nQuestion: \"Wie unterscheidet sich die Handlung der Buchvorlage und der Verfilmung von \\'Der große Gatsby\\'?\"\\nSearch String: \"Handlungsunterschiede Buchvorlage und Verfilmung Der große Gatsby\"\\n\\nImperative Form: \"Finde heraus, welche Änderungen im Vergleich zum Buch in der Verfilmung von \\'Harry Potter und der Stein der Weisen\\' vorgenommen wurden.\"\\nQuestion: \"Welche Änderungen gibt es in der Verfilmung von \\'Harry Potter und der Stein der Weisen\\' im Vergleich zum Buch?\"\\nSearch String: \"Änderungen Verfilmung Harry Potter und der Stein der Weisen Buch\"\\n\\nImperative Form: \"Suche nach Kritiken zur Verfilmung von \\'Die Verwandlung\\' von Franz Kafka.\"\\nQuestion: \"Wie wurden die Kritiken zur Verfilmung von \\'Die Verwandlung\\' von Franz Kafka bewertet?\"\\nSearch String: \"Kritiken Verfilmung Die Verwandlung Franz Kafka\"', 'Imperative Form: \"Suchen Sie nach Buchclubs und Lesegruppen in Ihrer Nähe!\"\\nQuestion: \"Wo kann man Buchclubs und Lesegruppen in meiner Nähe finden?\"\\nSearch String: \"Buchclubs und Lesegruppen in meiner Nähe\"', 'Imperative Form: \"Erstelle eine Liste der Top 10 Buchpreise und Bestseller in Deutschland im Jahr 2020.\"\\nQuestion: \"In welchem Jahr waren die Top 10 Buchpreise und Bestseller in Deutschland die folgenden?\" (Followed by a list of the top 10 books)\\nSearch String: \"Top 10 Buchpreise und Bestseller Deutschland 2020\"', 'Imperative Form: \"Gib mir eine Liste von beliebten Reisezielen und ihren Sehenswürdigkeiten.\"\\nQuestion: \"Welche sind beliebte Reiseziele und ihre Sehenswürdigkeiten?\"\\nSearch String: \"Beliebte Reiseziele und Sehenswürdigkeiten\"', 'Imperative Form: \"Lege eine Routine für die Reiseplanung und -organisation fest.\"\\nQuestion: \"In welchem Jahr wurde das Apple File System (APFS) von Apple vorgestellt?\"\\nSearch String: \"Jahr Apple File System (APFS) vorgestellt\"\\n\\nImperative Form: \"Erstelle eine Liste mit notwendigen Dokumenten für eine internationale Reise.\"\\nQuestion: \"Welche Dokumente werden für eine internationale Reise benötigt?\"\\nSearch String: \"Notwendige Dokumente für internationale Reise\"\\n\\nImperative Form: \"Entwickele ein Budget für eine Reise nach Japan.\"\\nQuestion: \"Wie kann man ein Budget für eine Reise nach Japan erstellen?\"\\nSearch String: \"Budget erstellen für Reise nach Japan\"\\n\\nImperative Form: \"Vergleiche die Kosten für Flüge und Unterkünfte in Tokio und Kyoto.\"\\nQuestion: \"Was kosten Flüge und Unterkünfte in Tokio und Kyoto im Vergleich?\"\\nSearch String: \"Kosten Flüge und Unterkünfte Tokio Kyoto Vergleich\"\\n\\nImperative Form: \"Erstelle eine Checkliste für das Reisegepäck.\"\\nQuestion: \"Was sollte in eine Reisegepäck-Checkliste aufgenommen werden?\"\\nSearch String: \"Reisegepäck Checkliste\"\\n\\nImperative Form: \"Finde heraus, welche Impfungen für eine Reise nach Thailand notwendig sind.\"\\nQuestion: \"Welche Impfungen werden für eine Reise nach Thailand benötigt?\"\\nSearch String: \"Notwendige Impfungen für Reise nach Thailand\"\\n\\nImperative Form: \"Erstelle eine Tagesplanung für einen Sightseeing-Tag in Rom.\"\\nQuestion: \"Wie kann man einen Tagesplan für Sightseeing in Rom erstellen?\"\\nSearch String: \"Tagesplanung Sightseeing Rom\"\\n\\nImperative Form: \"Vergleiche die Kosten für eine Reise mit dem Zug oder dem Flugzeug von Berlin nach München.\"\\nQuestion: \"Was kostet eine Reise mit dem Zug oder dem Flugzeug von Berlin nach München im Vergleich?\"\\nSearch String: \"Kosten Zug Flugzeug Berlin München Vergleich\"\\n\\nImperative Form: \"Finde heraus, welche Währung in Japan verwendet wird.\"\\nQuestion: \"Welche Währung wird in Japan verwendet?\"\\nSearch String: \"Währung in Japan\"\\n\\nImperative Form: \"Erstelle eine Reiseroute für einen Roadtrip durch die USA.\"\\nQuestion: \"Wie kann man eine Reiseroute für einen Roadtrip durch die USA erstellen?\"\\nSearch String: \"Reiseroute Roadtrip USA\"']' has dtype incompatible with float64, please explicitly cast to a compatible dtype first.\n",
      "  df.loc[batches.index, 'gen_questions'] = results_adj\n",
      "Processed prompts: 100%|██████████| 32/32 [00:22<00:00,  1.42it/s]\n",
      "Processed prompts: 100%|██████████| 32/32 [00:32<00:00,  1.00s/it]\n",
      "Processed prompts: 100%|██████████| 32/32 [00:26<00:00,  1.19it/s]\n",
      "Processed prompts: 100%|██████████| 32/32 [00:30<00:00,  1.04it/s]\n",
      "Processed prompts: 100%|██████████| 32/32 [00:29<00:00,  1.10it/s]\n",
      "Processed prompts: 100%|██████████| 32/32 [00:24<00:00,  1.28it/s]\n",
      "Processed prompts: 100%|██████████| 32/32 [00:28<00:00,  1.12it/s]\n",
      "Processed prompts: 100%|██████████| 32/32 [00:23<00:00,  1.39it/s]\n",
      "  0%|          | 9/2583 [04:05<18:52:04, 26.39s/it]"
     ]
    }
   ],
   "source": [
    "from tqdm import tqdm \n",
    "\n",
    "def generate_prompt(questions):\n",
    "    formatted_prompt = tokenizer.apply_chat_template(conversation=[{\"role\": \"user\", \"content\":prompt.replace(\"{TOPICCC}\", questions)},{\"role\": \"assistant\", \"content\":response_template}], tokenize=False)\n",
    "    formatted_prompt = formatted_prompt.removesuffix(\"</s>\")\n",
    "    return formatted_prompt\n",
    "\n",
    "BATCH_SIZE = 32\n",
    "\n",
    "for i in tqdm(range(0, len(df), BATCH_SIZE)):\n",
    "    batches = df[\"questions\"].iloc[i:i+BATCH_SIZE]\n",
    "    formatted_prompt =[generate_prompt(batch) for batch in batches]\n",
    "    results = llm.generate(formatted_prompt, sampling_params=sampling_params)\n",
    "    results_adj = [result.prompt.split(\"[/INST]\")[-1]+ result.outputs[0].text for result in results]\n",
    "    df.loc[batches.index, 'gen_questions'] = results_adj\n",
    "    df.to_parquet(\"results_questions.parquet\")   \n"
   ]
  }
 ],
 "metadata": {
  "kernelspec": {
   "display_name": "qnovi_app",
   "language": "python",
   "name": "python3"
  },
  "language_info": {
   "codemirror_mode": {
    "name": "ipython",
    "version": 3
   },
   "file_extension": ".py",
   "mimetype": "text/x-python",
   "name": "python",
   "nbconvert_exporter": "python",
   "pygments_lexer": "ipython3",
   "version": "3.11.7"
  }
 },
 "nbformat": 4,
 "nbformat_minor": 2
}
